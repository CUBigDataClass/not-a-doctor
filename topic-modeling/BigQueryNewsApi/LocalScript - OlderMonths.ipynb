{
 "cells": [
  {
   "cell_type": "code",
   "execution_count": 2,
   "metadata": {},
   "outputs": [],
   "source": [
    "import pandas as pd \n",
    "from datetime import date\n",
    "from google.cloud import bigquery"
   ]
  },
  {
   "cell_type": "code",
   "execution_count": 3,
   "metadata": {},
   "outputs": [],
   "source": [
    "date = '01-22-2020'\n",
    "url = 'https://raw.githubusercontent.com/CSSEGISandData/COVID-19/master/csse_covid_19_data/csse_covid_19_daily_reports/'+date+'.csv'\n",
    "tempdf = pd.read_csv(url, error_bad_lines=False)"
   ]
  },
  {
   "cell_type": "code",
   "execution_count": 434,
   "metadata": {},
   "outputs": [
    {
     "name": "stdout",
     "output_type": "stream",
     "text": [
      "38\n",
      "Index(['Province/State', 'Country/Region', 'Last Update', 'Confirmed',\n",
      "       'Deaths', 'Recovered'],\n",
      "      dtype='object')\n",
      "Index(['Province_State', 'Country_Region', 'Last_Update', 'Confirmed',\n",
      "       'Deaths', 'Recovered'],\n",
      "      dtype='object')\n"
     ]
    }
   ],
   "source": [
    "print(len(tempdf))\n",
    "print(tempdf.columns)\n",
    "tempdf = tempdf.rename(columns={\"Province/State\": \"Province_State\", \"Country/Region\": \"Country_Region\", \"Last Update\": \"Last_Update\", \"Confirmed\": \"Confirmed\", \"Deaths\": \"Deaths\", \"Recovered\": \"Recovered\"})\n",
    "print(tempdf.columns)\n",
    "# print(\"Before Temp na:\",tempdf.isna().sum())\n",
    "tempdf = tempdf.fillna('0')\n",
    "# print(\"After Temp na:\",tempdf.isna().sum())"
   ]
  },
  {
   "cell_type": "code",
   "execution_count": 435,
   "metadata": {},
   "outputs": [
    {
     "name": "stdout",
     "output_type": "stream",
     "text": [
      "38\n",
      "Index(['Province_State', 'Country_Region', 'Last_Update', 'Confirmed',\n",
      "       'Deaths', 'Recovered'],\n",
      "      dtype='object')\n"
     ]
    },
    {
     "data": {
      "text/html": [
       "<div>\n",
       "<style scoped>\n",
       "    .dataframe tbody tr th:only-of-type {\n",
       "        vertical-align: middle;\n",
       "    }\n",
       "\n",
       "    .dataframe tbody tr th {\n",
       "        vertical-align: top;\n",
       "    }\n",
       "\n",
       "    .dataframe thead th {\n",
       "        text-align: right;\n",
       "    }\n",
       "</style>\n",
       "<table border=\"1\" class=\"dataframe\">\n",
       "  <thead>\n",
       "    <tr style=\"text-align: right;\">\n",
       "      <th></th>\n",
       "      <th>Province_State</th>\n",
       "      <th>Country_Region</th>\n",
       "      <th>Last_Update</th>\n",
       "      <th>Confirmed</th>\n",
       "      <th>Deaths</th>\n",
       "      <th>Recovered</th>\n",
       "      <th>Combined_Key</th>\n",
       "      <th>Date_uploaded</th>\n",
       "    </tr>\n",
       "  </thead>\n",
       "  <tbody>\n",
       "    <tr>\n",
       "      <th>0</th>\n",
       "      <td>Anhui</td>\n",
       "      <td>Mainland China</td>\n",
       "      <td>1/22/2020 17:00</td>\n",
       "      <td>1.0</td>\n",
       "      <td>0.0</td>\n",
       "      <td>0.0</td>\n",
       "      <td>Anhui, Mainland China</td>\n",
       "      <td>01-22-2020</td>\n",
       "    </tr>\n",
       "    <tr>\n",
       "      <th>1</th>\n",
       "      <td>Beijing</td>\n",
       "      <td>Mainland China</td>\n",
       "      <td>1/22/2020 17:00</td>\n",
       "      <td>14.0</td>\n",
       "      <td>0.0</td>\n",
       "      <td>0.0</td>\n",
       "      <td>Beijing, Mainland China</td>\n",
       "      <td>01-22-2020</td>\n",
       "    </tr>\n",
       "    <tr>\n",
       "      <th>2</th>\n",
       "      <td>Chongqing</td>\n",
       "      <td>Mainland China</td>\n",
       "      <td>1/22/2020 17:00</td>\n",
       "      <td>6.0</td>\n",
       "      <td>0.0</td>\n",
       "      <td>0.0</td>\n",
       "      <td>Chongqing, Mainland China</td>\n",
       "      <td>01-22-2020</td>\n",
       "    </tr>\n",
       "    <tr>\n",
       "      <th>3</th>\n",
       "      <td>Fujian</td>\n",
       "      <td>Mainland China</td>\n",
       "      <td>1/22/2020 17:00</td>\n",
       "      <td>1.0</td>\n",
       "      <td>0.0</td>\n",
       "      <td>0.0</td>\n",
       "      <td>Fujian, Mainland China</td>\n",
       "      <td>01-22-2020</td>\n",
       "    </tr>\n",
       "    <tr>\n",
       "      <th>4</th>\n",
       "      <td>Gansu</td>\n",
       "      <td>Mainland China</td>\n",
       "      <td>1/22/2020 17:00</td>\n",
       "      <td>0.0</td>\n",
       "      <td>0.0</td>\n",
       "      <td>0.0</td>\n",
       "      <td>Gansu, Mainland China</td>\n",
       "      <td>01-22-2020</td>\n",
       "    </tr>\n",
       "  </tbody>\n",
       "</table>\n",
       "</div>"
      ],
      "text/plain": [
       "  Province_State  Country_Region      Last_Update  Confirmed  Deaths  \\\n",
       "0          Anhui  Mainland China  1/22/2020 17:00        1.0     0.0   \n",
       "1        Beijing  Mainland China  1/22/2020 17:00       14.0     0.0   \n",
       "2      Chongqing  Mainland China  1/22/2020 17:00        6.0     0.0   \n",
       "3         Fujian  Mainland China  1/22/2020 17:00        1.0     0.0   \n",
       "4          Gansu  Mainland China  1/22/2020 17:00        0.0     0.0   \n",
       "\n",
       "   Recovered               Combined_Key Date_uploaded  \n",
       "0        0.0      Anhui, Mainland China    01-22-2020  \n",
       "1        0.0    Beijing, Mainland China    01-22-2020  \n",
       "2        0.0  Chongqing, Mainland China    01-22-2020  \n",
       "3        0.0     Fujian, Mainland China    01-22-2020  \n",
       "4        0.0      Gansu, Mainland China    01-22-2020  "
      ]
     },
     "execution_count": 435,
     "metadata": {},
     "output_type": "execute_result"
    }
   ],
   "source": [
    "tempdf.to_csv('cov.csv',encoding='utf-8')\n",
    "finaldf = pd.read_csv('cov.csv',usecols=['Province_State','Country_Region','Last_Update','Confirmed','Deaths','Recovered'],encoding='utf-8')\n",
    "print(len(finaldf))\n",
    "print(finaldf.columns)\n",
    "finaldf['Combined_Key'] = finaldf['Province_State']+', '+finaldf['Country_Region']\n",
    "finaldf['Date_uploaded'] = date\n",
    "finaldf.head()"
   ]
  },
  {
   "cell_type": "code",
   "execution_count": 436,
   "metadata": {},
   "outputs": [
    {
     "data": {
      "text/plain": [
       "Province_State     object\n",
       "Country_Region     object\n",
       "Last_Update        object\n",
       "Confirmed         float64\n",
       "Deaths            float64\n",
       "Recovered         float64\n",
       "Combined_Key       object\n",
       "Date_uploaded      object\n",
       "dtype: object"
      ]
     },
     "execution_count": 436,
     "metadata": {},
     "output_type": "execute_result"
    }
   ],
   "source": [
    "finaldf.dtypes"
   ]
  },
  {
   "cell_type": "code",
   "execution_count": 437,
   "metadata": {},
   "outputs": [],
   "source": [
    "finaldf.Confirmed = finaldf.Confirmed.astype('int64') \n",
    "finaldf.Deaths = finaldf.Deaths.astype('int64') \n",
    "finaldf.Recovered = finaldf.Recovered.astype('int64') "
   ]
  },
  {
   "cell_type": "code",
   "execution_count": 438,
   "metadata": {},
   "outputs": [
    {
     "data": {
      "text/plain": [
       "Province_State    object\n",
       "Country_Region    object\n",
       "Last_Update       object\n",
       "Confirmed          int64\n",
       "Deaths             int64\n",
       "Recovered          int64\n",
       "Combined_Key      object\n",
       "Date_uploaded     object\n",
       "dtype: object"
      ]
     },
     "execution_count": 438,
     "metadata": {},
     "output_type": "execute_result"
    }
   ],
   "source": [
    "finaldf.dtypes"
   ]
  },
  {
   "cell_type": "code",
   "execution_count": 439,
   "metadata": {},
   "outputs": [
    {
     "name": "stderr",
     "output_type": "stream",
     "text": [
      "1it [00:03,  3.34s/it]\n"
     ]
    }
   ],
   "source": [
    "finaldf.to_gbq(destination_table='<tablename>',project_id='<projectid>',if_exists='append')"
   ]
  },
  {
   "cell_type": "code",
   "execution_count": null,
   "metadata": {},
   "outputs": [],
   "source": []
  }
 ],
 "metadata": {
  "kernelspec": {
   "display_name": "Python 3",
   "language": "python",
   "name": "python3"
  },
  "language_info": {
   "codemirror_mode": {
    "name": "ipython",
    "version": 3
   },
   "file_extension": ".py",
   "mimetype": "text/x-python",
   "name": "python",
   "nbconvert_exporter": "python",
   "pygments_lexer": "ipython3",
   "version": "3.7.3"
  }
 },
 "nbformat": 4,
 "nbformat_minor": 2
}
