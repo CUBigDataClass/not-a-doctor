{
 "cells": [
  {
   "cell_type": "code",
   "execution_count": 1,
   "metadata": {},
   "outputs": [],
   "source": [
    "import pandas as pd \n",
    "from datetime import date\n",
    "from google.cloud import bigquery"
   ]
  },
  {
   "cell_type": "code",
   "execution_count": 2,
   "metadata": {},
   "outputs": [],
   "source": [
    "date = '04-18-2020'\n",
    "url = 'https://raw.githubusercontent.com/CSSEGISandData/COVID-19/master/csse_covid_19_data/csse_covid_19_daily_reports/'+date+'.csv'\n",
    "tempdf = pd.read_csv(url, error_bad_lines=False)"
   ]
  },
  {
   "cell_type": "code",
   "execution_count": 3,
   "metadata": {},
   "outputs": [
    {
     "name": "stdout",
     "output_type": "stream",
     "text": [
      "3053\n",
      "Index(['FIPS', 'Admin2', 'Province_State', 'Country_Region', 'Last_Update',\n",
      "       'Lat', 'Long_', 'Confirmed', 'Deaths', 'Recovered', 'Active',\n",
      "       'Combined_Key'],\n",
      "      dtype='object')\n"
     ]
    }
   ],
   "source": [
    "print(len(tempdf))\n",
    "print(tempdf.columns)\n",
    "# print(\"Before Temp na:\",tempdf.isna().sum())\n",
    "tempdf = tempdf.fillna('0')\n",
    "# print(\"After Temp na:\",tempdf.isna().sum())\n",
    "tempdf.to_csv('covid.csv',encoding='utf-8')\n",
    "finaldf = pd.read_csv('covid.csv',usecols=['Admin2','Province_State','Country_Region','Last_Update','Lat','Long_','Confirmed','Deaths','Recovered','Active','Combined_Key'],encoding='utf-8')"
   ]
  },
  {
   "cell_type": "code",
   "execution_count": 4,
   "metadata": {},
   "outputs": [
    {
     "name": "stdout",
     "output_type": "stream",
     "text": [
      "3053\n"
     ]
    },
    {
     "data": {
      "text/html": [
       "<div>\n",
       "<style scoped>\n",
       "    .dataframe tbody tr th:only-of-type {\n",
       "        vertical-align: middle;\n",
       "    }\n",
       "\n",
       "    .dataframe tbody tr th {\n",
       "        vertical-align: top;\n",
       "    }\n",
       "\n",
       "    .dataframe thead th {\n",
       "        text-align: right;\n",
       "    }\n",
       "</style>\n",
       "<table border=\"1\" class=\"dataframe\">\n",
       "  <thead>\n",
       "    <tr style=\"text-align: right;\">\n",
       "      <th></th>\n",
       "      <th>Admin2</th>\n",
       "      <th>Province_State</th>\n",
       "      <th>Country_Region</th>\n",
       "      <th>Last_Update</th>\n",
       "      <th>Lat</th>\n",
       "      <th>Long_</th>\n",
       "      <th>Confirmed</th>\n",
       "      <th>Deaths</th>\n",
       "      <th>Recovered</th>\n",
       "      <th>Active</th>\n",
       "      <th>Combined_Key</th>\n",
       "      <th>Date_uploaded</th>\n",
       "    </tr>\n",
       "  </thead>\n",
       "  <tbody>\n",
       "    <tr>\n",
       "      <th>0</th>\n",
       "      <td>Abbeville</td>\n",
       "      <td>South Carolina</td>\n",
       "      <td>US</td>\n",
       "      <td>2020-04-18 22:32:47</td>\n",
       "      <td>34.223334</td>\n",
       "      <td>-82.461707</td>\n",
       "      <td>15</td>\n",
       "      <td>0</td>\n",
       "      <td>0</td>\n",
       "      <td>15</td>\n",
       "      <td>Abbeville, South Carolina, US</td>\n",
       "      <td>04-18-2020</td>\n",
       "    </tr>\n",
       "    <tr>\n",
       "      <th>1</th>\n",
       "      <td>Acadia</td>\n",
       "      <td>Louisiana</td>\n",
       "      <td>US</td>\n",
       "      <td>2020-04-18 22:32:47</td>\n",
       "      <td>30.295065</td>\n",
       "      <td>-92.414197</td>\n",
       "      <td>110</td>\n",
       "      <td>7</td>\n",
       "      <td>0</td>\n",
       "      <td>103</td>\n",
       "      <td>Acadia, Louisiana, US</td>\n",
       "      <td>04-18-2020</td>\n",
       "    </tr>\n",
       "    <tr>\n",
       "      <th>2</th>\n",
       "      <td>Accomack</td>\n",
       "      <td>Virginia</td>\n",
       "      <td>US</td>\n",
       "      <td>2020-04-18 22:32:47</td>\n",
       "      <td>37.767072</td>\n",
       "      <td>-75.632346</td>\n",
       "      <td>33</td>\n",
       "      <td>0</td>\n",
       "      <td>0</td>\n",
       "      <td>33</td>\n",
       "      <td>Accomack, Virginia, US</td>\n",
       "      <td>04-18-2020</td>\n",
       "    </tr>\n",
       "    <tr>\n",
       "      <th>3</th>\n",
       "      <td>Ada</td>\n",
       "      <td>Idaho</td>\n",
       "      <td>US</td>\n",
       "      <td>2020-04-18 22:32:47</td>\n",
       "      <td>43.452658</td>\n",
       "      <td>-116.241552</td>\n",
       "      <td>593</td>\n",
       "      <td>9</td>\n",
       "      <td>0</td>\n",
       "      <td>584</td>\n",
       "      <td>Ada, Idaho, US</td>\n",
       "      <td>04-18-2020</td>\n",
       "    </tr>\n",
       "    <tr>\n",
       "      <th>4</th>\n",
       "      <td>Adair</td>\n",
       "      <td>Iowa</td>\n",
       "      <td>US</td>\n",
       "      <td>2020-04-18 22:32:47</td>\n",
       "      <td>41.330756</td>\n",
       "      <td>-94.471059</td>\n",
       "      <td>1</td>\n",
       "      <td>0</td>\n",
       "      <td>0</td>\n",
       "      <td>1</td>\n",
       "      <td>Adair, Iowa, US</td>\n",
       "      <td>04-18-2020</td>\n",
       "    </tr>\n",
       "  </tbody>\n",
       "</table>\n",
       "</div>"
      ],
      "text/plain": [
       "      Admin2  Province_State Country_Region          Last_Update        Lat  \\\n",
       "0  Abbeville  South Carolina             US  2020-04-18 22:32:47  34.223334   \n",
       "1     Acadia       Louisiana             US  2020-04-18 22:32:47  30.295065   \n",
       "2   Accomack        Virginia             US  2020-04-18 22:32:47  37.767072   \n",
       "3        Ada           Idaho             US  2020-04-18 22:32:47  43.452658   \n",
       "4      Adair            Iowa             US  2020-04-18 22:32:47  41.330756   \n",
       "\n",
       "        Long_  Confirmed  Deaths  Recovered  Active  \\\n",
       "0  -82.461707         15       0          0      15   \n",
       "1  -92.414197        110       7          0     103   \n",
       "2  -75.632346         33       0          0      33   \n",
       "3 -116.241552        593       9          0     584   \n",
       "4  -94.471059          1       0          0       1   \n",
       "\n",
       "                    Combined_Key Date_uploaded  \n",
       "0  Abbeville, South Carolina, US    04-18-2020  \n",
       "1          Acadia, Louisiana, US    04-18-2020  \n",
       "2         Accomack, Virginia, US    04-18-2020  \n",
       "3                 Ada, Idaho, US    04-18-2020  \n",
       "4                Adair, Iowa, US    04-18-2020  "
      ]
     },
     "execution_count": 4,
     "metadata": {},
     "output_type": "execute_result"
    }
   ],
   "source": [
    "print(len(finaldf))\n",
    "finaldf['Date_uploaded'] = date\n",
    "finaldf.head()"
   ]
  },
  {
   "cell_type": "code",
   "execution_count": 5,
   "metadata": {},
   "outputs": [
    {
     "data": {
      "text/plain": [
       "Admin2             object\n",
       "Province_State     object\n",
       "Country_Region     object\n",
       "Last_Update        object\n",
       "Lat               float64\n",
       "Long_             float64\n",
       "Confirmed           int64\n",
       "Deaths              int64\n",
       "Recovered           int64\n",
       "Active              int64\n",
       "Combined_Key       object\n",
       "Date_uploaded      object\n",
       "dtype: object"
      ]
     },
     "execution_count": 5,
     "metadata": {},
     "output_type": "execute_result"
    }
   ],
   "source": [
    "finaldf.dtypes"
   ]
  },
  {
   "cell_type": "code",
   "execution_count": 6,
   "metadata": {},
   "outputs": [
    {
     "name": "stderr",
     "output_type": "stream",
     "text": [
      "1it [00:00,  5.47it/s]\n"
     ]
    }
   ],
   "source": [
    "finaldf.to_gbq(destination_table='<tablename>',project_id='<projectid>',if_exists='append')"
   ]
  },
  {
   "cell_type": "code",
   "execution_count": null,
   "metadata": {},
   "outputs": [],
   "source": []
  }
 ],
 "metadata": {
  "kernelspec": {
   "display_name": "Python 3",
   "language": "python",
   "name": "python3"
  },
  "language_info": {
   "codemirror_mode": {
    "name": "ipython",
    "version": 3
   },
   "file_extension": ".py",
   "mimetype": "text/x-python",
   "name": "python",
   "nbconvert_exporter": "python",
   "pygments_lexer": "ipython3",
   "version": "3.7.3"
  }
 },
 "nbformat": 4,
 "nbformat_minor": 2
}
