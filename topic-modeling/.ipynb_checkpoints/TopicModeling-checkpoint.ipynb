{
 "cells": [
  {
   "cell_type": "code",
   "execution_count": 1,
   "metadata": {},
   "outputs": [
    {
     "name": "stderr",
     "output_type": "stream",
     "text": [
      "[nltk_data] Downloading package wordnet to /Users/vignesh/nltk_data...\n",
      "[nltk_data]   Package wordnet is already up-to-date!\n"
     ]
    }
   ],
   "source": [
    "import gensim\n",
    "from gensim.utils import simple_preprocess\n",
    "from gensim.parsing.preprocessing import STOPWORDS\n",
    "from nltk.stem import WordNetLemmatizer, SnowballStemmer\n",
    "from nltk.stem.porter import *\n",
    "import numpy as np\n",
    "np.random.seed(2018)\n",
    "import nltk\n",
    "nltk.download('wordnet')\n",
    "import pandas as pd\n",
    "from pandas.io import gbq\n",
    "from nltk.corpus import stopwords"
   ]
  },
  {
   "cell_type": "markdown",
   "metadata": {},
   "source": [
    "<h1> TEST RUN</h1>"
   ]
  },
  {
   "cell_type": "code",
   "execution_count": 2,
   "metadata": {},
   "outputs": [],
   "source": [
    "d1 = pd.read_csv(\"NewsMar29.csv\",)"
   ]
  },
  {
   "cell_type": "code",
   "execution_count": 3,
   "metadata": {},
   "outputs": [],
   "source": [
    "headlinesdf=d1[['Headline']]"
   ]
  },
  {
   "cell_type": "code",
   "execution_count": 4,
   "metadata": {},
   "outputs": [],
   "source": [
    "headlinesdf['index'] = headlinesdf.index"
   ]
  },
  {
   "cell_type": "code",
   "execution_count": 5,
   "metadata": {},
   "outputs": [],
   "source": [
    "stemmer = SnowballStemmer('english')\n",
    "def lemmatize_stemming(text):\n",
    "    return stemmer.stem(WordNetLemmatizer().lemmatize(text, pos='v'))\n",
    "def preprocess(text):\n",
    "    result = []\n",
    "    for token in gensim.utils.simple_preprocess(text):\n",
    "        if token not in gensim.parsing.preprocessing.STOPWORDS and len(token) > 3:\n",
    "            result.append(lemmatize_stemming(token))\n",
    "    return result"
   ]
  },
  {
   "cell_type": "code",
   "execution_count": 6,
   "metadata": {},
   "outputs": [
    {
     "name": "stdout",
     "output_type": "stream",
     "text": [
      "original document: \n",
      "['Trump', 'asked', 'pharmaceutical', 'execs', 'if', 'the', 'flu', 'vaccine', 'could', 'be', 'used', 'to', 'stop', 'coronavirus.', \"Here's\", 'why', 'that', \"wouldn't\", 'work.']\n",
      "\n",
      "\n",
      " tokenized and lemmatized document: \n",
      "['trump', 'ask', 'pharmaceut', 'exec', 'vaccin', 'stop', 'coronavirus', 'wouldn', 'work']\n"
     ]
    }
   ],
   "source": [
    "doc_sample = headlinesdf[headlinesdf['index'] == 52].values[0][0]\n",
    "print('original document: ')\n",
    "words = []\n",
    "for word in doc_sample.split(' '):\n",
    "    words.append(word)\n",
    "print(words)\n",
    "print('\\n\\n tokenized and lemmatized document: ')\n",
    "print(preprocess(doc_sample))"
   ]
  },
  {
   "cell_type": "code",
   "execution_count": 7,
   "metadata": {},
   "outputs": [],
   "source": [
    "processed_docs = headlinesdf['Headline'].map(preprocess)\n",
    "# processed_docs[:10]"
   ]
  },
  {
   "cell_type": "code",
   "execution_count": 8,
   "metadata": {},
   "outputs": [
    {
     "name": "stdout",
     "output_type": "stream",
     "text": [
      "0 app\n",
      "1 appl\n",
      "2 coronavirus\n",
      "3 limit\n",
      "4 misinform\n",
      "5 reject\n",
      "6 virus\n",
      "7 bogus\n",
      "8 infect\n",
      "9 tracker\n",
      "10 chines\n"
     ]
    }
   ],
   "source": [
    "dictionary = gensim.corpora.Dictionary(processed_docs)\n",
    "count = 0\n",
    "for k, v in dictionary.iteritems():\n",
    "    print(k, v)\n",
    "    count += 1\n",
    "    if count > 10:\n",
    "        break"
   ]
  },
  {
   "cell_type": "code",
   "execution_count": 9,
   "metadata": {},
   "outputs": [],
   "source": [
    "dictionary.filter_extremes(no_below=5, no_above=0.5, keep_n=100000)"
   ]
  },
  {
   "cell_type": "code",
   "execution_count": 10,
   "metadata": {},
   "outputs": [
    {
     "data": {
      "text/plain": [
       "[(1, 1), (3, 1)]"
      ]
     },
     "execution_count": 10,
     "metadata": {},
     "output_type": "execute_result"
    }
   ],
   "source": [
    "bow_corpus = [dictionary.doc2bow(doc) for doc in processed_docs]\n",
    "bow_corpus[50]"
   ]
  },
  {
   "cell_type": "code",
   "execution_count": 11,
   "metadata": {},
   "outputs": [
    {
     "name": "stdout",
     "output_type": "stream",
     "text": [
      "Word 1 (\"virus\") appears 1 time.\n",
      "Word 3 (\"trump\") appears 1 time.\n"
     ]
    }
   ],
   "source": [
    "bow_doc_50 = bow_corpus[50]\n",
    "for i in range(len(bow_doc_50)):\n",
    "    print(\"Word {} (\\\"{}\\\") appears {} time.\".format(bow_doc_50[i][0], \n",
    "                                               dictionary[bow_doc_50[i][0]], \n",
    "bow_doc_50[i][1]))"
   ]
  },
  {
   "cell_type": "code",
   "execution_count": 12,
   "metadata": {},
   "outputs": [
    {
     "name": "stdout",
     "output_type": "stream",
     "text": [
      "[(0, 0.44158362601351453), (1, 0.8972200963179305)]\n"
     ]
    }
   ],
   "source": [
    "from gensim import corpora, models\n",
    "tfidf = models.TfidfModel(bow_corpus)\n",
    "corpus_tfidf = tfidf[bow_corpus]\n",
    "from pprint import pprint\n",
    "for doc in corpus_tfidf:\n",
    "    pprint(doc)\n",
    "    break"
   ]
  },
  {
   "cell_type": "code",
   "execution_count": 13,
   "metadata": {},
   "outputs": [],
   "source": [
    "lda_model = gensim.models.LdaMulticore(bow_corpus, num_topics=10, id2word=dictionary, passes=2, workers=2)"
   ]
  },
  {
   "cell_type": "code",
   "execution_count": 14,
   "metadata": {},
   "outputs": [
    {
     "name": "stdout",
     "output_type": "stream",
     "text": [
      "Topic: 0 \n",
      "Words: 0.436*\"trump\" + 0.309*\"corona\" + 0.191*\"virus\" + 0.037*\"coronavirus\" + 0.009*\"covid\" + 0.009*\"spread\" + 0.009*\"world\"\n",
      "Topic: 1 \n",
      "Words: 0.876*\"coronavirus\" + 0.067*\"world\" + 0.044*\"spread\" + 0.003*\"corona\" + 0.003*\"virus\" + 0.003*\"covid\" + 0.003*\"trump\"\n",
      "Topic: 2 \n",
      "Words: 0.446*\"spread\" + 0.404*\"coronavirus\" + 0.043*\"world\" + 0.043*\"covid\" + 0.043*\"trump\" + 0.011*\"virus\" + 0.011*\"corona\"\n",
      "Topic: 3 \n",
      "Words: 0.525*\"coronavirus\" + 0.256*\"trump\" + 0.134*\"spread\" + 0.049*\"virus\" + 0.012*\"corona\" + 0.012*\"covid\" + 0.012*\"world\"\n",
      "Topic: 4 \n",
      "Words: 0.659*\"covid\" + 0.178*\"coronavirus\" + 0.133*\"spread\" + 0.007*\"corona\" + 0.007*\"virus\" + 0.007*\"trump\" + 0.007*\"world\"\n",
      "Topic: 5 \n",
      "Words: 0.464*\"corona\" + 0.232*\"coronavirus\" + 0.179*\"virus\" + 0.071*\"spread\" + 0.018*\"covid\" + 0.018*\"trump\" + 0.018*\"world\"\n",
      "Topic: 6 \n",
      "Words: 0.683*\"corona\" + 0.225*\"covid\" + 0.033*\"virus\" + 0.033*\"spread\" + 0.008*\"coronavirus\" + 0.008*\"world\" + 0.008*\"trump\"\n",
      "Topic: 7 \n",
      "Words: 0.343*\"world\" + 0.219*\"virus\" + 0.125*\"coronavirus\" + 0.125*\"covid\" + 0.125*\"spread\" + 0.031*\"corona\" + 0.031*\"trump\"\n",
      "Topic: 8 \n",
      "Words: 0.556*\"coronavirus\" + 0.269*\"virus\" + 0.111*\"corona\" + 0.016*\"covid\" + 0.016*\"spread\" + 0.016*\"trump\" + 0.016*\"world\"\n",
      "Topic: 9 \n",
      "Words: 0.614*\"virus\" + 0.277*\"corona\" + 0.089*\"world\" + 0.005*\"coronavirus\" + 0.005*\"covid\" + 0.005*\"spread\" + 0.005*\"trump\"\n"
     ]
    }
   ],
   "source": [
    "for idx, topic in lda_model.print_topics(-1):\n",
    "    print('Topic: {} \\nWords: {}'.format(idx, topic))"
   ]
  },
  {
   "cell_type": "code",
   "execution_count": 15,
   "metadata": {},
   "outputs": [
    {
     "name": "stdout",
     "output_type": "stream",
     "text": [
      "Topic: 0 Word: 0.751*\"world\" + 0.109*\"virus\" + 0.072*\"coronavirus\" + 0.017*\"corona\" + 0.017*\"spread\" + 0.017*\"covid\" + 0.017*\"trump\"\n",
      "Topic: 1 Word: 0.163*\"coronavirus\" + 0.139*\"corona\" + 0.139*\"virus\" + 0.139*\"covid\" + 0.139*\"spread\" + 0.139*\"world\" + 0.139*\"trump\"\n",
      "Topic: 2 Word: 0.982*\"coronavirus\" + 0.003*\"corona\" + 0.003*\"virus\" + 0.003*\"covid\" + 0.003*\"spread\" + 0.003*\"trump\" + 0.003*\"world\"\n",
      "Topic: 3 Word: 0.749*\"spread\" + 0.201*\"coronavirus\" + 0.010*\"covid\" + 0.010*\"world\" + 0.010*\"trump\" + 0.010*\"virus\" + 0.010*\"corona\"\n",
      "Topic: 4 Word: 0.863*\"trump\" + 0.047*\"coronavirus\" + 0.024*\"corona\" + 0.021*\"spread\" + 0.015*\"world\" + 0.015*\"covid\" + 0.015*\"virus\"\n",
      "Topic: 5 Word: 0.145*\"coronavirus\" + 0.145*\"virus\" + 0.145*\"covid\" + 0.144*\"trump\" + 0.142*\"corona\" + 0.139*\"spread\" + 0.139*\"world\"\n",
      "Topic: 6 Word: 0.728*\"corona\" + 0.246*\"virus\" + 0.005*\"spread\" + 0.005*\"covid\" + 0.005*\"coronavirus\" + 0.005*\"trump\" + 0.005*\"world\"\n",
      "Topic: 7 Word: 0.184*\"coronavirus\" + 0.145*\"corona\" + 0.134*\"virus\" + 0.134*\"covid\" + 0.134*\"spread\" + 0.134*\"trump\" + 0.134*\"world\"\n",
      "Topic: 8 Word: 0.923*\"virus\" + 0.026*\"trump\" + 0.010*\"coronavirus\" + 0.010*\"corona\" + 0.010*\"covid\" + 0.010*\"spread\" + 0.010*\"world\"\n",
      "Topic: 9 Word: 0.940*\"covid\" + 0.013*\"coronavirus\" + 0.010*\"virus\" + 0.010*\"corona\" + 0.009*\"spread\" + 0.009*\"trump\" + 0.009*\"world\"\n"
     ]
    }
   ],
   "source": [
    "lda_model_tfidf = gensim.models.LdaMulticore(corpus_tfidf, num_topics=10, id2word=dictionary, passes=10, workers=4)\n",
    "for idx, topic in lda_model_tfidf.print_topics(-1):\n",
    "    print('Topic: {} Word: {}'.format(idx, topic))"
   ]
  },
  {
   "cell_type": "markdown",
   "metadata": {},
   "source": [
    "<h1> FULL DATA </h1>"
   ]
  },
  {
   "cell_type": "code",
   "execution_count": 16,
   "metadata": {},
   "outputs": [
    {
     "name": "stderr",
     "output_type": "stream",
     "text": [
      "/Users/vignesh/anaconda3/lib/python3.7/site-packages/ipykernel_launcher.py:2: FutureWarning: The default value for dialect is changing to \"standard\" in a future version of pandas-gbq. Pass in dialect=\"legacy\" to disable this warning.\n",
      "  \n",
      "Downloading: 100%|██████████| 1415/1415 [00:00<00:00, 7017.04rows/s]\n"
     ]
    }
   ],
   "source": [
    "news_content = \"\"\"SELECT content  FROM [not-a-doctor-273222.Topic_Modelling.NewsData]\"\"\"\n",
    "news_content = gbq.read_gbq(news_content,project_id=\"not-a-doctor-273222\")"
   ]
  },
  {
   "cell_type": "code",
   "execution_count": 17,
   "metadata": {},
   "outputs": [],
   "source": [
    "news_content['index']=news_content.index\n",
    "news_content_uniq=news_content.drop_duplicates()"
   ]
  },
  {
   "cell_type": "code",
   "execution_count": 18,
   "metadata": {},
   "outputs": [
    {
     "data": {
      "text/plain": [
       "0    [paul, ramchandani, josi, ford, direct, impact...\n",
       "1    [sever, case, covid, patient, lung, inflam, fl...\n",
       "2    [larg, consign, test, kit, novel, coronavirus,...\n",
       "3    [coronavirus, pandem, cut, supermarket, meat, ...\n",
       "4    [elect, time, know, presid, need, recast, perf...\n",
       "5    [novel, coronavirus, outbreak, spain, second, ...\n",
       "6                                                   []\n",
       "7                                               [rand]\n",
       "8    [hundr, case, covid, report, postal, servic, t...\n",
       "9    [graham, lawton, london, health, care, worker,...\n",
       "Name: content, dtype: object"
      ]
     },
     "execution_count": 18,
     "metadata": {},
     "output_type": "execute_result"
    }
   ],
   "source": [
    "processed_news = news_content_uniq['content'].map(preprocess)\n",
    "processed_news[:10]"
   ]
  },
  {
   "cell_type": "code",
   "execution_count": 19,
   "metadata": {},
   "outputs": [
    {
     "name": "stdout",
     "output_type": "stream",
     "text": [
      "0 adult\n",
      "1 char\n",
      "2 children\n",
      "3 choic\n",
      "4 consequ\n",
      "5 covid\n",
      "6 direct\n",
      "7 effect\n",
      "8 ford\n",
      "9 hide\n",
      "10 impact\n"
     ]
    }
   ],
   "source": [
    "dictionary = gensim.corpora.Dictionary(processed_news)\n",
    "count = 0\n",
    "for k, v in dictionary.iteritems():\n",
    "    print(k, v)\n",
    "    count += 1\n",
    "    if count > 10:\n",
    "        break"
   ]
  },
  {
   "cell_type": "code",
   "execution_count": 20,
   "metadata": {},
   "outputs": [],
   "source": [
    "bow_corpus = [dictionary.doc2bow(doc) for doc in processed_news]\n",
    "# bow_corpus[50]"
   ]
  },
  {
   "cell_type": "code",
   "execution_count": 21,
   "metadata": {},
   "outputs": [
    {
     "name": "stdout",
     "output_type": "stream",
     "text": [
      "[(0, 0.25577552221497213),\n",
      " (1, 0.013753884046657314),\n",
      " (2, 0.25577552221497213),\n",
      " (3, 0.24960103250878335),\n",
      " (4, 0.25260699651925766),\n",
      " (5, 0.08993127396345593),\n",
      " (6, 0.23891636028017918),\n",
      " (7, 0.2239177815980814),\n",
      " (8, 0.22583937833879808),\n",
      " (9, 0.25577552221497213),\n",
      " (10, 0.21046392729708724),\n",
      " (11, 0.25577552221497213),\n",
      " (12, 0.22583937833879808),\n",
      " (13, 0.25260699651925766),\n",
      " (14, 0.25260699651925766),\n",
      " (15, 0.25577552221497213),\n",
      " (16, 0.21198618041447947),\n",
      " (17, 0.25577552221497213),\n",
      " (18, 0.2168056166885939)]\n"
     ]
    }
   ],
   "source": [
    "from gensim import corpora, models\n",
    "tfidf = models.TfidfModel(bow_corpus)\n",
    "corpus_tfidf = tfidf[bow_corpus]\n",
    "from pprint import pprint\n",
    "for doc in corpus_tfidf:\n",
    "    pprint(doc)\n",
    "    break"
   ]
  },
  {
   "cell_type": "code",
   "execution_count": 22,
   "metadata": {},
   "outputs": [],
   "source": [
    "lda_model = gensim.models.LdaMulticore(bow_corpus, num_topics=10, id2word=dictionary, passes=10, workers=2)"
   ]
  },
  {
   "cell_type": "code",
   "execution_count": 23,
   "metadata": {},
   "outputs": [
    {
     "name": "stdout",
     "output_type": "stream",
     "text": [
      "Topic: 0 Word: 0.006*\"state\" + 0.005*\"mean\" + 0.005*\"covid\" + 0.004*\"case\" + 0.004*\"york\" + 0.004*\"test\" + 0.004*\"unit\" + 0.004*\"citi\" + 0.004*\"like\" + 0.004*\"health\"\n",
      "Topic: 1 Word: 0.003*\"googl\" + 0.003*\"contact\" + 0.003*\"launder\" + 0.003*\"senior\" + 0.003*\"patient\" + 0.003*\"facial\" + 0.003*\"norm\" + 0.003*\"android\" + 0.002*\"jamaat\" + 0.002*\"tablighi\"\n",
      "Topic: 2 Word: 0.006*\"effect\" + 0.006*\"worst\" + 0.006*\"sever\" + 0.006*\"last\" + 0.006*\"hide\" + 0.006*\"ramchandani\" + 0.006*\"children\" + 0.006*\"indirect\" + 0.006*\"adult\" + 0.006*\"stave\"\n",
      "Topic: 3 Word: 0.009*\"life\" + 0.007*\"shut\" + 0.006*\"work\" + 0.005*\"job\" + 0.005*\"lui\" + 0.005*\"onlin\" + 0.005*\"annale\" + 0.005*\"newitz\" + 0.005*\"alvarez\" + 0.005*\"lucki\"\n",
      "Topic: 4 Word: 0.269*\"rand\" + 0.005*\"venic\" + 0.005*\"canal\" + 0.005*\"clear\" + 0.004*\"taylor\" + 0.003*\"brook\" + 0.003*\"billionair\" + 0.003*\"test\" + 0.003*\"pollut\" + 0.003*\"pattaro\"\n",
      "Topic: 5 Word: 0.012*\"latest\" + 0.007*\"updat\" + 0.006*\"take\" + 0.006*\"transmiss\" + 0.006*\"million\" + 0.006*\"read\" + 0.006*\"pandem\" + 0.005*\"flatten\" + 0.005*\"refresh\" + 0.005*\"huffpost\"\n",
      "Topic: 6 Word: 0.008*\"meyer\" + 0.008*\"colbert\" + 0.008*\"fallon\" + 0.008*\"suspend\" + 0.008*\"product\" + 0.006*\"sailor\" + 0.005*\"govern\" + 0.005*\"crisi\" + 0.005*\"know\" + 0.004*\"global\"\n",
      "Topic: 7 Word: 0.012*\"symptom\" + 0.011*\"map\" + 0.010*\"case\" + 0.007*\"unfold\" + 0.007*\"messeng\" + 0.007*\"happen\" + 0.006*\"chat\" + 0.006*\"facebook\" + 0.006*\"outbreak\" + 0.006*\"state\"\n",
      "Topic: 8 Word: 0.017*\"newspap\" + 0.017*\"subscrib\" + 0.017*\"morn\" + 0.017*\"india\" + 0.016*\"order\" + 0.015*\"start\" + 0.014*\"daili\" + 0.012*\"time\" + 0.005*\"stori\" + 0.004*\"health\"\n",
      "Topic: 9 Word: 0.008*\"trump\" + 0.006*\"presid\" + 0.006*\"say\" + 0.006*\"death\" + 0.005*\"donald\" + 0.005*\"state\" + 0.004*\"coronavirus\" + 0.004*\"news\" + 0.004*\"nation\" + 0.004*\"number\"\n"
     ]
    }
   ],
   "source": [
    "lda_model_tfidf = gensim.models.LdaMulticore(corpus_tfidf, num_topics=10, id2word=dictionary, passes=10, workers=4)\n",
    "for idx, topic in lda_model_tfidf.print_topics(-1):\n",
    "    print('Topic: {} Word: {}'.format(idx, topic))"
   ]
  },
  {
   "cell_type": "code",
   "execution_count": 24,
   "metadata": {},
   "outputs": [
    {
     "data": {
      "text/plain": [
       "<Figure size 1000x1000 with 10 Axes>"
      ]
     },
     "metadata": {},
     "output_type": "display_data"
    }
   ],
   "source": [
    "from matplotlib import pyplot as plt\n",
    "from wordcloud import WordCloud, STOPWORDS\n",
    "import matplotlib.colors as mcolors\n",
    "stop_words = stopwords.words('english')\n",
    "cols = [color for name, color in mcolors.TABLEAU_COLORS.items()]  # more colors: 'mcolors.XKCD_COLORS'\n",
    "\n",
    "cloud = WordCloud(stopwords=stop_words,\n",
    "                  background_color='white',\n",
    "                  width=2500,\n",
    "                  height=1800,\n",
    "                  max_words=10,\n",
    "                  colormap='tab10',\n",
    "                  color_func=lambda *args, **kwargs: cols[i],\n",
    "                  prefer_horizontal=1.0)\n",
    "\n",
    "topics = lda_model_tfidf.show_topics(formatted=False)\n",
    "\n",
    "fig, axes = plt.subplots(5, 2, figsize=(10,10), sharex=True, sharey=True)\n",
    "\n",
    "for i, ax in enumerate(axes.flatten()):\n",
    "    fig.add_subplot(ax)\n",
    "    topic_words = dict(topics[i][1])\n",
    "    cloud.generate_from_frequencies(topic_words, max_font_size=300)\n",
    "    plt.gca().imshow(cloud)\n",
    "    plt.gca().set_title('Topic ' + str(i), fontdict=dict(size=16))\n",
    "    plt.gca().axis('off')\n",
    "\n",
    "plt.subplots_adjust(wspace=0, hspace=0)\n",
    "plt.axis('off')\n",
    "plt.margins(x=0, y=0)\n",
    "plt.tight_layout()\n",
    "plt.show()"
   ]
  },
  {
   "cell_type": "code",
   "execution_count": 54,
   "metadata": {},
   "outputs": [],
   "source": [
    "import pyLDAvis\n",
    "import pyLDAvis.gensim"
   ]
  },
  {
   "cell_type": "code",
   "execution_count": 57,
   "metadata": {},
   "outputs": [
    {
     "name": "stderr",
     "output_type": "stream",
     "text": [
      "/Users/vignesh/anaconda3/lib/python3.7/site-packages/pyLDAvis/_prepare.py:257: FutureWarning: Sorting because non-concatenation axis is not aligned. A future version\n",
      "of pandas will change to not sort by default.\n",
      "\n",
      "To accept the future behavior, pass 'sort=False'.\n",
      "\n",
      "To retain the current behavior and silence the warning, pass 'sort=True'.\n",
      "\n",
      "  return pd.concat([default_term_info] + list(topic_dfs))\n"
     ]
    },
    {
     "data": {
      "text/html": [
       "\n",
       "<link rel=\"stylesheet\" type=\"text/css\" href=\"https://cdn.rawgit.com/bmabey/pyLDAvis/files/ldavis.v1.0.0.css\">\n",
       "\n",
       "\n",
       "<div id=\"ldavis_el153241122842718647803657334\"></div>\n",
       "<script type=\"text/javascript\">\n",
       "\n",
       "var ldavis_el153241122842718647803657334_data = {\"mdsDat\": {\"x\": [-0.09863554369656498, -0.02208067216558992, -0.034979927939986895, -0.00836328470221179, -0.0030877585191127223, -0.016766534050180314, 0.0016160378487232844, 0.020361329386988685, -0.001221837627522405, 0.1631581914654572], \"y\": [0.1287835172491629, -0.05880558921188947, -0.07076206181999346, -0.0031394403835569794, -0.025751654144162653, 0.004430592106985356, -0.014592827831858272, -0.013491217016940582, -0.0030094820984526136, 0.056338163150705896], \"topics\": [1, 2, 3, 4, 5, 6, 7, 8, 9, 10], \"cluster\": [1, 1, 1, 1, 1, 1, 1, 1, 1, 1], \"Freq\": [14.377366065979004, 13.27838134765625, 11.685606956481934, 9.979133605957031, 9.650505065917969, 9.455119132995605, 8.226062774658203, 8.196727752685547, 7.931686878204346, 7.219416618347168]}, \"tinfo\": {\"Category\": [\"Default\", \"Default\", \"Default\", \"Default\", \"Default\", \"Default\", \"Default\", \"Default\", \"Default\", \"Default\", \"Default\", \"Default\", \"Default\", \"Default\", \"Default\", \"Default\", \"Default\", \"Default\", \"Default\", \"Default\", \"Default\", \"Default\", \"Default\", \"Default\", \"Default\", \"Default\", \"Default\", \"Default\", \"Default\", \"Default\", \"Topic1\", \"Topic1\", \"Topic1\", \"Topic1\", \"Topic1\", \"Topic1\", \"Topic1\", \"Topic1\", \"Topic1\", \"Topic1\", \"Topic1\", \"Topic1\", \"Topic1\", \"Topic1\", \"Topic1\", \"Topic1\", \"Topic1\", \"Topic1\", \"Topic1\", \"Topic1\", \"Topic1\", \"Topic1\", \"Topic1\", \"Topic1\", \"Topic1\", \"Topic1\", \"Topic1\", \"Topic1\", \"Topic1\", \"Topic1\", \"Topic1\", \"Topic1\", \"Topic1\", \"Topic1\", \"Topic1\", \"Topic1\", \"Topic1\", \"Topic1\", \"Topic1\", \"Topic1\", \"Topic1\", \"Topic1\", \"Topic1\", \"Topic1\", \"Topic1\", \"Topic1\", \"Topic1\", \"Topic1\", \"Topic1\", \"Topic2\", \"Topic2\", \"Topic2\", \"Topic2\", \"Topic2\", \"Topic2\", \"Topic2\", \"Topic2\", \"Topic2\", \"Topic2\", \"Topic2\", \"Topic2\", \"Topic2\", \"Topic2\", \"Topic2\", \"Topic2\", \"Topic2\", \"Topic2\", \"Topic2\", \"Topic2\", \"Topic2\", \"Topic2\", \"Topic2\", \"Topic2\", \"Topic2\", \"Topic2\", \"Topic2\", \"Topic2\", \"Topic2\", \"Topic2\", \"Topic2\", \"Topic2\", \"Topic2\", \"Topic2\", \"Topic2\", \"Topic2\", \"Topic2\", \"Topic2\", \"Topic2\", \"Topic2\", \"Topic2\", \"Topic2\", \"Topic2\", \"Topic2\", \"Topic2\", \"Topic2\", \"Topic2\", \"Topic2\", \"Topic2\", \"Topic2\", \"Topic2\", \"Topic2\", \"Topic2\", \"Topic3\", \"Topic3\", \"Topic3\", \"Topic3\", \"Topic3\", \"Topic3\", \"Topic3\", \"Topic3\", \"Topic3\", \"Topic3\", \"Topic3\", \"Topic3\", \"Topic3\", \"Topic3\", \"Topic3\", \"Topic3\", \"Topic3\", \"Topic3\", \"Topic3\", \"Topic3\", \"Topic3\", \"Topic3\", \"Topic3\", \"Topic3\", \"Topic3\", \"Topic3\", \"Topic3\", \"Topic3\", \"Topic3\", \"Topic3\", \"Topic3\", \"Topic3\", \"Topic3\", \"Topic3\", \"Topic3\", \"Topic3\", \"Topic3\", \"Topic3\", \"Topic3\", \"Topic3\", \"Topic3\", \"Topic3\", \"Topic3\", \"Topic4\", \"Topic4\", \"Topic4\", \"Topic4\", \"Topic4\", \"Topic4\", \"Topic4\", \"Topic4\", \"Topic4\", \"Topic4\", \"Topic4\", \"Topic4\", \"Topic4\", \"Topic4\", \"Topic4\", \"Topic4\", \"Topic4\", \"Topic4\", \"Topic4\", \"Topic4\", \"Topic4\", \"Topic4\", \"Topic4\", \"Topic4\", \"Topic4\", \"Topic4\", \"Topic4\", \"Topic4\", \"Topic4\", \"Topic4\", \"Topic4\", \"Topic4\", \"Topic4\", \"Topic4\", \"Topic4\", \"Topic4\", \"Topic4\", \"Topic4\", \"Topic4\", \"Topic4\", \"Topic4\", \"Topic4\", \"Topic4\", \"Topic4\", \"Topic5\", \"Topic5\", \"Topic5\", \"Topic5\", \"Topic5\", \"Topic5\", \"Topic5\", \"Topic5\", \"Topic5\", \"Topic5\", \"Topic5\", \"Topic5\", \"Topic5\", \"Topic5\", \"Topic5\", \"Topic5\", \"Topic5\", \"Topic5\", \"Topic5\", \"Topic5\", \"Topic5\", \"Topic5\", \"Topic5\", \"Topic5\", \"Topic5\", \"Topic5\", \"Topic5\", \"Topic5\", \"Topic5\", \"Topic5\", \"Topic5\", \"Topic5\", \"Topic5\", \"Topic5\", \"Topic5\", \"Topic5\", \"Topic5\", \"Topic5\", \"Topic5\", \"Topic5\", \"Topic5\", \"Topic5\", \"Topic5\", \"Topic5\", \"Topic5\", \"Topic5\", \"Topic5\", \"Topic5\", \"Topic5\", \"Topic5\", \"Topic5\", \"Topic5\", \"Topic5\", \"Topic5\", \"Topic5\", \"Topic5\", \"Topic5\", \"Topic6\", \"Topic6\", \"Topic6\", \"Topic6\", \"Topic6\", \"Topic6\", \"Topic6\", \"Topic6\", \"Topic6\", \"Topic6\", \"Topic6\", \"Topic6\", \"Topic6\", \"Topic6\", \"Topic6\", \"Topic6\", \"Topic6\", \"Topic6\", \"Topic6\", \"Topic6\", \"Topic6\", \"Topic6\", \"Topic6\", \"Topic6\", \"Topic6\", \"Topic6\", \"Topic6\", \"Topic6\", \"Topic6\", \"Topic6\", \"Topic6\", \"Topic6\", \"Topic6\", \"Topic6\", \"Topic6\", \"Topic6\", \"Topic6\", \"Topic6\", \"Topic6\", \"Topic6\", \"Topic6\", \"Topic6\", \"Topic6\", \"Topic6\", \"Topic6\", \"Topic6\", \"Topic6\", \"Topic6\", \"Topic6\", \"Topic6\", \"Topic6\", \"Topic6\", \"Topic6\", \"Topic6\", \"Topic6\", \"Topic6\", \"Topic6\", \"Topic7\", \"Topic7\", \"Topic7\", \"Topic7\", \"Topic7\", \"Topic7\", \"Topic7\", \"Topic7\", \"Topic7\", \"Topic7\", \"Topic7\", \"Topic7\", \"Topic7\", \"Topic7\", \"Topic7\", \"Topic7\", \"Topic7\", \"Topic7\", \"Topic7\", \"Topic7\", \"Topic7\", \"Topic7\", \"Topic7\", \"Topic7\", \"Topic7\", \"Topic7\", \"Topic7\", \"Topic7\", \"Topic7\", \"Topic7\", \"Topic7\", \"Topic7\", \"Topic7\", \"Topic7\", \"Topic7\", \"Topic7\", \"Topic7\", \"Topic7\", \"Topic7\", \"Topic7\", \"Topic7\", \"Topic7\", \"Topic7\", \"Topic7\", \"Topic7\", \"Topic7\", \"Topic7\", \"Topic7\", \"Topic7\", \"Topic7\", \"Topic7\", \"Topic7\", \"Topic7\", \"Topic7\", \"Topic7\", \"Topic7\", \"Topic7\", \"Topic7\", \"Topic8\", \"Topic8\", \"Topic8\", \"Topic8\", \"Topic8\", \"Topic8\", \"Topic8\", \"Topic8\", \"Topic8\", \"Topic8\", \"Topic8\", \"Topic8\", \"Topic8\", \"Topic8\", \"Topic8\", \"Topic8\", \"Topic8\", \"Topic8\", \"Topic8\", \"Topic8\", \"Topic8\", \"Topic8\", \"Topic8\", \"Topic8\", \"Topic8\", \"Topic8\", \"Topic8\", \"Topic8\", \"Topic8\", \"Topic8\", \"Topic8\", \"Topic8\", \"Topic8\", \"Topic8\", \"Topic8\", \"Topic8\", \"Topic8\", \"Topic8\", \"Topic8\", \"Topic8\", \"Topic8\", \"Topic8\", \"Topic8\", \"Topic8\", \"Topic8\", \"Topic8\", \"Topic8\", \"Topic9\", \"Topic9\", \"Topic9\", \"Topic9\", \"Topic9\", \"Topic9\", \"Topic9\", \"Topic9\", \"Topic9\", \"Topic9\", \"Topic9\", \"Topic9\", \"Topic9\", \"Topic9\", \"Topic9\", \"Topic9\", \"Topic9\", \"Topic9\", \"Topic9\", \"Topic9\", \"Topic9\", \"Topic9\", \"Topic9\", \"Topic9\", \"Topic9\", \"Topic9\", \"Topic9\", \"Topic9\", \"Topic9\", \"Topic9\", \"Topic9\", \"Topic9\", \"Topic9\", \"Topic9\", \"Topic9\", \"Topic9\", \"Topic9\", \"Topic9\", \"Topic9\", \"Topic9\", \"Topic9\", \"Topic9\", \"Topic9\", \"Topic9\", \"Topic9\", \"Topic9\", \"Topic9\", \"Topic9\", \"Topic9\", \"Topic9\", \"Topic9\", \"Topic9\", \"Topic9\", \"Topic9\", \"Topic9\", \"Topic9\", \"Topic9\", \"Topic9\", \"Topic9\", \"Topic9\", \"Topic9\", \"Topic9\", \"Topic9\", \"Topic9\", \"Topic10\", \"Topic10\", \"Topic10\", \"Topic10\", \"Topic10\", \"Topic10\", \"Topic10\", \"Topic10\", \"Topic10\", \"Topic10\", \"Topic10\", \"Topic10\", \"Topic10\", \"Topic10\", \"Topic10\", \"Topic10\", \"Topic10\", \"Topic10\", \"Topic10\", \"Topic10\", \"Topic10\", \"Topic10\", \"Topic10\", \"Topic10\", \"Topic10\", \"Topic10\", \"Topic10\", \"Topic10\", \"Topic10\", \"Topic10\", \"Topic10\", \"Topic10\", \"Topic10\", \"Topic10\", \"Topic10\", \"Topic10\", \"Topic10\", \"Topic10\", \"Topic10\", \"Topic10\", \"Topic10\", \"Topic10\", \"Topic10\", \"Topic10\", \"Topic10\", \"Topic10\", \"Topic10\", \"Topic10\", \"Topic10\", \"Topic10\", \"Topic10\", \"Topic10\", \"Topic10\"], \"Freq\": [97.0, 11.0, 12.0, 12.0, 13.0, 12.0, 12.0, 15.0, 8.0, 7.0, 4.0, 4.0, 4.0, 5.0, 5.0, 11.0, 7.0, 6.0, 8.0, 4.0, 5.0, 9.0, 4.0, 4.0, 4.0, 7.0, 7.0, 4.0, 4.0, 4.0, 11.401938438415527, 11.108935356140137, 10.97484302520752, 6.423155784606934, 3.311967372894287, 3.311967611312866, 10.919669151306152, 11.346589088439941, 3.859030246734619, 2.6695873737335205, 2.097486972808838, 2.0395236015319824, 2.3136067390441895, 9.999103546142578, 1.8119680881500244, 1.7478100061416626, 1.7478092908859253, 2.3881101608276367, 1.5045409202575684, 1.5045397281646729, 1.5045379400253296, 10.927278518676758, 4.529203414916992, 5.757812976837158, 1.2469110488891602, 1.5415546894073486, 1.1961429119110107, 2.000150203704834, 1.142829179763794, 1.1247363090515137, 1.6810985803604126, 2.3757238388061523, 2.080227851867676, 7.879640579223633, 5.664660453796387, 3.003312587738037, 3.9263508319854736, 1.7187280654907227, 2.9343433380126953, 2.159024238586426, 2.586215019226074, 2.977264642715454, 3.137883186340332, 3.2316627502441406, 2.4556190967559814, 2.628471612930298, 2.8071653842926025, 2.2766518592834473, 2.387193441390991, 4.224220275878906, 3.968337297439575, 3.9683382511138916, 4.300151348114014, 2.680142879486084, 2.6801419258117676, 2.680145502090454, 4.002867698669434, 5.044480323791504, 3.608332395553589, 1.4622379541397095, 1.3732291460037231, 1.3732295036315918, 1.3732279539108276, 1.7747772932052612, 1.3853449821472168, 1.3184980154037476, 1.3342766761779785, 1.7733097076416016, 1.169771432876587, 2.7355518341064453, 2.699424982070923, 1.351759672164917, 1.0731401443481445, 1.346039056777954, 1.03406822681427, 1.0340672731399536, 1.0340664386749268, 1.0340664386749268, 1.034065842628479, 2.5520548820495605, 1.2157570123672485, 3.2166967391967773, 1.8871039152145386, 3.7837717533111572, 1.9406673908233643, 2.784733772277832, 2.5849215984344482, 3.1264209747314453, 3.47714900970459, 2.2290077209472656, 1.746958613395691, 2.9970571994781494, 2.6938445568084717, 2.2893948554992676, 1.7136212587356567, 2.057551622390747, 2.69336199760437, 2.4472553730010986, 2.420555830001831, 2.2018864154815674, 2.1752700805664062, 2.1296184062957764, 3.0007119178771973, 2.9422528743743896, 2.9422528743743896, 2.9422552585601807, 2.9422507286071777, 2.697795867919922, 2.6363096237182617, 2.9619863033294678, 6.775451183319092, 2.565534830093384, 1.6771494150161743, 1.5550061464309692, 3.106321096420288, 1.3386070728302002, 2.72662353515625, 1.0903903245925903, 2.76753568649292, 2.6587820053100586, 1.3096200227737427, 2.7221145629882812, 2.5875210762023926, 2.6808056831359863, 1.4157872200012207, 0.9301279783248901, 0.9301282167434692, 1.322389841079712, 3.064649820327759, 2.8310508728027344, 2.6277871131896973, 0.7852777242660522, 2.460566759109497, 2.9723827838897705, 4.185915946960449, 3.961609363555908, 5.50028133392334, 4.418469429016113, 2.929847478866577, 5.388525485992432, 3.7678885459899902, 2.959155559539795, 2.783370018005371, 2.5976641178131104, 2.6029040813446045, 2.9000444412231445, 2.8380837440490723, 2.838085174560547, 2.8380849361419678, 2.8380849361419678, 2.838083505630493, 2.8380825519561768, 2.803802490234375, 2.803769111633301, 2.771336555480957, 1.8188579082489014, 1.4276162385940552, 1.4276162385940552, 1.9565130472183228, 1.8971858024597168, 3.1336288452148438, 1.8596296310424805, 1.0694973468780518, 1.8970273733139038, 2.6554067134857178, 1.4751654863357544, 1.0956891775131226, 0.8520328998565674, 0.8474214673042297, 1.2313899993896484, 0.8033438324928284, 0.803196132183075, 0.7915409803390503, 1.2855806350708008, 2.9061689376831055, 2.5138843059539795, 2.5138845443725586, 1.7595038414001465, 2.4388184547424316, 2.3636128902435303, 1.8670378923416138, 1.3260377645492554, 3.142852544784546, 2.7320027351379395, 1.4784648418426514, 2.247077226638794, 2.4640164375305176, 1.7236157655715942, 1.6777064800262451, 2.478684186935425, 2.478685140609741, 2.478682518005371, 2.478684902191162, 2.478682041168213, 2.478682518005371, 1.951340675354004, 1.8619263172149658, 1.861926555633545, 1.9112452268600464, 0.8032336235046387, 0.7882581353187561, 2.165834903717041, 0.7511303424835205, 0.7306980490684509, 0.8136104345321655, 0.6614683270454407, 0.661468505859375, 0.6614680290222168, 1.873519778251648, 0.6498733162879944, 0.7986598610877991, 0.78326815366745, 0.6012948155403137, 0.6012284159660339, 0.6010669469833374, 0.5976265072822571, 0.5875072479248047, 0.5875064730644226, 0.5875064730644226, 0.7986606955528259, 1.2981208562850952, 2.051023483276367, 1.7618046998977661, 0.9381904006004333, 3.0131053924560547, 1.0548210144042969, 1.5690629482269287, 2.6074516773223877, 2.2396485805511475, 1.0826367139816284, 1.479886531829834, 1.9851734638214111, 1.22696053981781, 1.284171223640442, 1.0861250162124634, 1.8442286252975464, 1.5416688919067383, 1.3150461912155151, 2.046227216720581, 1.715332269668579, 1.5346980094909668, 1.2559446096420288, 1.3554909229278564, 1.462052583694458, 1.384196162223816, 1.3092387914657593, 4.3999247550964355, 4.399929046630859, 4.39992618560791, 4.195479869842529, 4.184215068817139, 1.833112120628357, 1.0597267150878906, 1.1019632816314697, 1.0456411838531494, 0.8336747884750366, 0.8336744904518127, 0.8336743712425232, 1.2742726802825928, 1.752011775970459, 1.478997826576233, 0.7762370705604553, 0.7762373089790344, 0.765652060508728, 0.7656509876251221, 0.7656509280204773, 1.1575719118118286, 0.7899725437164307, 0.7286741137504578, 0.7279877662658691, 0.8692613244056702, 0.7116333246231079, 1.0841450691223145, 0.6958128809928894, 0.659834086894989, 0.8087035417556763, 1.2536416053771973, 0.904059886932373, 0.9895922541618347, 1.0440577268600464, 0.9910601377487183, 1.3796569108963013, 2.320585250854492, 2.6560287475585938, 1.568475604057312, 1.6558058261871338, 1.5767377614974976, 1.765443205833435, 1.461733102798462, 1.1784368753433228, 1.3497819900512695, 1.2630517482757568, 1.4369726181030273, 1.763108253479004, 1.5603723526000977, 1.3675460815429688, 1.4387651681900024, 1.3731192350387573, 1.25584876537323, 1.3634967803955078, 1.2816919088363647, 1.2600133419036865, 1.2722241878509521, 1.4874582290649414, 1.0853427648544312, 0.9478028416633606, 2.11434006690979, 2.8443233966827393, 0.7784594893455505, 1.4187971353530884, 1.4121378660202026, 1.674771785736084, 0.7246936559677124, 0.7246934175491333, 0.7246939539909363, 0.7246930599212646, 0.7246933579444885, 0.7246934175491333, 0.724693238735199, 0.7246930599212646, 0.6940225958824158, 0.9010091423988342, 0.6858248114585876, 0.6858246326446533, 0.685824990272522, 0.8221498131752014, 0.6996133923530579, 0.6608607769012451, 0.8147786855697632, 0.7976754307746887, 0.7675454020500183, 0.6000684499740601, 0.6000680923461914, 0.9023283123970032, 0.7320017218589783, 1.3956650495529175, 1.0362194776535034, 1.0056073665618896, 1.0460349321365356, 1.5158075094223022, 1.425843596458435, 0.9399279952049255, 1.3426607847213745, 1.0253413915634155, 0.8823161125183105, 1.0618988275527954, 0.8622324466705322, 0.9878596067428589, 1.3320454359054565, 1.4118547439575195, 1.0300313234329224, 1.3352513313293457, 0.9079159498214722, 0.9075819849967957, 1.015259861946106, 1.0651898384094238, 1.0185025930404663, 1.016232967376709, 0.9826949834823608, 0.9617953300476074, 0.9089363217353821, 2.2661523818969727, 2.2661514282226562, 1.7342174053192139, 1.7342166900634766, 1.7342169284820557, 1.7342164516448975, 1.7342169284820557, 1.7342166900634766, 1.7342158555984497, 1.7342169284820557, 1.7342169284820557, 2.078634262084961, 1.2540760040283203, 1.1617239713668823, 1.1617233753204346, 1.1617233753204346, 1.1617223024368286, 1.1617223024368286, 1.161722183227539, 1.1445006132125854, 2.1163434982299805, 1.2759277820587158, 0.9522250294685364, 1.1405552625656128, 1.1405296325683594, 1.093726634979248, 0.8440842032432556, 0.8440837860107422, 0.8311682939529419, 1.1211731433868408, 1.8352854251861572, 1.2638226747512817, 1.700824499130249, 1.554640769958496, 2.5062930583953857, 1.4366461038589478, 1.8960448503494263, 1.5578699111938477, 1.4139597415924072, 1.4139595031738281, 1.5390721559524536, 1.494351863861084, 1.2688194513320923, 1.4094194173812866, 1.3239350318908691, 1.355783224105835, 1.2888315916061401, 1.1445674896240234, 1.096901774406433, 1.096901535987854, 0.8357723355293274, 1.223298192024231, 0.7796870470046997, 0.7581416964530945, 0.7581421136856079, 0.758141815662384, 0.7581413984298706, 0.7581416368484497, 1.2121427059173584, 0.7502301931381226, 0.9317027926445007, 0.6164818406105042, 0.7355154752731323, 0.5829206109046936, 0.7358056306838989, 0.5618581175804138, 0.5618562698364258, 0.5618516802787781, 0.5588964223861694, 0.5588960647583008, 0.7711946964263916, 0.5231291651725769, 0.5231293439865112, 0.5231291651725769, 0.5231291651725769, 0.5231291651725769, 0.5231289863586426, 0.5231289863586426, 1.032845377922058, 1.5039623975753784, 1.0432946681976318, 0.7355116009712219, 0.7432786822319031, 1.1661779880523682, 1.2896397113800049, 0.7328703999519348, 0.9283747673034668, 0.9232285022735596, 0.6118252873420715, 0.6997619271278381, 1.250251293182373, 1.0552377700805664, 0.8214055299758911, 1.2692372798919678, 1.0868940353393555, 1.2576828002929688, 1.1303192377090454, 1.0452353954315186, 1.0381791591644287, 1.1756644248962402, 1.028976321220398, 1.1831549406051636, 1.0586810111999512, 0.9525200724601746, 0.8571459650993347, 0.8673476576805115, 0.8682807683944702, 1.0021283626556396, 0.9850336313247681, 0.918114423751831, 0.8800167441368103, 97.03093719482422, 1.0052908658981323, 1.053259253501892, 0.9784024953842163, 0.6720227599143982, 0.5856876969337463, 0.5609581470489502, 0.9344227910041809, 0.5165234804153442, 0.6000530123710632, 0.4839266836643219, 0.648478627204895, 0.7032378315925598, 0.7957872152328491, 0.37392598390579224, 0.37392571568489075, 0.37392550706863403, 0.3656120300292969, 0.36561185121536255, 0.36561182141304016, 0.36561182141304016, 0.3632809817790985, 0.34547457098960876, 0.34231963753700256, 0.34231939911842346, 0.34231939911842346, 0.34231939911842346, 0.8840232491493225, 0.3343881070613861, 0.33324113488197327, 0.47620561718940735, 0.8701092004776001, 0.4751109182834625, 0.8726403117179871, 0.794750988483429, 0.9193820357322693, 0.4337017238140106, 0.8193238973617554, 0.9672518968582153, 0.6085273027420044, 0.4643341302871704, 0.5095681548118591, 0.8236326575279236, 0.5140244364738464, 0.7228526473045349, 0.9443830251693726, 0.7910012006759644, 0.6679010987281799, 0.6840891242027283, 0.5884190201759338, 0.6550649404525757, 0.5884169340133667, 0.5356671810150146], \"Term\": [\"rand\", \"newspap\", \"subscrib\", \"morn\", \"india\", \"order\", \"start\", \"daili\", \"life\", \"map\", \"meyer\", \"colbert\", \"fallon\", \"product\", \"suspend\", \"trump\", \"latest\", \"johnson\", \"symptom\", \"chat\", \"facebook\", \"presid\", \"unfold\", \"messeng\", \"contact\", \"patient\", \"donald\", \"josi\", \"ford\", \"happen\", \"newspap\", \"subscrib\", \"morn\", \"map\", \"accor\", \"common\", \"order\", \"india\", \"sailor\", \"navi\", \"letter\", \"nightmar\", \"theodor\", \"start\", \"carrier\", \"pictur\", \"rema\", \"roosevelt\", \"spring\", \"nichola\", \"hurdl\", \"daili\", \"total\", \"symptom\", \"duti\", \"delhi\", \"relax\", \"wide\", \"pork\", \"launder\", \"grind\", \"local\", \"money\", \"time\", \"case\", \"live\", \"death\", \"aircraft\", \"number\", \"halt\", \"track\", \"outbreak\", \"state\", \"covid\", \"govern\", \"updat\", \"coronavirus\", \"feder\", \"say\", \"chat\", \"unfold\", \"messeng\", \"facebook\", \"craig\", \"club\", \"supper\", \"happen\", \"johnson\", \"bori\", \"quit\", \"dream\", \"emma\", \"waitress\", \"kit\", \"father\", \"mismanag\", \"discord\", \"thoma\", \"baldwin\", \"british\", \"intens\", \"access\", \"kati\", \"decemb\", \"overstretch\", \"stroke\", \"shar\", \"understaf\", \"sad\", \"stori\", \"heart\", \"call\", \"poster\", \"hospit\", \"particip\", \"prime\", \"easter\", \"minist\", \"world\", \"london\", \"control\", \"trump\", \"presid\", \"announc\", \"move\", \"care\", \"say\", \"test\", \"updat\", \"health\", \"covid\", \"coronavirus\", \"lui\", \"alvarez\", \"annale\", \"newitz\", \"lucki\", \"huffpost\", \"refresh\", \"job\", \"life\", \"page\", \"newsom\", \"gavin\", \"onlin\", \"tabl\", \"kind\", \"cent\", \"read\", \"flatten\", \"californian\", \"curv\", \"transmiss\", \"brief\", \"have\", \"facial\", \"norm\", \"organis\", \"open\", \"street\", \"experi\", \"metric\", \"need\", \"shut\", \"latest\", \"donald\", \"trump\", \"presid\", \"public\", \"pandem\", \"updat\", \"work\", \"report\", \"peopl\", \"coronavirus\", \"paul\", \"hide\", \"adult\", \"stave\", \"children\", \"ramchandani\", \"indirect\", \"last\", \"consequ\", \"choic\", \"trial\", \"puerto\", \"rico\", \"panic\", \"sound\", \"effect\", \"light\", \"columbia\", \"alarm\", \"direct\", \"treatment\", \"cluster\", \"columnist\", \"birx\", \"immun\", \"smart\", \"measl\", \"actual\", \"japan\", \"worst\", \"josi\", \"ford\", \"clinic\", \"impact\", \"sever\", \"decis\", \"hopkin\", \"covid\", \"state\", \"drug\", \"test\", \"case\", \"accord\", \"novel\", \"quilti\", \"harper\", \"liverpool\", \"layal\", \"conrad\", \"wong\", \"brooklyn\", \"shutterstock\", \"minchillo\", \"ambul\", \"estat\", \"conced\", \"vaughan\", \"allergi\", \"particl\", \"routin\", \"wouldn\", \"medi\", \"choos\", \"worldwid\", \"shelf\", \"partnership\", \"filter\", \"mutat\", \"jeopard\", \"preve\", \"conscious\", \"jason\", \"redmond\", \"detect\", \"monitor\", \"mask\", \"adam\", \"pass\", \"signific\", \"million\", \"hand\", \"googl\", \"april\", \"latest\", \"eas\", \"john\", \"news\", \"medic\", \"tell\", \"infecti\", \"countri\", \"confirm\", \"face\", \"case\", \"york\", \"report\", \"appl\", \"offici\", \"coronavirus\", \"say\", \"nation\", \"fallon\", \"meyer\", \"colbert\", \"product\", \"suspend\", \"count\", \"slightl\", \"beij\", \"nonessenti\", \"skyscrap\", \"seasid\", \"beach\", \"fatal\", \"near\", \"dubai\", \"raini\", \"hibern\", \"showcas\", \"slacken\", \"pari\", \"talli\", \"unchart\", \"entertain\", \"peer\", \"contin\", \"stephanopoulo\", \"prepar\", \"hawley\", \"actor\", \"individu\", \"epicent\", \"cough\", \"head\", \"link\", \"europ\", \"see\", \"week\", \"death\", \"infect\", \"monday\", \"reuter\", \"report\", \"sunday\", \"cuomo\", \"rise\", \"worker\", \"number\", \"coronavirus\", \"say\", \"citi\", \"case\", \"pandem\", \"toll\", \"covid\", \"novel\", \"nation\", \"home\", \"taylor\", \"dose\", \"music\", \"mean\", \"contact\", \"versus\", \"trace\", \"brook\", \"contract\", \"sxsw\", \"theater\", \"festiv\", \"stagecoach\", \"quiet\", \"film\", \"coachella\", \"ultra\", \"joint\", \"daughter\", \"goodi\", \"trio\", \"agent\", \"melinda\", \"reel\", \"contamin\", \"plenti\", \"resign\", \"problem\", \"arrang\", \"sachin\", \"hotel\", \"mail\", \"higher\", \"expos\", \"theori\", \"gate\", \"patient\", \"like\", \"healthcar\", \"die\", \"result\", \"answer\", \"includ\", \"self\", \"close\", \"peopl\", \"time\", \"come\", \"coronavirus\", \"concern\", \"question\", \"diseas\", \"covid\", \"death\", \"say\", \"week\", \"work\", \"googl\", \"venic\", \"canal\", \"revers\", \"greenhous\", \"carnac\", \"figuer\", \"christiana\", \"climat\", \"rivett\", \"emiss\", \"trajectori\", \"mileston\", \"water\", \"pollut\", \"fish\", \"plagu\", \"andrea\", \"boatfre\", \"pattaro\", \"fiction\", \"clear\", \"grand\", \"bilbao\", \"cleaner\", \"harm\", \"episod\", \"evict\", \"landlord\", \"mortal\", \"breath\", \"requir\", \"billionair\", \"chang\", \"radic\", \"patient\", \"current\", \"citi\", \"go\", \"ford\", \"josi\", \"global\", \"crisi\", \"chines\", \"test\", \"know\", \"peopl\", \"covid\", \"princess\", \"octan\", \"monica\", \"cloud\", \"situat\", \"consecut\", \"competit\", \"crime\", \"favorit\", \"docuseri\", \"audienc\", \"form\", \"rubi\", \"stick\", \"blizzcon\", \"drama\", \"conspiraci\", \"sit\", \"column\", \"interfac\", \"intersect\", \"tower\", \"telecom\", \"treasuri\", \"viewpoint\", \"crystal\", \"blackmon\", \"hawk\", \"hysteria\", \"empow\", \"grayson\", \"isol\", \"oper\", \"peak\", \"realiti\", \"misinform\", \"room\", \"high\", \"lower\", \"attack\", \"unlik\", \"pierc\", \"celebr\", \"doctor\", \"deal\", \"self\", \"like\", \"differ\", \"york\", \"patient\", \"care\", \"economi\", \"outbreak\", \"feder\", \"state\", \"home\", \"sever\", \"bank\", \"media\", \"treat\", \"coronavirus\", \"say\", \"today\", \"covid\", \"rand\", \"toronto\", \"canadian\", \"strong\", \"malayan\", \"femal\", \"word\", \"short\", \"veterinar\", \"domest\", \"chequer\", \"bronx\", \"tiger\", \"demand\", \"rang\", \"larger\", \"document\", \"explor\", \"compens\", \"shortfal\", \"finan\", \"deputis\", \"acquir\", \"huddl\", \"offshoot\", \"unreport\", \"reckless\", \"kill\", \"prais\", \"horribl\", \"express\", \"model\", \"squar\", \"releas\", \"contain\", \"data\", \"loan\", \"place\", \"offici\", \"billion\", \"debt\", \"initi\", \"nation\", \"human\", \"measur\", \"say\", \"novel\", \"thursday\", \"peopl\", \"care\", \"time\", \"infect\", \"govern\"], \"Total\": [97.0, 11.0, 12.0, 12.0, 13.0, 12.0, 12.0, 15.0, 8.0, 7.0, 4.0, 4.0, 4.0, 5.0, 5.0, 11.0, 7.0, 6.0, 8.0, 4.0, 5.0, 9.0, 4.0, 4.0, 4.0, 7.0, 7.0, 4.0, 4.0, 4.0, 11.988751411437988, 12.138484954833984, 12.130170822143555, 7.199152946472168, 3.857722520828247, 3.8577237129211426, 12.771578788757324, 13.368202209472656, 4.6769795417785645, 3.2684338092803955, 2.6447465419769287, 2.579406261444092, 2.9320225715637207, 12.778938293457031, 2.3706719875335693, 2.287257194519043, 2.287256956100464, 3.1982991695404053, 2.0401666164398193, 2.040165662765503, 2.040163993835449, 15.072629928588867, 6.351058006286621, 8.077381134033203, 1.7845771312713623, 2.229355812072754, 1.7538273334503174, 2.9328248500823975, 1.6854166984558105, 1.659160852432251, 2.4822123050689697, 3.578396797180176, 3.1617276668548584, 15.372925758361816, 14.05759048461914, 6.421218395233154, 12.306389808654785, 2.664294958114624, 7.976830959320068, 4.447391033172607, 7.032678127288818, 10.79494571685791, 12.918935775756836, 15.482561111450195, 7.243756294250488, 10.580735206604004, 15.946191787719727, 6.0643815994262695, 13.985103607177734, 4.771152019500732, 4.5115532875061035, 4.511554718017578, 5.084988594055176, 3.21665358543396, 3.2166531085968018, 3.2166576385498047, 4.8237738609313965, 6.329609394073486, 4.854093074798584, 2.000983953475952, 1.9072843790054321, 1.907285213470459, 1.9072836637496948, 2.4762704372406006, 1.9440089464187622, 1.8568540811538696, 1.8811012506484985, 2.547417163848877, 1.7013720273971558, 4.001692771911621, 3.9722633361816406, 2.0205636024475098, 1.6082607507705688, 2.0322721004486084, 1.5676900148391724, 1.5676894187927246, 1.5676884651184082, 1.5676885843276978, 1.567687749862671, 4.1480584144592285, 1.8692318201065063, 5.63620138168335, 3.132413148880005, 7.299633026123047, 3.384181261062622, 5.52411413192749, 5.321793556213379, 7.254363536834717, 12.205856323242188, 5.320786952972412, 3.379671335220337, 11.315317153930664, 9.776561737060547, 6.597917556762695, 3.3317716121673584, 5.510246276855469, 13.985103607177734, 10.681573867797852, 10.580735206604004, 11.752609252929688, 15.482561111450195, 15.946191787719727, 3.5557920932769775, 3.4897308349609375, 3.489734172821045, 3.489737033843994, 3.4897329807281494, 3.2600576877593994, 3.1909308433532715, 3.837057590484619, 8.885659217834473, 3.3676958084106445, 2.2629425525665283, 2.121605157852173, 4.294668197631836, 1.8843942880630493, 4.047348499298096, 1.628730058670044, 4.200404167175293, 4.059177875518799, 2.0047764778137207, 4.22942590713501, 4.036922931671143, 4.1862311363220215, 2.227808952331543, 1.4661473035812378, 1.466147541999817, 2.112283229827881, 4.930535316467285, 4.684976100921631, 4.4178924560546875, 1.32419753074646, 4.156589508056641, 5.0827860832214355, 7.880285263061523, 7.579888343811035, 11.315317153930664, 9.776561737060547, 5.810873985290527, 14.707459449768066, 10.580735206604004, 7.291810035705566, 10.012843132019043, 10.37177848815918, 15.946191787719727, 3.458768606185913, 3.394780397415161, 3.3947834968566895, 3.3947834968566895, 3.3947837352752686, 3.3947818279266357, 3.394782781600952, 3.4672508239746094, 3.485511541366577, 3.496941566467285, 2.3600385189056396, 1.972912311553955, 1.972913146018982, 2.7243871688842773, 2.730013132095337, 4.573486804962158, 2.727945327758789, 1.6130096912384033, 2.9014780521392822, 4.101849555969238, 2.362802505493164, 1.783733606338501, 1.391659140586853, 1.386027455329895, 2.024165391921997, 1.3421905040740967, 1.3430306911468506, 1.3315393924713135, 2.173074245452881, 4.983811378479004, 4.429770469665527, 4.429774284362793, 3.374321937561035, 4.97711706161499, 5.121657371520996, 3.85538911819458, 2.4536330699920654, 15.482561111450195, 12.918935775756836, 3.1520638465881348, 10.681573867797852, 14.05759048461914, 6.7549357414245605, 8.579002380371094, 3.0329811573028564, 3.0329818725585938, 3.03298020362854, 3.0329830646514893, 3.032979965209961, 3.032982349395752, 2.4952404499053955, 2.405930757522583, 2.405930519104004, 3.023268461227417, 1.342972755432129, 1.3283162117004395, 3.659395456314087, 1.3002166748046875, 1.2697871923446655, 1.4767061471939087, 1.200840950012207, 1.2008414268493652, 1.200840711593628, 3.4155161380767822, 1.189681053161621, 1.4720536470413208, 1.4550204277038574, 1.1407954692840576, 1.1407923698425293, 1.1407833099365234, 1.141862154006958, 1.1266827583312988, 1.126681923866272, 1.1266820430755615, 1.532083511352539, 2.522002696990967, 4.128195285797119, 3.6725194454193115, 1.8979289531707764, 8.352282524108887, 2.2878756523132324, 4.217050552368164, 9.976289749145508, 7.880285263061523, 2.6845669746398926, 4.501267433166504, 7.396838188171387, 3.3322529792785645, 3.864300489425659, 2.8100709915161133, 8.983705520629883, 6.244866847991943, 4.541476726531982, 14.05759048461914, 9.248346328735352, 10.012843132019043, 4.711033821105957, 7.386392593383789, 15.946191787719727, 13.985103607177734, 7.310304641723633, 4.9696197509765625, 4.969624996185303, 4.9696221351623535, 5.245152473449707, 5.377615928649902, 2.3784573078155518, 1.6012248992919922, 1.7777295112609863, 1.7199040651321411, 1.3743678331375122, 1.3743680715560913, 1.3743679523468018, 2.1292927265167236, 2.9506101608276367, 2.491305351257324, 1.315900444984436, 1.3159009218215942, 1.3065941333770752, 1.3065929412841797, 1.3065932989120483, 1.9755859375, 1.350881576538086, 1.269261121749878, 1.2697474956512451, 1.5274426937103271, 1.2523404359817505, 1.9150973558425903, 1.234236717224121, 1.2007553577423096, 1.495804786682129, 2.351372241973877, 1.7208914756774902, 1.9904283285140991, 2.1935994625091553, 2.0971643924713135, 3.642840623855591, 9.440075874328613, 12.306389808654785, 6.36313009262085, 7.513593673706055, 7.441873550415039, 10.012843132019043, 6.834207057952881, 3.714503765106201, 5.6348724365234375, 4.932449817657471, 7.976830959320068, 15.946191787719727, 13.985103607177734, 8.372903823852539, 14.05759048461914, 14.707459449768066, 6.640589714050293, 15.482561111450195, 8.579002380371094, 7.310304641723633, 8.684359550476074, 2.1685268878936768, 1.6310889720916748, 1.4911160469055176, 3.4484102725982666, 4.8195414543151855, 1.3216938972473145, 2.415870428085327, 2.4233076572418213, 2.8944623470306396, 1.267320156097412, 1.2673200368881226, 1.267320990562439, 1.267319679260254, 1.267320156097412, 1.2673202753067017, 1.2673202753067017, 1.2673202753067017, 1.2361592054367065, 1.6072328090667725, 1.2291449308395386, 1.2291446924209595, 1.2291455268859863, 1.4818720817565918, 1.2618387937545776, 1.204338788986206, 1.518366813659668, 1.4970792531967163, 1.4587721824645996, 1.1434537172317505, 1.1434533596038818, 1.7352956533432007, 1.409066081047058, 3.3716464042663574, 2.329350233078003, 2.5472307205200195, 2.7873504161834717, 7.065980911254883, 6.460944652557373, 2.501368761062622, 7.027593612670898, 3.6429476737976074, 2.309215545654297, 4.22587776184082, 2.265613555908203, 3.675807476043701, 10.37177848815918, 15.372925758361816, 5.089914321899414, 15.946191787719727, 3.098349094390869, 3.1410365104675293, 6.7249956130981445, 15.482561111450195, 12.306389808654785, 13.985103607177734, 9.440075874328613, 7.291810035705566, 4.217050552368164, 2.8119802474975586, 2.811978340148926, 2.2843215465545654, 2.2843210697174072, 2.2843215465545654, 2.2843213081359863, 2.2843217849731445, 2.2843217849731445, 2.2843213081359863, 2.28432297706604, 2.284322738647461, 2.755436420440674, 1.8025692701339722, 1.704973816871643, 1.7049731016159058, 1.704973578453064, 1.7049723863601685, 1.704972505569458, 1.704972505569458, 1.6911379098892212, 3.1677956581115723, 1.9605625867843628, 1.4976365566253662, 1.7977712154388428, 1.813184142112732, 1.789769172668457, 1.3880765438079834, 1.3880760669708252, 1.3759015798568726, 1.9146795272827148, 3.3174402713775635, 2.2313480377197266, 3.348421096801758, 3.162303924560547, 7.065980911254883, 3.6729369163513184, 8.372903823852539, 5.361673831939697, 4.429774284362793, 4.429770469665527, 7.059319972991943, 6.471645355224609, 3.4441943168640137, 10.681573867797852, 5.788657188415527, 10.37177848815918, 15.482561111450195, 1.7090559005737305, 1.643230676651001, 1.6432304382324219, 1.380271077156067, 2.044090986251831, 1.3293261528015137, 1.3014016151428223, 1.3014023303985596, 1.3014018535614014, 1.3014016151428223, 1.30140221118927, 2.0828866958618164, 1.294510841369629, 1.6869033575057983, 1.1597217321395874, 1.4179928302764893, 1.1257483959197998, 1.433320164680481, 1.1089223623275757, 1.1089227199554443, 1.1089216470718384, 1.1096484661102295, 1.1096487045288086, 1.5638426542282104, 1.0663743019104004, 1.0663750171661377, 1.0663747787475586, 1.066374659538269, 1.0663747787475586, 1.066374659538269, 1.066374659538269, 2.2454936504364014, 3.4418790340423584, 2.3082475662231445, 1.5769541263580322, 1.5970122814178467, 2.767542839050293, 3.323521852493286, 1.6029843091964722, 2.2389323711395264, 2.5976476669311523, 1.285822868347168, 1.6323974132537842, 4.6768083572387695, 3.661543846130371, 2.265613555908203, 6.460944652557373, 4.756067752838135, 9.248346328735352, 7.065980911254883, 5.510246276855469, 5.430186748504639, 10.79494571685791, 6.0643815994262695, 12.918935775756836, 8.684359550476074, 5.121657371520996, 2.7958216667175293, 3.1081995964050293, 3.5062334537506104, 15.946191787719727, 13.985103607177734, 6.197511196136475, 15.482561111450195, 97.72602844238281, 1.5601435899734497, 1.7896581888198853, 1.6762406826019287, 1.2511084079742432, 1.1478887796401978, 1.111656665802002, 1.8811242580413818, 1.0683882236480713, 1.273451566696167, 1.036020040512085, 1.4025828838348389, 1.6042371988296509, 1.8507094383239746, 0.9255186319351196, 0.9255188703536987, 0.925518810749054, 0.9160361886024475, 0.9160361289978027, 0.9160361289978027, 0.9160362482070923, 0.9165798425674438, 0.8945454359054565, 0.891331672668457, 0.8913314342498779, 0.8913314342498779, 0.8913314342498779, 2.3090012073516846, 0.8834043741226196, 0.8822531700134277, 1.2957454919815063, 2.573720693588257, 1.3122332096099854, 3.6342997550964355, 3.163431406021118, 4.4466729164123535, 1.3158806562423706, 4.116201877593994, 7.386392593383789, 2.7594804763793945, 1.5329639911651611, 1.9286682605743408, 7.310304641723633, 2.175441026687622, 5.907670497894287, 13.985103607177734, 8.579002380371094, 6.435273170471191, 10.37177848815918, 5.510246276855469, 15.372925758361816, 6.36313009262085, 7.243756294250488], \"loglift\": [30.0, 29.0, 28.0, 27.0, 26.0, 25.0, 24.0, 23.0, 22.0, 21.0, 20.0, 19.0, 18.0, 17.0, 16.0, 15.0, 14.0, 13.0, 12.0, 11.0, 10.0, 9.0, 8.0, 7.0, 6.0, 5.0, 4.0, 3.0, 2.0, 1.0, 1.889299988746643, 1.8509000539779663, 1.839400053024292, 1.8255000114440918, 1.7869999408721924, 1.7869999408721924, 1.7828999757766724, 1.7755999565124512, 1.7473000288009644, 1.7371000051498413, 1.7077000141143799, 1.704699993133545, 1.7026000022888184, 1.694200038909912, 1.670799970626831, 1.6705000400543213, 1.6705000400543213, 1.6474000215530396, 1.6349999904632568, 1.6349999904632568, 1.6349999904632568, 1.617900013923645, 1.6014000177383423, 1.6009999513626099, 1.5809999704360962, 1.5706000328063965, 1.5568000078201294, 1.5568000078201294, 1.5509999990463257, 1.5507999658584595, 1.5498000383377075, 1.5298999547958374, 1.520900011062622, 1.2711999416351318, 1.0305999517440796, 1.1796000003814697, 0.7971000075340271, 1.5011999607086182, 0.9394999742507935, 1.2168999910354614, 0.9391000270843506, 0.6514000296592712, 0.524399995803833, 0.37279999256134033, 0.8578000068664551, 0.5468999743461609, 0.20250000059604645, 0.9598000049591064, 0.17159999907016754, 1.8973000049591064, 1.8906999826431274, 1.8906999826431274, 1.8514000177383423, 1.8365999460220337, 1.8365999460220337, 1.8365999460220337, 1.8324999809265137, 1.792099952697754, 1.722499966621399, 1.705399990081787, 1.690500020980835, 1.690500020980835, 1.690500020980835, 1.6859999895095825, 1.6801999807357788, 1.6765999794006348, 1.6756000518798828, 1.6568000316619873, 1.6444000005722046, 1.6385999917984009, 1.632699966430664, 1.6171000003814697, 1.6145000457763672, 1.6069999933242798, 1.6029000282287598, 1.6029000282287598, 1.6029000282287598, 1.6029000282287598, 1.6029000282287598, 1.5333000421524048, 1.5888999700546265, 1.4581999778747559, 1.5123000144958496, 1.361899971961975, 1.4630000591278076, 1.3341000080108643, 1.2969000339508057, 1.177299976348877, 0.7633000016212463, 1.1490000486373901, 1.3590999841690063, 0.690500020980835, 0.7300000190734863, 0.9606000185012817, 1.354099988937378, 1.0339000225067139, 0.3718000054359436, 0.5454999804496765, 0.5440000295639038, 0.3443000018596649, 0.05649999901652336, 0.005799999926239252, 1.9771000146865845, 1.976199984550476, 1.976199984550476, 1.976199984550476, 1.976199984550476, 1.9574999809265137, 1.955899953842163, 1.8880000114440918, 1.8756999969482422, 1.8747999668121338, 1.8472000360488892, 1.8360999822616577, 1.8229000568389893, 1.804800033569336, 1.7517999410629272, 1.7454999685287476, 1.729599952697754, 1.7237000465393066, 1.7209999561309814, 1.7062000036239624, 1.7020000219345093, 1.7010999917984009, 1.69350004196167, 1.6916999816894531, 1.6916999816894531, 1.6785000562667847, 1.6713000535964966, 1.6431000232696533, 1.6273000240325928, 1.6243000030517578, 1.622499942779541, 1.6102999448776245, 1.51419997215271, 1.4980000257492065, 1.4255000352859497, 1.3525999784469604, 1.4620000123977661, 1.142699956893921, 1.114300012588501, 1.2450000047683716, 0.866599977016449, 0.7623000144958496, 0.334199994802475, 2.128499984741211, 2.1256000995635986, 2.1256000995635986, 2.1256000995635986, 2.1256000995635986, 2.1256000995635986, 2.1256000995635986, 2.0922999382019043, 2.0869998931884766, 2.0720999240875244, 2.0441999435424805, 1.9811999797821045, 1.9811999797821045, 1.9736000299453735, 1.9407000541687012, 1.9265999794006348, 1.9214999675750732, 1.8938000202178955, 1.879699945449829, 1.8697999715805054, 1.8336000442504883, 1.8172999620437622, 1.8140000104904175, 1.8127000331878662, 1.8077000379562378, 1.7913999557495117, 1.7905999422073364, 1.784600019454956, 1.7797000408172607, 1.7653000354766846, 1.7381999492645264, 1.7381999492645264, 1.653499960899353, 1.5913000106811523, 1.5313999652862549, 1.5795999765396118, 1.6892999410629272, 0.710099995136261, 0.7509999871253967, 1.5476000308990479, 0.7458000183105469, 0.5633000135421753, 0.9387999773025513, 0.6728000044822693, 2.1363000869750977, 2.1363000869750977, 2.1363000869750977, 2.1363000869750977, 2.1363000869750977, 2.1363000869750977, 2.0922999382019043, 2.0817999839782715, 2.0817999839782715, 1.8796000480651855, 1.8242000341415405, 1.8163000345230103, 1.8136999607086182, 1.7894999980926514, 1.785599946975708, 1.7421000003814697, 1.7417999505996704, 1.7417999505996704, 1.7417999505996704, 1.7376999855041504, 1.7335000038146973, 1.726699948310852, 1.7188999652862549, 1.6978000402450562, 1.697700023651123, 1.6973999738693237, 1.6907000541687012, 1.687000036239624, 1.687000036239624, 1.687000036239624, 1.6866999864578247, 1.6740000247955322, 1.638700008392334, 1.603600025177002, 1.6335999965667725, 1.318600058555603, 1.5638999938964844, 1.3494999408721924, 0.9962999820709229, 1.0801000595092773, 1.4299999475479126, 1.2258000373840332, 1.0227999687194824, 1.3391000032424927, 1.2365000247955322, 1.3875999450683594, 0.754800021648407, 0.939300000667572, 1.0987999439239502, 0.41100001335144043, 0.6532999873161316, 0.4625999927520752, 1.0161000490188599, 0.6427000164985657, -0.05119999870657921, 0.025299999862909317, 0.6183000206947327, 2.2369000911712646, 2.2369000911712646, 2.2369000911712646, 2.1352999210357666, 2.1077001094818115, 2.0982000827789307, 1.9458999633789062, 1.8803999423980713, 1.8609999418258667, 1.8587000370025635, 1.8587000370025635, 1.8587000370025635, 1.8451999425888062, 1.837399959564209, 1.8372000455856323, 1.8308000564575195, 1.8308000564575195, 1.8242000341415405, 1.8242000341415405, 1.8242000341415405, 1.8241000175476074, 1.822100043296814, 1.8036999702453613, 1.802299976348877, 1.7948999404907227, 1.7934000492095947, 1.7896000146865845, 1.7855000495910645, 1.7598999738693237, 1.7436000108718872, 1.729699969291687, 1.714900016784668, 1.6598000526428223, 1.6161999702453613, 1.6089999675750732, 1.3876999616622925, 0.9555000066757202, 0.8252999782562256, 0.9581999778747559, 0.8461999893188477, 0.8068000078201294, 0.6230999827384949, 0.8162999749183655, 1.2106000185012817, 0.9296000003814697, 0.9962999820709229, 0.644599974155426, 0.15649999678134918, 0.1655000001192093, 0.5465999841690063, 0.07919999957084656, -0.01269999984651804, 0.6931999921798706, -0.07100000232458115, 0.45750001072883606, 0.6004999876022339, 0.43790000677108765, 2.1208999156951904, 2.0905001163482666, 2.0446999073028564, 2.008699893951416, 1.9704999923706055, 1.968500018119812, 1.9656000137329102, 1.957800030708313, 1.950700044631958, 1.9390000104904175, 1.9390000104904175, 1.9390000104904175, 1.9390000104904175, 1.9390000104904175, 1.9390000104904175, 1.9390000104904175, 1.9390000104904175, 1.9206000566482544, 1.919100046157837, 1.9143999814987183, 1.9143999814987183, 1.9143999814987183, 1.9086999893188477, 1.9081000089645386, 1.8976999521255493, 1.8753999471664429, 1.868299961090088, 1.8557000160217285, 1.8530999422073364, 1.8530999422073364, 1.8438999652862549, 1.843000054359436, 1.6158000230789185, 1.6878999471664429, 1.5684000253677368, 1.517799973487854, 0.9585000276565552, 0.9868999719619751, 1.5190999507904053, 0.8427000045776367, 1.2301000356674194, 1.5357999801635742, 1.1167000532150269, 1.5318000316619873, 1.183899998664856, 0.445499986410141, 0.11020000278949738, 0.9002000093460083, 0.017799999564886093, 1.270400047302246, 1.2562999725341797, 0.607200026512146, -0.17870000004768372, 0.006099999882280827, -0.12399999797344208, 0.2354000061750412, 0.4722000062465668, 0.9631999731063843, 2.285599946975708, 2.285599946975708, 2.2258999347686768, 2.2258999347686768, 2.2258999347686768, 2.2258999347686768, 2.2258999347686768, 2.2258999347686768, 2.2258999347686768, 2.2258999347686768, 2.2258999347686768, 2.219599962234497, 2.1386001110076904, 2.117799997329712, 2.117799997329712, 2.117799997329712, 2.117799997329712, 2.117799997329712, 2.117799997329712, 2.1110000610351562, 2.098099946975708, 2.071899890899658, 2.0485999584198, 2.0464000701904297, 2.0378000736236572, 2.0088999271392822, 2.003999948501587, 2.003999948501587, 1.9974000453948975, 1.9663000106811523, 1.9093999862670898, 1.9329999685287476, 1.8241000175476074, 1.7913999557495117, 1.464900016784668, 1.5628000497817993, 1.0161999464035034, 1.2654999494552612, 1.3595000505447388, 1.3595000505447388, 0.9782999753952026, 1.0356999635696411, 1.5027999877929688, 0.47609999775886536, 1.0261000394821167, 0.4666999876499176, 0.01549999974668026, 2.1333999633789062, 2.1301000118255615, 2.1301000118255615, 2.032599925994873, 2.020900011062622, 2.0007998943328857, 1.99399995803833, 1.99399995803833, 1.99399995803833, 1.99399995803833, 1.99399995803833, 1.992900013923645, 1.988800048828125, 1.9407000541687012, 1.902400016784668, 1.8779000043869019, 1.8761999607086182, 1.8674999475479126, 1.8544000387191772, 1.8544000387191772, 1.8544000387191772, 1.8485000133514404, 1.8485000133514404, 1.827299952507019, 1.822100043296814, 1.822100043296814, 1.822100043296814, 1.822100043296814, 1.822100043296814, 1.822100043296814, 1.822100043296814, 1.757699966430664, 1.7064000368118286, 1.7402000427246094, 1.7716000080108643, 1.7695000171661377, 1.6700999736785889, 1.5875999927520752, 1.7517000436782837, 1.6540000438690186, 1.4997999668121338, 1.791599988937378, 1.6871999502182007, 1.215000033378601, 1.2901999950408936, 1.519700050354004, 0.9068999886512756, 1.0582000017166138, 0.5390999913215637, 0.7014999985694885, 0.8719000220298767, 0.879800021648407, 0.31709998846054077, 0.7603999972343445, 0.14380000531673431, 0.42980000376701355, 0.8521999716758728, 1.3519999980926514, 1.2578999996185303, 1.1384999752044678, -0.23280000686645508, -0.11879999935626984, 0.6247000098228455, -0.33320000767707825, 2.621299982070923, 2.1888999938964844, 2.098299980163574, 2.0899999141693115, 2.0069000720977783, 1.9555000066757202, 1.9443999528884888, 1.9286999702453613, 1.9016000032424927, 1.8759000301361084, 1.8672000169754028, 1.8569999933242798, 1.8036999702453613, 1.7843999862670898, 1.722100019454956, 1.722100019454956, 1.722100019454956, 1.7099000215530396, 1.7099000215530396, 1.7099000215530396, 1.7099000215530396, 1.7029000520706177, 1.6770000457763672, 1.6713999509811401, 1.6713999509811401, 1.6713999509811401, 1.6713999509811401, 1.6683000326156616, 1.6569000482559204, 1.6548000574111938, 1.6274000406265259, 1.5439000129699707, 1.6124999523162842, 1.20169997215271, 1.246999979019165, 1.0521999597549438, 1.5184999704360962, 1.01419997215271, 0.5954999923706055, 1.1166000366210938, 1.434000015258789, 1.2973999977111816, 0.44510000944137573, 1.1857000589370728, 0.5275999903678894, -0.06679999828338623, 0.24459999799728394, 0.3630000054836273, -0.09040000289678574, 0.39149999618530273, -0.5271999835968018, 0.2476000040769577, 0.024000000208616257], \"logprob\": [30.0, 29.0, 28.0, 27.0, 26.0, 25.0, 24.0, 23.0, 22.0, 21.0, 20.0, 19.0, 18.0, 17.0, 16.0, 15.0, 14.0, 13.0, 12.0, 11.0, 10.0, 9.0, 8.0, 7.0, 6.0, 5.0, 4.0, 3.0, 2.0, 1.0, -4.170899868011475, -4.197000026702881, -4.209099769592285, -4.744800090789795, -5.407199859619141, -5.407199859619141, -4.214099884033203, -4.17579984664917, -5.254300117492676, -5.622799873352051, -5.863999843597412, -5.892000198364258, -5.765900135040283, -4.302199840545654, -6.010300159454346, -6.046299934387207, -6.046299934387207, -5.7342000007629395, -6.196199893951416, -6.196199893951416, -6.196199893951416, -4.213399887084961, -5.094200134277344, -4.8541998863220215, -6.383999824523926, -6.171899795532227, -6.425600051879883, -5.911499977111816, -6.471199989318848, -6.487199783325195, -6.085299968719482, -5.7393999099731445, -5.872200012207031, -4.54040002822876, -4.870500087738037, -5.505000114440918, -5.236999988555908, -6.0630998611450195, -5.528200149536133, -5.835100173950195, -5.6545000076293945, -5.513700008392334, -5.46120023727417, -5.431700229644775, -5.706299781799316, -5.638299942016602, -5.572500228881836, -5.7820000648498535, -5.734600067138672, -5.084400177001953, -5.1468000411987305, -5.1468000411987305, -5.066500186920166, -5.539299964904785, -5.539299964904785, -5.539299964904785, -5.138199806213379, -4.906899929046631, -5.2418999671936035, -6.145199775695801, -6.208000183105469, -6.208000183105469, -6.208000183105469, -5.951499938964844, -6.19920015335083, -6.248700141906738, -6.236800193786621, -5.952300071716309, -6.3684000968933105, -5.518899917602539, -5.532199859619141, -6.223800182342529, -6.454599857330322, -6.228000164031982, -6.491700172424316, -6.491700172424316, -6.491700172424316, -6.491700172424316, -6.491700172424316, -5.5883002281188965, -6.329800128936768, -5.356800079345703, -5.890100002288818, -5.194499969482422, -5.862199783325195, -5.500999927520752, -5.575500011444092, -5.385300159454346, -5.2789998054504395, -5.723599910736084, -5.967299938201904, -5.427599906921387, -5.534200191497803, -5.696899890899658, -5.986599922180176, -5.803699970245361, -5.53439998626709, -5.630199909210205, -5.641200065612793, -5.735899925231934, -5.748000144958496, -5.769199848175049, -5.298600196838379, -5.31820011138916, -5.31820011138916, -5.31820011138916, -5.31820011138916, -5.40500020980835, -5.427999973297119, -5.311600208282471, -4.484099864959717, -5.4552001953125, -5.880300045013428, -5.955900192260742, -5.263999938964844, -6.105800151824951, -5.3942999839782715, -6.3109002113342285, -5.379499912261963, -5.41949987411499, -6.127699851989746, -5.395999908447266, -5.446700096130371, -5.411300182342529, -6.049699783325195, -6.469799995422363, -6.469799995422363, -6.118000030517578, -5.277500152587891, -5.356800079345703, -5.431300163269043, -6.639100074768066, -5.497000217437744, -5.308000087738037, -4.965700149536133, -5.0208001136779785, -4.692599773406982, -4.911600112915039, -5.322500228881836, -4.713099956512451, -5.070899963378906, -5.3125, -5.373700141906738, -5.442800045013428, -5.440800189971924, -5.174799919128418, -5.196400165557861, -5.196400165557861, -5.196400165557861, -5.196400165557861, -5.196400165557861, -5.196400165557861, -5.208600044250488, -5.208600044250488, -5.220200061798096, -5.641300201416016, -5.883500099182129, -5.883500099182129, -5.568399906158447, -5.5991997718811035, -5.097400188446045, -5.619200229644775, -6.172399997711182, -5.599299907684326, -5.263000011444092, -5.850800037384033, -6.148200035095215, -6.399700164794922, -6.405099868774414, -6.031400203704834, -6.458499908447266, -6.458700180053711, -6.473299980163574, -5.98829984664917, -5.172699928283691, -5.317699909210205, -5.317699909210205, -5.674499988555908, -5.3480000495910645, -5.37939977645874, -5.615200042724609, -5.957399845123291, -5.094399929046631, -5.234499931335449, -5.848499774932861, -5.429900169372559, -5.337800025939941, -5.695099830627441, -5.722099781036377, -5.298299789428711, -5.298299789428711, -5.298299789428711, -5.298299789428711, -5.298299789428711, -5.298299789428711, -5.537499904632568, -5.584499835968018, -5.584499835968018, -5.558300018310547, -6.42519998550415, -6.443999767303467, -5.433300018310547, -6.492199897766113, -6.519800186157227, -6.412300109863281, -6.6194000244140625, -6.6194000244140625, -6.6194000244140625, -5.578199863433838, -6.63700008392334, -6.4309000968933105, -6.450300216674805, -6.714700222015381, -6.714799880981445, -6.715099811553955, -6.720900058746338, -6.7378997802734375, -6.7378997802734375, -6.7378997802734375, -6.4309000968933105, -5.945099830627441, -5.48769998550415, -5.639699935913086, -6.269899845123291, -5.103099822998047, -6.152699947357178, -5.7555999755859375, -5.247700214385986, -5.399700164794922, -6.126699924468994, -5.8140997886657715, -5.520400047302246, -6.001500129699707, -5.955900192260742, -6.1234002113342285, -5.593999862670898, -5.773200035095215, -5.932199954986572, -5.490099906921387, -5.666500091552734, -5.777699947357178, -5.9781999588012695, -5.901899814605713, -5.826200008392334, -5.880899906158447, -5.936600208282471, -4.703999996185303, -4.703999996185303, -4.703999996185303, -4.7515997886657715, -4.754300117492676, -5.579599857330322, -6.127600193023682, -6.088500022888184, -6.140999794006348, -6.367499828338623, -6.367499828338623, -6.367499828338623, -5.94320011138916, -5.624800205230713, -5.7941999435424805, -6.438899993896484, -6.438899993896484, -6.452600002288818, -6.452600002288818, -6.452600002288818, -6.039299964904785, -6.42140007019043, -6.502099990844727, -6.5030999183654785, -6.325699806213379, -6.5258002281188965, -6.104800224304199, -6.548299789428711, -6.601399898529053, -6.397900104522705, -5.95959997177124, -6.286499977111816, -6.196100234985352, -6.142499923706055, -6.1946001052856445, -5.863800048828125, -5.343800067901611, -5.208799839019775, -5.735499858856201, -5.681300163269043, -5.730299949645996, -5.617199897766113, -5.806000232696533, -6.021399974822998, -5.885700225830078, -5.952099800109863, -5.8231000900268555, -5.618500232696533, -5.740699768066406, -5.872600078582764, -5.821800231933594, -5.868500232696533, -5.957799911499023, -5.8755998611450195, -5.937399864196777, -5.954500198364258, -5.944799900054932, -5.6493000984191895, -5.9644999504089355, -6.099999904632568, -5.297599792480469, -5.000999927520752, -6.296800136566162, -5.696599960327148, -5.701300144195557, -5.530700206756592, -6.3684000968933105, -6.3684000968933105, -6.3684000968933105, -6.3684000968933105, -6.3684000968933105, -6.3684000968933105, -6.3684000968933105, -6.3684000968933105, -6.411600112915039, -6.150599956512451, -6.423500061035156, -6.423500061035156, -6.423500061035156, -6.242199897766113, -6.403600215911865, -6.460599899291992, -6.251200199127197, -6.27239990234375, -6.3109002113342285, -6.55709981918335, -6.55709981918335, -6.149099826812744, -6.35830020904541, -5.7129998207092285, -6.010799884796143, -6.040800094604492, -6.001399993896484, -5.63040018081665, -5.6915998458862305, -6.10830020904541, -5.751699924468994, -6.021299839019775, -6.171599864959717, -5.986299991607666, -6.1946001052856445, -6.058599948883057, -5.7596001625061035, -5.701499938964844, -6.0167999267578125, -5.757199764251709, -6.14300012588501, -6.1433000564575195, -6.031199932098389, -5.9832000732421875, -6.0279998779296875, -6.030300140380859, -6.063799858093262, -6.085299968719482, -6.1417999267578125, -5.224699974060059, -5.224699974060059, -5.492199897766113, -5.492199897766113, -5.492199897766113, -5.492199897766113, -5.492199897766113, -5.492199897766113, -5.492199897766113, -5.492199897766113, -5.492199897766113, -5.311100006103516, -5.816400051116943, -5.892899990081787, -5.892899990081787, -5.892899990081787, -5.892899990081787, -5.892899990081787, -5.892899990081787, -5.907800197601318, -5.293099880218506, -5.799099922180176, -6.091700077056885, -5.911300182342529, -5.911300182342529, -5.953199863433838, -6.212299823760986, -6.212299823760986, -6.227700233459473, -5.928400039672852, -5.4355998039245605, -5.808599948883057, -5.51170015335083, -5.601500034332275, -5.124000072479248, -5.680500030517578, -5.4029998779296875, -5.5995001792907715, -5.696400165557861, -5.696400165557861, -5.611599922180176, -5.64109992980957, -5.804699897766113, -5.6996002197265625, -5.762199878692627, -5.738399982452393, -5.789100170135498, -5.874899864196777, -5.917399883270264, -5.917399883270264, -6.189300060272217, -5.8084001541137695, -6.258800029754639, -6.286799907684326, -6.286799907684326, -6.286799907684326, -6.286799907684326, -6.286799907684326, -5.817500114440918, -6.297299861907959, -6.080699920654297, -6.493599891662598, -6.3171000480651855, -6.549600124359131, -6.316699981689453, -6.586400032043457, -6.586400032043457, -6.586400032043457, -6.591700077056885, -6.591700077056885, -6.269700050354004, -6.657800197601318, -6.657800197601318, -6.657800197601318, -6.657800197601318, -6.657800197601318, -6.657800197601318, -6.657800197601318, -5.97760009765625, -5.601799964904785, -5.96750020980835, -6.3171000480651855, -6.306600093841553, -5.856200218200684, -5.7555999755859375, -6.320700168609619, -6.084199905395508, -6.089799880981445, -6.501200199127197, -6.3668999671936035, -5.786600112915039, -5.956200122833252, -6.206699848175049, -5.771500110626221, -5.926599979400635, -5.780600070953369, -5.887400150299072, -5.965700149536133, -5.972499847412109, -5.848100185394287, -5.981400012969971, -5.841700077056885, -5.952899932861328, -6.058599948883057, -6.164100170135498, -6.152200222015381, -6.151199817657471, -6.007800102233887, -6.025000095367432, -6.095399856567383, -6.137700080871582, -1.3408000469207764, -5.910600185394287, -5.863900184631348, -5.937699794769287, -6.313300132751465, -6.450799942016602, -6.493899822235107, -5.983699798583984, -6.576499938964844, -6.426599979400635, -6.641600131988525, -6.348999977111816, -6.267899990081787, -6.1442999839782715, -6.899499893188477, -6.899499893188477, -6.899499893188477, -6.921999931335449, -6.921999931335449, -6.921999931335449, -6.921999931335449, -6.928400039672852, -6.978700160980225, -6.987800121307373, -6.987800121307373, -6.987800121307373, -6.987800121307373, -6.039100170135498, -7.011300086975098, -7.014699935913086, -6.657700061798096, -6.054999828338623, -6.659999847412109, -6.05210018157959, -6.145599842071533, -5.999899864196777, -6.751200199127197, -6.115099906921387, -5.949100017547607, -6.412499904632568, -6.683000087738037, -6.590000152587891, -6.109899997711182, -6.581299781799316, -6.2403998374938965, -5.973100185394287, -6.150300025939941, -6.319399833679199, -6.295499801635742, -6.446100234985352, -6.338799953460693, -6.446100234985352, -6.54010009765625]}, \"token.table\": {\"Topic\": [2, 1, 1, 2, 4, 5, 6, 6, 4, 5, 8, 4, 7, 1, 4, 5, 3, 5, 8, 8, 3, 1, 2, 3, 4, 5, 2, 7, 2, 4, 5, 7, 1, 2, 3, 4, 5, 6, 7, 8, 7, 9, 9, 2, 9, 6, 6, 8, 5, 10, 8, 4, 9, 9, 8, 2, 8, 3, 6, 2, 7, 10, 2, 7, 5, 3, 1, 2, 10, 8, 2, 5, 9, 10, 8, 1, 1, 2, 4, 5, 6, 7, 8, 9, 3, 8, 2, 4, 2, 4, 8, 4, 5, 8, 1, 2, 5, 6, 8, 9, 8, 8, 8, 2, 4, 1, 2, 7, 9, 2, 4, 7, 6, 4, 9, 4, 1, 5, 7, 1, 9, 5, 1, 7, 8, 1, 4, 5, 6, 5, 5, 9, 4, 9, 2, 5, 7, 1, 10, 7, 6, 7, 2, 4, 1, 2, 3, 4, 5, 6, 7, 8, 9, 6, 6, 1, 2, 3, 4, 5, 6, 9, 1, 2, 3, 4, 5, 6, 7, 8, 9, 2, 9, 1, 2, 3, 8, 9, 4, 6, 3, 8, 3, 6, 1, 2, 3, 6, 4, 6, 10, 7, 1, 9, 1, 3, 4, 5, 6, 7, 8, 9, 2, 3, 4, 5, 1, 10, 5, 1, 2, 5, 7, 8, 9, 3, 6, 9, 2, 4, 2, 1, 2, 5, 7, 8, 5, 7, 8, 9, 9, 10, 1, 2, 3, 7, 9, 2, 4, 6, 1, 5, 2, 3, 6, 2, 3, 4, 5, 9, 4, 8, 2, 9, 6, 6, 8, 5, 6, 8, 3, 6, 7, 2, 3, 5, 7, 2, 3, 6, 6, 2, 9, 1, 2, 3, 9, 10, 7, 8, 8, 7, 5, 8, 3, 6, 4, 8, 9, 6, 7, 3, 1, 3, 4, 8, 9, 1, 4, 6, 8, 7, 4, 5, 7, 1, 2, 3, 4, 6, 8, 10, 8, 9, 8, 1, 1, 2, 3, 5, 2, 8, 5, 3, 9, 6, 6, 1, 2, 3, 4, 5, 6, 7, 8, 2, 7, 2, 6, 4, 2, 3, 9, 1, 7, 1, 3, 6, 7, 8, 9, 1, 4, 2, 7, 8, 9, 7, 3, 10, 1, 9, 4, 4, 5, 1, 2, 7, 1, 5, 4, 6, 1, 4, 5, 6, 10, 2, 3, 5, 10, 2, 9, 9, 9, 4, 5, 5, 3, 1, 4, 5, 7, 2, 7, 4, 8, 2, 3, 10, 3, 2, 2, 4, 6, 8, 8, 4, 2, 3, 5, 1, 5, 1, 3, 6, 4, 1, 3, 5, 7, 9, 6, 1, 2, 5, 7, 5, 1, 1, 2, 5, 9, 3, 3, 7, 10, 1, 5, 7, 4, 2, 3, 5, 8, 10, 5, 1, 9, 5, 8, 7, 2, 3, 6, 8, 1, 3, 5, 7, 8, 5, 2, 3, 5, 7, 9, 2, 10, 1, 2, 4, 6, 1, 9, 5, 1, 8, 2, 7, 7, 5, 1, 2, 3, 5, 6, 10, 1, 6, 3, 3, 2, 3, 5, 6, 3, 1, 1, 1, 6, 3, 1, 2, 4, 6, 8, 9, 10, 1, 4, 6, 7, 9, 9, 1, 2, 3, 5, 6, 8, 9, 10, 3, 3, 5, 1, 9, 1, 3, 1, 2, 3, 4, 5, 6, 7, 9, 2, 3, 1, 2, 3, 4, 5, 6, 7, 8, 9, 4, 6, 2, 4, 5, 5, 5, 8, 9, 2, 7, 8, 9, 8, 4, 9, 6, 1, 2, 3, 5, 7, 8, 9, 10, 1, 9, 2, 5, 7, 8, 10, 8, 7, 8, 1, 2, 4, 6, 1, 2, 3, 7, 5, 2, 5, 9, 7, 6, 3, 5, 8, 4, 2, 7, 7, 5, 2, 3, 8, 6, 4, 10, 2, 3, 9, 5, 7, 3, 1, 2, 6, 10, 1, 1, 2, 3, 5, 6, 7, 9, 8, 7, 4, 7, 8, 1, 2, 3, 5, 6, 8, 8, 4, 1, 2, 4, 6, 7, 8, 9, 1, 5, 9, 7, 2, 1, 1, 2, 3, 4, 5, 6, 7, 9, 10, 6, 6, 9, 7, 9, 2, 4, 9, 2, 5, 10, 6, 2, 3, 5, 5, 9, 9, 6, 6, 6, 4, 4, 1, 7, 1, 4, 1, 2, 3, 4, 5, 6, 9, 4, 6, 9, 2, 9, 2, 3, 2, 10, 1, 3, 1, 2, 5, 6, 2, 6, 7, 1, 2, 7, 3, 6, 7, 9, 3, 5, 1, 2, 4, 5, 6, 8, 7, 1, 4, 7, 2, 1, 2, 3, 4, 5, 10, 10, 1, 2, 3, 4, 7, 8, 9, 10, 1, 2, 3, 5, 7, 9, 1, 4, 5, 6, 7, 8, 10, 1, 4, 9, 7, 1, 2, 3, 4, 5, 8, 1, 3, 9, 2, 9, 4, 4, 7, 1, 2, 3, 7, 7, 6, 2, 2, 5, 9, 1, 2, 3, 4, 5, 8, 8, 7, 10, 9, 2, 8, 1, 2, 3, 6, 7, 8, 9, 1, 5, 10, 2, 3, 6, 7, 5, 6, 7, 9, 1, 2, 3, 4, 5, 6, 7, 8, 9, 5, 8, 1, 4, 5, 1, 2, 4, 5, 6, 9], \"Freq\": [0.49491143226623535, 0.7776609063148499, 0.14803989231586456, 0.14803989231586456, 0.2960797846317291, 0.14803989231586456, 0.14803989231586456, 0.8328090906143188, 0.7510104775428772, 0.48447319865226746, 0.24223659932613373, 0.8837087750434875, 0.8135733008384705, 0.7506676316261292, 0.6893038749694824, 0.7691025733947754, 0.8596651554107666, 0.6615356802940369, 0.33076784014701843, 0.5865197777748108, 0.8596643209457397, 0.15156297385692596, 0.30312594771385193, 0.15156297385692596, 0.15156297385692596, 0.15156297385692596, 0.43304750323295593, 0.43304750323295593, 0.42453527450561523, 0.21226763725280762, 0.21226763725280762, 0.21226763725280762, 0.20047533512115479, 0.10023766756057739, 0.10023766756057739, 0.10023766756057739, 0.3007130026817322, 0.10023766756057739, 0.10023766756057739, 0.10023766756057739, 0.8745434880256653, 0.4466414451599121, 0.7684019804000854, 0.5877609252929688, 0.35767659544944763, 0.7276071906089783, 0.5625152587890625, 0.667718768119812, 0.3623870611190796, 0.3623870611190796, 0.4481595754623413, 0.7214864492416382, 0.9377565979957581, 0.8622758388519287, 0.586519718170166, 0.8240468502044678, 0.5222806334495544, 0.7166350483894348, 0.23887835443019867, 0.7496827244758606, 0.24989424645900726, 0.7129703164100647, 0.4126591086387634, 0.4126591086387634, 0.8015259504318237, 0.49880871176719666, 0.17742446064949036, 0.5322734117507935, 0.5587658882141113, 0.7112430334091187, 0.36296018958091736, 0.18148009479045868, 0.18148009479045868, 0.18148009479045868, 0.8755334615707397, 0.8436426520347595, 0.4268156886100769, 0.07113594561815262, 0.14227189123630524, 0.14227189123630524, 0.07113594561815262, 0.07113594561815262, 0.07113594561815262, 0.6125959157943726, 0.6139752864837646, 0.597296416759491, 0.8383719325065613, 0.8837087154388428, 0.29034367203712463, 0.29034367203712463, 0.29034367203712463, 0.8578925132751465, 0.8327499032020569, 0.875533401966095, 0.11943288147449493, 0.23886576294898987, 0.11943288147449493, 0.11943288147449493, 0.23886576294898987, 0.11943288147449493, 0.5562443137168884, 0.6313538551330566, 0.875533401966095, 0.29635584354400635, 0.5927116870880127, 0.27204906940460205, 0.27204906940460205, 0.27204906940460205, 0.7244953513145447, 0.9326463937759399, 0.5606218576431274, 0.7890664935112, 0.8048901557922363, 0.6199590563774109, 0.9017763733863831, 0.7185667753219604, 0.3929339349269867, 0.19646696746349335, 0.19646696746349335, 0.7776606678962708, 0.7684022784233093, 0.7528327703475952, 0.32275253534317017, 0.32275253534317017, 0.32275253534317017, 0.1601315140724182, 0.3202630281448364, 0.3202630281448364, 0.1601315140724182, 0.659417450428009, 0.8757624626159668, 0.7522608041763306, 0.8607057929039001, 0.888297975063324, 0.20748862624168396, 0.20748862624168396, 0.6224658489227295, 0.3161124289035797, 0.3161124289035797, 0.8303311467170715, 0.6546890735626221, 0.6909745931625366, 0.591773509979248, 0.295886754989624, 0.18813268840312958, 0.12542179226875305, 0.18813268840312958, 0.06271089613437653, 0.06271089613437653, 0.12542179226875305, 0.06271089613437653, 0.06271089613437653, 0.06271089613437653, 0.5810941457748413, 0.8408811688423157, 0.22262528538703918, 0.11131264269351959, 0.11131264269351959, 0.11131264269351959, 0.22262528538703918, 0.11131264269351959, 0.11131264269351959, 0.19376638531684875, 0.12917760014533997, 0.06458880007266998, 0.19376638531684875, 0.06458880007266998, 0.06458880007266998, 0.06458880007266998, 0.06458880007266998, 0.06458880007266998, 0.9326462745666504, 0.7684018611907959, 0.3090404272079468, 0.1545202136039734, 0.1545202136039734, 0.1545202136039734, 0.9377564191818237, 0.2692149579524994, 0.2692149579524994, 0.27226167917251587, 0.27226167917251587, 0.7093161344528198, 0.23643870651721954, 0.7297996282577515, 0.06634542346000671, 0.06634542346000671, 0.06634542346000671, 0.22488723695278168, 0.22488723695278168, 0.22488723695278168, 0.6221873760223389, 0.546217679977417, 0.2731088399887085, 0.32503440976142883, 0.08125860244035721, 0.08125860244035721, 0.08125860244035721, 0.24377579987049103, 0.08125860244035721, 0.08125860244035721, 0.08125860244035721, 0.4920600950717926, 0.2593771815299988, 0.5187543630599976, 0.2593771815299988, 0.8971201181411743, 0.5403333306312561, 0.8875618577003479, 0.2845924496650696, 0.1422962248325348, 0.1422962248325348, 0.1422962248325348, 0.1422962248325348, 0.1422962248325348, 0.4205154478549957, 0.21025772392749786, 0.21025772392749786, 0.24379245936870575, 0.731377363204956, 0.5316035151481628, 0.14869898557662964, 0.2973979711532593, 0.14869898557662964, 0.14869898557662964, 0.14869898557662964, 0.21382103860378265, 0.21382103860378265, 0.21382103860378265, 0.21382103860378265, 0.7684022784233093, 0.7852674126625061, 0.13192807137966156, 0.2638561427593231, 0.5277122855186462, 0.6130873560905457, 0.7052221894264221, 0.5243056416511536, 0.3172524571418762, 0.4013960063457489, 0.560356855392456, 0.37249955534935, 0.5637197494506836, 0.18790657818317413, 0.18790657818317413, 0.18415573239326477, 0.18415573239326477, 0.18415573239326477, 0.18415573239326477, 0.18415573239326477, 0.6559546589851379, 0.8755329251289368, 0.5243054628372192, 0.9377567172050476, 0.7878599762916565, 0.4252835810184479, 0.5587312579154968, 0.7446167469024658, 0.47683432698249817, 0.7204213738441467, 0.6790568232536316, 0.2263522744178772, 0.4293042719364166, 0.22019270062446594, 0.4403854012489319, 0.22019270062446594, 0.22019270062446594, 0.7866290807723999, 0.6820597052574158, 0.8048905730247498, 0.46963950991630554, 0.5144008994102478, 0.7684021592140198, 0.3297945559024811, 0.16489727795124054, 0.16489727795124054, 0.16489727795124054, 0.8711645603179932, 0.7890660762786865, 0.5913178324699402, 0.8755335807800293, 0.7890664935112, 0.6872755885124207, 0.5865195393562317, 0.7390658855438232, 0.2463553100824356, 0.6772354245185852, 0.22574514150619507, 0.48010292649269104, 0.3587636351585388, 0.3587636351585388, 0.9426824450492859, 0.2833133935928345, 0.14165669679641724, 0.14165669679641724, 0.2833133935928345, 0.14165669679641724, 0.1865089237689972, 0.1865089237689972, 0.1865089237689972, 0.3730178475379944, 0.8135737180709839, 0.23713256418704987, 0.47426512837409973, 0.23713256418704987, 0.2760998606681824, 0.1380499303340912, 0.1380499303340912, 0.1380499303340912, 0.1380499303340912, 0.1380499303340912, 0.1380499303340912, 0.5100576877593994, 0.9377567172050476, 0.8755336403846741, 0.8057328462600708, 0.44970184564590454, 0.22485092282295227, 0.22485092282295227, 0.43708670139312744, 0.8292262554168701, 0.5515159368515015, 0.6594170928001404, 0.44887152314186096, 0.9377567172050476, 0.8102173209190369, 0.5024044513702393, 0.1701749712228775, 0.1701749712228775, 0.1701749712228775, 0.08508748561143875, 0.08508748561143875, 0.08508748561143875, 0.08508748561143875, 0.08508748561143875, 0.39978110790252686, 0.39978110790252686, 0.5349791049957275, 0.7599356174468994, 0.8837096095085144, 0.3008856475353241, 0.3008856475353241, 0.3008856475353241, 0.29659101366996765, 0.29659101366996765, 0.11514954268932343, 0.23029908537864685, 0.11514954268932343, 0.11514954268932343, 0.11514954268932343, 0.11514954268932343, 0.4075588881969452, 0.4075588881969452, 0.5479727387428284, 0.1369931846857071, 0.1369931846857071, 0.1369931846857071, 0.5762706995010376, 0.9202291369438171, 0.4596768915653229, 0.9803133606910706, 0.9377565979957581, 0.49403077363967896, 0.4018390476703644, 0.2009195238351822, 0.23663723468780518, 0.23663723468780518, 0.23663723468780518, 0.8228481411933899, 0.07480437308549881, 0.8837089538574219, 0.6685364246368408, 0.1571553647518158, 0.1571553647518158, 0.1571553647518158, 0.3143107295036316, 0.1571553647518158, 0.35586288571357727, 0.35586288571357727, 0.35586288571357727, 0.5184924602508545, 0.7552369236946106, 0.9017760753631592, 0.9017769694328308, 0.44533637166023254, 0.46017757058143616, 0.8875612616539001, 0.8765836954116821, 0.7818490862846375, 0.22215965390205383, 0.22215965390205383, 0.22215965390205383, 0.22215965390205383, 0.7899381518363953, 0.8089572787284851, 0.677236020565033, 0.2257453352212906, 0.6217896938323975, 0.43308767676353455, 0.43308767676353455, 0.7412260174751282, 0.8076662421226501, 0.17275163531303406, 0.3455032706260681, 0.17275163531303406, 0.17275163531303406, 0.7204216122627258, 0.8652388453483582, 0.12689895927906036, 0.5075958371162415, 0.2537979185581207, 0.6027143001556396, 0.6594167947769165, 0.7562161087989807, 0.7877862453460693, 0.11254089325666428, 0.7331525087356567, 0.15477612614631653, 0.15477612614631653, 0.15477612614631653, 0.15477612614631653, 0.15477612614631653, 0.45587173104286194, 0.4672010540962219, 0.15573368966579437, 0.15573368966579437, 0.15573368966579437, 0.659417450428009, 0.55890953540802, 0.18794211745262146, 0.3758842349052429, 0.18794211745262146, 0.6238363981246948, 0.8596646189689636, 0.8436938524246216, 0.7096899151802063, 0.7992912530899048, 0.8334313631057739, 0.3965102732181549, 0.5799773931503296, 0.7445846199989319, 0.16927145421504974, 0.3385429084300995, 0.16927145421504974, 0.16927145421504974, 0.16927145421504974, 0.8327494263648987, 0.3217296600341797, 0.3217296600341797, 0.30009725689888, 0.30009725689888, 0.6748220920562744, 0.8866122961044312, 0.7551743388175964, 0.8048896789550781, 0.7258378267288208, 0.11972775310277939, 0.23945550620555878, 0.35918325185775757, 0.11972775310277939, 0.11972775310277939, 0.8312792181968689, 0.4135442078113556, 0.13784806430339813, 0.13784806430339813, 0.13784806430339813, 0.6261692643165588, 0.5385452508926392, 0.3885425627231598, 0.2661842107772827, 0.2661842107772827, 0.13309210538864136, 0.2661842107772827, 0.6325655579566956, 0.608557403087616, 0.6527059078216553, 0.9068297743797302, 0.7267961502075195, 0.6002812385559082, 0.3001406192779541, 0.6706386208534241, 0.8765813112258911, 0.2735864222049713, 0.13679321110248566, 0.13679321110248566, 0.13679321110248566, 0.13679321110248566, 0.13679321110248566, 0.917870819568634, 0.677825927734375, 0.48116371035575867, 0.8596636056900024, 0.1351929008960724, 0.2703858017921448, 0.2703858017921448, 0.1351929008960724, 0.8838050365447998, 0.9175267219543457, 0.9803125262260437, 0.7753722071647644, 0.5814277529716492, 0.6820595860481262, 0.23312734067440033, 0.11656367033720016, 0.23312734067440033, 0.11656367033720016, 0.11656367033720016, 0.11656367033720016, 0.11656367033720016, 0.3760892152786255, 0.1253630667924881, 0.1253630667924881, 0.1253630667924881, 0.1253630667924881, 0.6085572838783264, 0.13538408279418945, 0.13538408279418945, 0.13538408279418945, 0.13538408279418945, 0.13538408279418945, 0.13538408279418945, 0.13538408279418945, 0.13538408279418945, 0.6985405683517456, 0.6084532141685486, 0.20281773805618286, 0.2905389666557312, 0.5810779333114624, 0.8612874150276184, 0.4734213650226593, 0.2779078483581543, 0.18527188897132874, 0.09263594448566437, 0.18527188897132874, 0.09263594448566437, 0.09263594448566437, 0.09263594448566437, 0.09263594448566437, 0.6378812193870544, 0.8908168077468872, 0.13598541915416718, 0.06799270957708359, 0.33996355533599854, 0.06799270957708359, 0.06799270957708359, 0.06799270957708359, 0.06799270957708359, 0.06799270957708359, 0.06799270957708359, 0.7341100573539734, 0.7653490900993347, 0.5909848809242249, 0.2954924404621124, 0.7875335216522217, 0.6793230772018433, 0.5445852875709534, 0.2722926437854767, 0.2722926437854767, 0.14152316749095917, 0.28304633498191833, 0.4245695173740387, 0.14152316749095917, 0.586519718170166, 0.8673607110977173, 0.43322908878326416, 0.7875581383705139, 0.09641548246145248, 0.09641548246145248, 0.28924643993377686, 0.09641548246145248, 0.09641548246145248, 0.09641548246145248, 0.09641548246145248, 0.09641548246145248, 0.8744097352027893, 0.7777121067047119, 0.24294240772724152, 0.24294240772724152, 0.24294240772724152, 0.24294240772724152, 0.24294240772724152, 0.5865193605422974, 0.6586023569107056, 0.5865192413330078, 0.5933250784873962, 0.6384853720664978, 0.3192426860332489, 0.5221666693687439, 0.10228544473648071, 0.30685633420944214, 0.40914177894592285, 0.10228544473648071, 0.8765906691551208, 0.5430734753608704, 0.18102450668811798, 0.5851183533668518, 0.6855080127716064, 0.7626088857650757, 0.5162734389305115, 0.17209115624427795, 0.17209115624427795, 0.5068649053573608, 0.31836625933647156, 0.31836625933647156, 0.7890666127204895, 0.6594172120094299, 0.4997541308403015, 0.31622514128685, 0.6324502825737, 0.7599359154701233, 0.883709192276001, 0.9925707578659058, 0.23807233572006226, 0.7142170071601868, 0.6341338753700256, 0.8875619173049927, 0.7924942374229431, 0.9401645064353943, 0.5701815485954285, 0.275156170129776, 0.275156170129776, 0.275156170129776, 0.8744098544120789, 0.09987173229455948, 0.09987173229455948, 0.29961520433425903, 0.19974346458911896, 0.19974346458911896, 0.09987173229455948, 0.09987173229455948, 0.6028744578361511, 0.6679673194885254, 0.2745029926300049, 0.2745029926300049, 0.2745029926300049, 0.26874953508377075, 0.13437476754188538, 0.13437476754188538, 0.13437476754188538, 0.26874953508377075, 0.13437476754188538, 0.8755334615707397, 0.5068646669387817, 0.17746630311012268, 0.17746630311012268, 0.17746630311012268, 0.17746630311012268, 0.17746630311012268, 0.8755335807800293, 0.36133134365081787, 0.6253323554992676, 0.6771827936172485, 0.7724925875663757, 0.8745437860488892, 0.6378821134567261, 0.8552528619766235, 0.14300930500030518, 0.21451395750045776, 0.14300930500030518, 0.07150465250015259, 0.07150465250015259, 0.14300930500030518, 0.07150465250015259, 0.07150465250015259, 0.07150465250015259, 0.7276071310043335, 0.27451103925704956, 0.27451103925704956, 0.4413815438747406, 0.4413815438747406, 0.1952493041753769, 0.3904986083507538, 0.1952493041753769, 0.6378818154335022, 0.8405614495277405, 0.5315970182418823, 0.7653486132621765, 0.1967424899339676, 0.590227484703064, 0.8312790989875793, 0.5268900990486145, 0.6976808309555054, 0.48921501636505127, 0.727607250213623, 0.7653493285179138, 0.6245219111442566, 0.7450507283210754, 0.7325972318649292, 0.9803121089935303, 0.7890669107437134, 0.7825376391410828, 0.07825376093387604, 0.23221726715564728, 0.07740575820207596, 0.07740575820207596, 0.23221726715564728, 0.07740575820207596, 0.07740575820207596, 0.07740575820207596, 0.8837087750434875, 0.7985049486160278, 0.5928021669387817, 0.7232299447059631, 0.24107664823532104, 0.21344825625419617, 0.6403447985649109, 0.6378814578056335, 0.5965730547904968, 0.9062086343765259, 0.08238260447978973, 0.14632275700569153, 0.29264551401138306, 0.14632275700569153, 0.14632275700569153, 0.9326450824737549, 0.7438240647315979, 0.7890666127204895, 0.7428150177001953, 0.12380250543355942, 0.12380250543355942, 0.5306745171546936, 0.5061789155006409, 0.46114253997802734, 0.9011861085891724, 0.25877904891967773, 0.25877904891967773, 0.18723832070827484, 0.18723832070827484, 0.18723832070827484, 0.09361916035413742, 0.09361916035413742, 0.09361916035413742, 0.7890666723251343, 0.6821230053901672, 0.3925831913948059, 0.3925831913948059, 0.7851089239120483, 0.1553935557603836, 0.1553935557603836, 0.1553935557603836, 0.1553935557603836, 0.1553935557603836, 0.1553935557603836, 0.6233491897583008, 0.5203953981399536, 0.0650494247674942, 0.1300988495349884, 0.0650494247674942, 0.0650494247674942, 0.0650494247674942, 0.0650494247674942, 0.0650494247674942, 0.16135509312152863, 0.16135509312152863, 0.16135509312152863, 0.16135509312152863, 0.16135509312152863, 0.16135509312152863, 0.15058903396129608, 0.15058903396129608, 0.15058903396129608, 0.15058903396129608, 0.15058903396129608, 0.15058903396129608, 0.6409666538238525, 0.7872704267501831, 0.15745407342910767, 0.9011862874031067, 0.4139294922351837, 0.426580011844635, 0.14219334721565247, 0.28438669443130493, 0.14219334721565247, 0.14219334721565247, 0.8755330443382263, 0.24771341681480408, 0.7431402802467346, 0.6394505500793457, 0.2852063477039337, 0.2852063477039337, 0.4232262372970581, 0.8474438190460205, 0.8135738372802734, 0.08837578445672989, 0.2651273310184479, 0.5302546620368958, 0.08837578445672989, 0.7890664935112, 0.7402573227882385, 0.6378818154335022, 0.886612594127655, 0.3849636912345886, 0.3849636912345886, 0.2835341691970825, 0.18902277946472168, 0.37804555892944336, 0.09451138973236084, 0.5465383529663086, 0.2732691764831543, 0.7112425565719604, 0.7566048502922058, 0.9359893798828125, 0.9377570152282715, 0.5243058800697327, 0.554763674736023, 0.2118626981973648, 0.1059313490986824, 0.1059313490986824, 0.2118626981973648, 0.1059313490986824, 0.1059313490986824, 0.1059313490986824, 0.6819363832473755, 0.6594169735908508, 0.8995583057403564, 0.137140154838562, 0.4114204943180084, 0.137140154838562, 0.137140154838562, 0.20273901522159576, 0.20273901522159576, 0.20273901522159576, 0.20273901522159576, 0.08192788809537888, 0.24578365683555603, 0.16385577619075775, 0.08192788809537888, 0.08192788809537888, 0.08192788809537888, 0.08192788809537888, 0.08192788809537888, 0.08192788809537888, 0.585563063621521, 0.2927815318107605, 0.20064964890480042, 0.6019489169120789, 0.8327497243881226, 0.10812743753194809, 0.10812743753194809, 0.10812743753194809, 0.21625487506389618, 0.10812743753194809, 0.10812743753194809], \"Term\": [\"access\", \"accor\", \"accord\", \"accord\", \"accord\", \"accord\", \"accord\", \"actor\", \"actual\", \"adam\", \"adam\", \"adult\", \"agent\", \"aircraft\", \"alarm\", \"allergi\", \"alvarez\", \"ambul\", \"ambul\", \"andrea\", \"annale\", \"announc\", \"announc\", \"announc\", \"announc\", \"announc\", \"answer\", \"answer\", \"appl\", \"appl\", \"appl\", \"appl\", \"april\", \"april\", \"april\", \"april\", \"april\", \"april\", \"april\", \"april\", \"arrang\", \"attack\", \"audienc\", \"baldwin\", \"bank\", \"beach\", \"beij\", \"bilbao\", \"billion\", \"billion\", \"billionair\", \"birx\", \"blackmon\", \"blizzcon\", \"boatfre\", \"bori\", \"breath\", \"brief\", \"brief\", \"british\", \"british\", \"bronx\", \"brook\", \"brook\", \"brooklyn\", \"californian\", \"call\", \"call\", \"canadian\", \"canal\", \"care\", \"care\", \"care\", \"care\", \"carnac\", \"carrier\", \"case\", \"case\", \"case\", \"case\", \"case\", \"case\", \"case\", \"celebr\", \"cent\", \"chang\", \"chat\", \"children\", \"chines\", \"chines\", \"chines\", \"choic\", \"choos\", \"christiana\", \"citi\", \"citi\", \"citi\", \"citi\", \"citi\", \"citi\", \"cleaner\", \"clear\", \"climat\", \"clinic\", \"clinic\", \"close\", \"close\", \"close\", \"cloud\", \"club\", \"cluster\", \"coachella\", \"colbert\", \"columbia\", \"column\", \"columnist\", \"come\", \"come\", \"come\", \"common\", \"competit\", \"conced\", \"concern\", \"concern\", \"concern\", \"confirm\", \"confirm\", \"confirm\", \"confirm\", \"conrad\", \"conscious\", \"consecut\", \"consequ\", \"conspiraci\", \"contact\", \"contact\", \"contact\", \"contain\", \"contain\", \"contamin\", \"contin\", \"contract\", \"control\", \"control\", \"coronavirus\", \"coronavirus\", \"coronavirus\", \"coronavirus\", \"coronavirus\", \"coronavirus\", \"coronavirus\", \"coronavirus\", \"coronavirus\", \"cough\", \"count\", \"countri\", \"countri\", \"countri\", \"countri\", \"countri\", \"countri\", \"countri\", \"covid\", \"covid\", \"covid\", \"covid\", \"covid\", \"covid\", \"covid\", \"covid\", \"covid\", \"craig\", \"crime\", \"crisi\", \"crisi\", \"crisi\", \"crisi\", \"crystal\", \"cuomo\", \"cuomo\", \"current\", \"current\", \"curv\", \"curv\", \"daili\", \"daili\", \"daili\", \"daili\", \"data\", \"data\", \"data\", \"daughter\", \"deal\", \"deal\", \"death\", \"death\", \"death\", \"death\", \"death\", \"death\", \"death\", \"death\", \"decemb\", \"decis\", \"decis\", \"decis\", \"delhi\", \"demand\", \"detect\", \"die\", \"die\", \"die\", \"die\", \"die\", \"die\", \"differ\", \"differ\", \"differ\", \"direct\", \"direct\", \"discord\", \"diseas\", \"diseas\", \"diseas\", \"diseas\", \"diseas\", \"doctor\", \"doctor\", \"doctor\", \"doctor\", \"docuseri\", \"domest\", \"donald\", \"donald\", \"donald\", \"dose\", \"drama\", \"dream\", \"drug\", \"dubai\", \"duti\", \"eas\", \"easter\", \"easter\", \"easter\", \"economi\", \"economi\", \"economi\", \"economi\", \"economi\", \"effect\", \"emiss\", \"emma\", \"empow\", \"entertain\", \"epicent\", \"episod\", \"estat\", \"europ\", \"evict\", \"experi\", \"experi\", \"expos\", \"face\", \"face\", \"face\", \"face\", \"facebook\", \"facial\", \"fallon\", \"fatal\", \"father\", \"favorit\", \"feder\", \"feder\", \"feder\", \"feder\", \"femal\", \"festiv\", \"fiction\", \"figuer\", \"film\", \"filter\", \"fish\", \"flatten\", \"flatten\", \"ford\", \"ford\", \"form\", \"gate\", \"gate\", \"gavin\", \"global\", \"global\", \"global\", \"global\", \"global\", \"go\", \"go\", \"go\", \"go\", \"goodi\", \"googl\", \"googl\", \"googl\", \"govern\", \"govern\", \"govern\", \"govern\", \"govern\", \"govern\", \"govern\", \"grand\", \"grayson\", \"greenhous\", \"grind\", \"halt\", \"halt\", \"halt\", \"hand\", \"happen\", \"harm\", \"harper\", \"have\", \"hawk\", \"hawley\", \"head\", \"health\", \"health\", \"health\", \"health\", \"health\", \"health\", \"health\", \"health\", \"healthcar\", \"healthcar\", \"heart\", \"hibern\", \"hide\", \"high\", \"high\", \"high\", \"higher\", \"higher\", \"home\", \"home\", \"home\", \"home\", \"home\", \"home\", \"hopkin\", \"hopkin\", \"hospit\", \"hospit\", \"hospit\", \"hospit\", \"hotel\", \"huffpost\", \"human\", \"hurdl\", \"hysteria\", \"immun\", \"impact\", \"impact\", \"includ\", \"includ\", \"includ\", \"india\", \"india\", \"indirect\", \"individu\", \"infect\", \"infect\", \"infect\", \"infect\", \"infect\", \"infecti\", \"infecti\", \"infecti\", \"initi\", \"intens\", \"interfac\", \"intersect\", \"isol\", \"japan\", \"jason\", \"jeopard\", \"job\", \"john\", \"john\", \"john\", \"john\", \"johnson\", \"joint\", \"josi\", \"josi\", \"kati\", \"kill\", \"kill\", \"kind\", \"kit\", \"know\", \"know\", \"know\", \"know\", \"landlord\", \"last\", \"latest\", \"latest\", \"latest\", \"launder\", \"layal\", \"letter\", \"life\", \"life\", \"light\", \"like\", \"like\", \"like\", \"like\", \"like\", \"link\", \"live\", \"live\", \"live\", \"live\", \"liverpool\", \"local\", \"london\", \"london\", \"london\", \"lower\", \"lucki\", \"lui\", \"mail\", \"malayan\", \"map\", \"mask\", \"mean\", \"measl\", \"measur\", \"measur\", \"measur\", \"measur\", \"measur\", \"medi\", \"media\", \"media\", \"medic\", \"medic\", \"melinda\", \"messeng\", \"metric\", \"meyer\", \"mileston\", \"million\", \"million\", \"million\", \"million\", \"million\", \"minchillo\", \"minist\", \"minist\", \"minist\", \"minist\", \"misinform\", \"mismanag\", \"model\", \"monday\", \"monday\", \"monday\", \"monday\", \"money\", \"monica\", \"monitor\", \"morn\", \"mortal\", \"move\", \"move\", \"music\", \"mutat\", \"nation\", \"nation\", \"nation\", \"nation\", \"nation\", \"nation\", \"navi\", \"near\", \"need\", \"newitz\", \"news\", \"news\", \"news\", \"news\", \"newsom\", \"newspap\", \"nichola\", \"nightmar\", \"nonessenti\", \"norm\", \"novel\", \"novel\", \"novel\", \"novel\", \"novel\", \"novel\", \"novel\", \"number\", \"number\", \"number\", \"number\", \"number\", \"octan\", \"offici\", \"offici\", \"offici\", \"offici\", \"offici\", \"offici\", \"offici\", \"offici\", \"onlin\", \"open\", \"open\", \"oper\", \"oper\", \"order\", \"organis\", \"outbreak\", \"outbreak\", \"outbreak\", \"outbreak\", \"outbreak\", \"outbreak\", \"outbreak\", \"outbreak\", \"overstretch\", \"page\", \"pandem\", \"pandem\", \"pandem\", \"pandem\", \"pandem\", \"pandem\", \"pandem\", \"pandem\", \"pandem\", \"panic\", \"pari\", \"particip\", \"particip\", \"particl\", \"partnership\", \"pass\", \"pass\", \"pass\", \"patient\", \"patient\", \"patient\", \"patient\", \"pattaro\", \"paul\", \"peak\", \"peer\", \"peopl\", \"peopl\", \"peopl\", \"peopl\", \"peopl\", \"peopl\", \"peopl\", \"peopl\", \"pictur\", \"pierc\", \"place\", \"place\", \"place\", \"place\", \"place\", \"plagu\", \"plenti\", \"pollut\", \"pork\", \"poster\", \"poster\", \"prepar\", \"presid\", \"presid\", \"presid\", \"presid\", \"preve\", \"prime\", \"prime\", \"princess\", \"problem\", \"product\", \"public\", \"public\", \"public\", \"puerto\", \"question\", \"question\", \"quiet\", \"quilti\", \"quit\", \"radic\", \"radic\", \"raini\", \"ramchandani\", \"rand\", \"read\", \"read\", \"realiti\", \"redmond\", \"reel\", \"refresh\", \"relax\", \"releas\", \"releas\", \"releas\", \"rema\", \"report\", \"report\", \"report\", \"report\", \"report\", \"report\", \"report\", \"requir\", \"resign\", \"result\", \"result\", \"result\", \"reuter\", \"reuter\", \"reuter\", \"reuter\", \"reuter\", \"reuter\", \"revers\", \"rico\", \"rise\", \"rise\", \"rise\", \"rise\", \"rise\", \"rivett\", \"room\", \"roosevelt\", \"routin\", \"rubi\", \"sachin\", \"sad\", \"sailor\", \"say\", \"say\", \"say\", \"say\", \"say\", \"say\", \"say\", \"say\", \"say\", \"seasid\", \"see\", \"see\", \"self\", \"self\", \"sever\", \"sever\", \"sever\", \"shar\", \"shelf\", \"short\", \"showcas\", \"shut\", \"shut\", \"shutterstock\", \"signific\", \"sit\", \"situat\", \"skyscrap\", \"slacken\", \"slightl\", \"smart\", \"sound\", \"spring\", \"stagecoach\", \"start\", \"start\", \"state\", \"state\", \"state\", \"state\", \"state\", \"state\", \"state\", \"stave\", \"stephanopoulo\", \"stick\", \"stori\", \"stori\", \"street\", \"street\", \"stroke\", \"strong\", \"subscrib\", \"subscrib\", \"sunday\", \"sunday\", \"sunday\", \"sunday\", \"supper\", \"suspend\", \"sxsw\", \"symptom\", \"symptom\", \"symptom\", \"tabl\", \"talli\", \"taylor\", \"telecom\", \"tell\", \"tell\", \"test\", \"test\", \"test\", \"test\", \"test\", \"test\", \"theater\", \"theodor\", \"theori\", \"theori\", \"thoma\", \"thursday\", \"thursday\", \"thursday\", \"thursday\", \"thursday\", \"thursday\", \"tiger\", \"time\", \"time\", \"time\", \"time\", \"time\", \"time\", \"time\", \"time\", \"today\", \"today\", \"today\", \"today\", \"today\", \"today\", \"toll\", \"toll\", \"toll\", \"toll\", \"toll\", \"toll\", \"toronto\", \"total\", \"total\", \"tower\", \"trace\", \"track\", \"track\", \"track\", \"track\", \"track\", \"trajectori\", \"transmiss\", \"transmiss\", \"treasuri\", \"treat\", \"treat\", \"treatment\", \"trial\", \"trio\", \"trump\", \"trump\", \"trump\", \"trump\", \"ultra\", \"unchart\", \"understaf\", \"unfold\", \"unlik\", \"unlik\", \"updat\", \"updat\", \"updat\", \"updat\", \"vaughan\", \"vaughan\", \"venic\", \"versus\", \"veterinar\", \"viewpoint\", \"waitress\", \"water\", \"week\", \"week\", \"week\", \"week\", \"week\", \"week\", \"week\", \"wide\", \"wong\", \"word\", \"work\", \"work\", \"work\", \"work\", \"worker\", \"worker\", \"worker\", \"worker\", \"world\", \"world\", \"world\", \"world\", \"world\", \"world\", \"world\", \"world\", \"world\", \"worldwid\", \"worldwid\", \"worst\", \"worst\", \"wouldn\", \"york\", \"york\", \"york\", \"york\", \"york\", \"york\"]}, \"R\": 30, \"lambda.step\": 0.01, \"plot.opts\": {\"xlab\": \"PC1\", \"ylab\": \"PC2\"}, \"topic.order\": [3, 4, 1, 10, 5, 7, 2, 6, 8, 9]};\n",
       "\n",
       "function LDAvis_load_lib(url, callback){\n",
       "  var s = document.createElement('script');\n",
       "  s.src = url;\n",
       "  s.async = true;\n",
       "  s.onreadystatechange = s.onload = callback;\n",
       "  s.onerror = function(){console.warn(\"failed to load library \" + url);};\n",
       "  document.getElementsByTagName(\"head\")[0].appendChild(s);\n",
       "}\n",
       "\n",
       "if(typeof(LDAvis) !== \"undefined\"){\n",
       "   // already loaded: just create the visualization\n",
       "   !function(LDAvis){\n",
       "       new LDAvis(\"#\" + \"ldavis_el153241122842718647803657334\", ldavis_el153241122842718647803657334_data);\n",
       "   }(LDAvis);\n",
       "}else if(typeof define === \"function\" && define.amd){\n",
       "   // require.js is available: use it to load d3/LDAvis\n",
       "   require.config({paths: {d3: \"https://cdnjs.cloudflare.com/ajax/libs/d3/3.5.5/d3.min\"}});\n",
       "   require([\"d3\"], function(d3){\n",
       "      window.d3 = d3;\n",
       "      LDAvis_load_lib(\"https://cdn.rawgit.com/bmabey/pyLDAvis/files/ldavis.v1.0.0.js\", function(){\n",
       "        new LDAvis(\"#\" + \"ldavis_el153241122842718647803657334\", ldavis_el153241122842718647803657334_data);\n",
       "      });\n",
       "    });\n",
       "}else{\n",
       "    // require.js not available: dynamically load d3 & LDAvis\n",
       "    LDAvis_load_lib(\"https://cdnjs.cloudflare.com/ajax/libs/d3/3.5.5/d3.min.js\", function(){\n",
       "         LDAvis_load_lib(\"https://cdn.rawgit.com/bmabey/pyLDAvis/files/ldavis.v1.0.0.js\", function(){\n",
       "                 new LDAvis(\"#\" + \"ldavis_el153241122842718647803657334\", ldavis_el153241122842718647803657334_data);\n",
       "            })\n",
       "         });\n",
       "}\n",
       "</script>"
      ],
      "text/plain": [
       "PreparedData(topic_coordinates=              x         y  topics  cluster       Freq\n",
       "topic                                                \n",
       "2     -0.098636  0.128784       1        1  14.377366\n",
       "3     -0.022081 -0.058806       2        1  13.278381\n",
       "0     -0.034980 -0.070762       3        1  11.685607\n",
       "9     -0.008363 -0.003139       4        1   9.979134\n",
       "4     -0.003088 -0.025752       5        1   9.650505\n",
       "6     -0.016767  0.004431       6        1   9.455119\n",
       "1      0.001616 -0.014593       7        1   8.226063\n",
       "5      0.020361 -0.013491       8        1   8.196728\n",
       "7     -0.001222 -0.003009       9        1   7.931687\n",
       "8      0.163158  0.056338      10        1   7.219417, topic_info=     Category       Freq      Term      Total  loglift  logprob\n",
       "106   Default  97.000000      rand  97.000000  30.0000  30.0000\n",
       "416   Default  11.000000   newspap  11.000000  29.0000  29.0000\n",
       "418   Default  12.000000  subscrib  12.000000  28.0000  28.0000\n",
       "415   Default  12.000000      morn  12.000000  27.0000  27.0000\n",
       "42    Default  13.000000     india  13.000000  26.0000  26.0000\n",
       "417   Default  12.000000     order  12.000000  25.0000  25.0000\n",
       "155   Default  12.000000     start  12.000000  24.0000  24.0000\n",
       "414   Default  15.000000     daili  15.000000  23.0000  23.0000\n",
       "523   Default   8.000000      life   8.000000  22.0000  22.0000\n",
       "885   Default   7.000000       map   7.000000  21.0000  21.0000\n",
       "2250  Default   4.000000     meyer   4.000000  20.0000  20.0000\n",
       "2248  Default   4.000000   colbert   4.000000  19.0000  19.0000\n",
       "2249  Default   4.000000    fallon   4.000000  18.0000  18.0000\n",
       "915   Default   5.000000   product   5.000000  17.0000  17.0000\n",
       "1308  Default   5.000000   suspend   5.000000  16.0000  16.0000\n",
       "87    Default  11.000000     trump  11.000000  15.0000  15.0000\n",
       "269   Default   7.000000    latest   7.000000  14.0000  14.0000\n",
       "1540  Default   6.000000   johnson   6.000000  13.0000  13.0000\n",
       "378   Default   8.000000   symptom   8.000000  12.0000  12.0000\n",
       "532   Default   4.000000      chat   4.000000  11.0000  11.0000\n",
       "189   Default   5.000000  facebook   5.000000  10.0000  10.0000\n",
       "82    Default   9.000000    presid   9.000000   9.0000   9.0000\n",
       "535   Default   4.000000    unfold   4.000000   8.0000   8.0000\n",
       "534   Default   4.000000   messeng   4.000000   7.0000   7.0000\n",
       "1384  Default   4.000000   contact   4.000000   6.0000   6.0000\n",
       "30    Default   7.000000   patient   7.000000   5.0000   5.0000\n",
       "74    Default   7.000000    donald   7.000000   4.0000   4.0000\n",
       "12    Default   4.000000      josi   4.000000   3.0000   3.0000\n",
       "8     Default   4.000000      ford   4.000000   2.0000   2.0000\n",
       "533   Default   4.000000    happen   4.000000   1.0000   1.0000\n",
       "...       ...        ...       ...        ...      ...      ...\n",
       "3196  Topic10   0.342320     huddl   0.891332   1.6714  -6.9878\n",
       "3197  Topic10   0.342319  offshoot   0.891331   1.6714  -6.9878\n",
       "3199  Topic10   0.342319  unreport   0.891331   1.6714  -6.9878\n",
       "3198  Topic10   0.342319  reckless   0.891331   1.6714  -6.9878\n",
       "1978  Topic10   0.884023      kill   2.309001   1.6683  -6.0391\n",
       "2493  Topic10   0.334388     prais   0.883404   1.6569  -7.0113\n",
       "3033  Topic10   0.333241   horribl   0.882253   1.6548  -7.0147\n",
       "1187  Topic10   0.476206   express   1.295745   1.6274  -6.6577\n",
       "245   Topic10   0.870109     model   2.573721   1.5439  -6.0550\n",
       "1465  Topic10   0.475111     squar   1.312233   1.6125  -6.6600\n",
       "971   Topic10   0.872640    releas   3.634300   1.2017  -6.0521\n",
       "569   Topic10   0.794751   contain   3.163431   1.2470  -6.1456\n",
       "229   Topic10   0.919382      data   4.446673   1.0522  -5.9999\n",
       "656   Topic10   0.433702      loan   1.315881   1.5185  -6.7512\n",
       "690   Topic10   0.819324     place   4.116202   1.0142  -6.1151\n",
       "474   Topic10   0.967252    offici   7.386393   0.5955  -5.9491\n",
       "652   Topic10   0.608527   billion   2.759480   1.1166  -6.4125\n",
       "1649  Topic10   0.464334      debt   1.532964   1.4340  -6.6830\n",
       "853   Topic10   0.509568     initi   1.928668   1.2974  -6.5900\n",
       "246   Topic10   0.823633    nation   7.310305   0.4451  -6.1099\n",
       "1064  Topic10   0.514024     human   2.175441   1.1857  -6.5813\n",
       "96    Topic10   0.722853    measur   5.907670   0.5276  -6.2404\n",
       "196   Topic10   0.944383       say  13.985104  -0.0668  -5.9731\n",
       "46    Topic10   0.791001     novel   8.579002   0.2446  -6.1503\n",
       "53    Topic10   0.667901  thursday   6.435273   0.3630  -6.3194\n",
       "113   Topic10   0.684089     peopl  10.371778  -0.0904  -6.2955\n",
       "121   Topic10   0.588419      care   5.510246   0.3915  -6.4461\n",
       "86    Topic10   0.655065      time  15.372926  -0.5272  -6.3388\n",
       "294   Topic10   0.588417    infect   6.363130   0.2476  -6.4461\n",
       "146   Topic10   0.535667    govern   7.243756   0.0240  -6.5401\n",
       "\n",
       "[555 rows x 6 columns], token_table=      Topic      Freq      Term\n",
       "term                           \n",
       "1399      2  0.494911    access\n",
       "883       1  0.777661     accor\n",
       "238       1  0.148040    accord\n",
       "238       2  0.148040    accord\n",
       "238       4  0.296080    accord\n",
       "238       5  0.148040    accord\n",
       "238       6  0.148040    accord\n",
       "711       6  0.832809     actor\n",
       "1981      4  0.751010    actual\n",
       "399       5  0.484473      adam\n",
       "399       8  0.242237      adam\n",
       "0         4  0.883709     adult\n",
       "1756      7  0.813573     agent\n",
       "1512      1  0.750668  aircraft\n",
       "1068      4  0.689304     alarm\n",
       "1339      5  0.769103   allergi\n",
       "519       3  0.859665   alvarez\n",
       "120       5  0.661536     ambul\n",
       "120       8  0.330768     ambul\n",
       "2758      8  0.586520    andrea\n",
       "520       3  0.859664    annale\n",
       "139       1  0.151563   announc\n",
       "139       2  0.303126   announc\n",
       "139       3  0.151563   announc\n",
       "139       4  0.151563   announc\n",
       "139       5  0.151563   announc\n",
       "367       2  0.433048    answer\n",
       "367       7  0.433048    answer\n",
       "931       2  0.424535      appl\n",
       "931       4  0.212268      appl\n",
       "...     ...       ...       ...\n",
       "413       5  0.659417      wong\n",
       "1694     10  0.899558      word\n",
       "531       2  0.137140      work\n",
       "531       3  0.411420      work\n",
       "531       6  0.137140      work\n",
       "531       7  0.137140      work\n",
       "71        5  0.202739    worker\n",
       "71        6  0.202739    worker\n",
       "71        7  0.202739    worker\n",
       "71        9  0.202739    worker\n",
       "105       1  0.081928     world\n",
       "105       2  0.245784     world\n",
       "105       3  0.163856     world\n",
       "105       4  0.081928     world\n",
       "105       5  0.081928     world\n",
       "105       6  0.081928     world\n",
       "105       7  0.081928     world\n",
       "105       8  0.081928     world\n",
       "105       9  0.081928     world\n",
       "1843      5  0.585563  worldwid\n",
       "1843      8  0.292782  worldwid\n",
       "18        1  0.200650     worst\n",
       "18        4  0.601949     worst\n",
       "2558      5  0.832750    wouldn\n",
       "605       1  0.108127      york\n",
       "605       2  0.108127      york\n",
       "605       4  0.108127      york\n",
       "605       5  0.216255      york\n",
       "605       6  0.108127      york\n",
       "605       9  0.108127      york\n",
       "\n",
       "[843 rows x 3 columns], R=30, lambda_step=0.01, plot_opts={'xlab': 'PC1', 'ylab': 'PC2'}, topic_order=[3, 4, 1, 10, 5, 7, 2, 6, 8, 9])"
      ]
     },
     "execution_count": 57,
     "metadata": {},
     "output_type": "execute_result"
    }
   ],
   "source": [
    "pyLDAvis.enable_notebook()\n",
    "pyLDAvis.gensim.prepare(lda_model_tfidf,corpus_tfidf,dictionary)"
   ]
  },
  {
   "cell_type": "code",
   "execution_count": null,
   "metadata": {},
   "outputs": [],
   "source": []
  }
 ],
 "metadata": {
  "kernelspec": {
   "display_name": "Python 3",
   "language": "python",
   "name": "python3"
  },
  "language_info": {
   "codemirror_mode": {
    "name": "ipython",
    "version": 3
   },
   "file_extension": ".py",
   "mimetype": "text/x-python",
   "name": "python",
   "nbconvert_exporter": "python",
   "pygments_lexer": "ipython3",
   "version": "3.7.3"
  }
 },
 "nbformat": 4,
 "nbformat_minor": 2
}
