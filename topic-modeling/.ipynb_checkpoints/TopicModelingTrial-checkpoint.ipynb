{
 "cells": [
  {
   "cell_type": "code",
   "execution_count": 1,
   "metadata": {},
   "outputs": [
    {
     "name": "stderr",
     "output_type": "stream",
     "text": [
      "[nltk_data] Downloading package wordnet to /Users/vignesh/nltk_data...\n",
      "[nltk_data]   Package wordnet is already up-to-date!\n"
     ]
    }
   ],
   "source": [
    "import gensim\n",
    "from gensim.utils import simple_preprocess\n",
    "from gensim.parsing.preprocessing import STOPWORDS\n",
    "from nltk.stem import WordNetLemmatizer, SnowballStemmer\n",
    "from nltk.stem.porter import *\n",
    "import numpy as np\n",
    "np.random.seed(2018)\n",
    "import nltk\n",
    "nltk.download('wordnet')\n",
    "import pandas as pd\n",
    "from pandas.io import gbq\n",
    "from nltk.corpus import stopwords"
   ]
  },
  {
   "cell_type": "markdown",
   "metadata": {},
   "source": [
    "<h1> TEST RUN</h1>"
   ]
  },
  {
   "cell_type": "code",
   "execution_count": 2,
   "metadata": {},
   "outputs": [],
   "source": [
    "d1 = pd.read_csv(\"NewsMar29.csv\",)"
   ]
  },
  {
   "cell_type": "code",
   "execution_count": 3,
   "metadata": {},
   "outputs": [],
   "source": [
    "headlinesdf=d1[['Headline']]"
   ]
  },
  {
   "cell_type": "code",
   "execution_count": 4,
   "metadata": {},
   "outputs": [],
   "source": [
    "headlinesdf['index'] = headlinesdf.index"
   ]
  },
  {
   "cell_type": "code",
   "execution_count": 5,
   "metadata": {},
   "outputs": [],
   "source": [
    "stemmer = SnowballStemmer('english')\n",
    "def lemmatize_stemming(text):\n",
    "    return stemmer.stem(WordNetLemmatizer().lemmatize(text, pos='v'))\n",
    "def preprocess(text):\n",
    "    result = []\n",
    "    for token in gensim.utils.simple_preprocess(text):\n",
    "        if token not in gensim.parsing.preprocessing.STOPWORDS and len(token) > 3:\n",
    "            result.append(lemmatize_stemming(token))\n",
    "    return result"
   ]
  },
  {
   "cell_type": "code",
   "execution_count": 6,
   "metadata": {},
   "outputs": [
    {
     "name": "stdout",
     "output_type": "stream",
     "text": [
      "original document: \n",
      "['Trump', 'asked', 'pharmaceutical', 'execs', 'if', 'the', 'flu', 'vaccine', 'could', 'be', 'used', 'to', 'stop', 'coronavirus.', \"Here's\", 'why', 'that', \"wouldn't\", 'work.']\n",
      "\n",
      "\n",
      " tokenized and lemmatized document: \n",
      "['trump', 'ask', 'pharmaceut', 'exec', 'vaccin', 'stop', 'coronavirus', 'wouldn', 'work']\n"
     ]
    }
   ],
   "source": [
    "doc_sample = headlinesdf[headlinesdf['index'] == 52].values[0][0]\n",
    "print('original document: ')\n",
    "words = []\n",
    "for word in doc_sample.split(' '):\n",
    "    words.append(word)\n",
    "print(words)\n",
    "print('\\n\\n tokenized and lemmatized document: ')\n",
    "print(preprocess(doc_sample))"
   ]
  },
  {
   "cell_type": "code",
   "execution_count": 7,
   "metadata": {},
   "outputs": [],
   "source": [
    "processed_docs = headlinesdf['Headline'].map(preprocess)\n",
    "# processed_docs[:10]"
   ]
  },
  {
   "cell_type": "code",
   "execution_count": 8,
   "metadata": {},
   "outputs": [
    {
     "name": "stdout",
     "output_type": "stream",
     "text": [
      "0 app\n",
      "1 appl\n",
      "2 coronavirus\n",
      "3 limit\n",
      "4 misinform\n",
      "5 reject\n",
      "6 virus\n",
      "7 bogus\n",
      "8 infect\n",
      "9 tracker\n",
      "10 chines\n"
     ]
    }
   ],
   "source": [
    "dictionary = gensim.corpora.Dictionary(processed_docs)\n",
    "count = 0\n",
    "for k, v in dictionary.iteritems():\n",
    "    print(k, v)\n",
    "    count += 1\n",
    "    if count > 10:\n",
    "        break"
   ]
  },
  {
   "cell_type": "code",
   "execution_count": 9,
   "metadata": {},
   "outputs": [],
   "source": [
    "dictionary.filter_extremes(no_below=5, no_above=0.5, keep_n=100000)"
   ]
  },
  {
   "cell_type": "code",
   "execution_count": 10,
   "metadata": {},
   "outputs": [
    {
     "data": {
      "text/plain": [
       "[(1, 1), (3, 1)]"
      ]
     },
     "execution_count": 10,
     "metadata": {},
     "output_type": "execute_result"
    }
   ],
   "source": [
    "bow_corpus = [dictionary.doc2bow(doc) for doc in processed_docs]\n",
    "bow_corpus[50]"
   ]
  },
  {
   "cell_type": "code",
   "execution_count": 11,
   "metadata": {},
   "outputs": [
    {
     "name": "stdout",
     "output_type": "stream",
     "text": [
      "Word 1 (\"virus\") appears 1 time.\n",
      "Word 3 (\"trump\") appears 1 time.\n"
     ]
    }
   ],
   "source": [
    "bow_doc_50 = bow_corpus[50]\n",
    "for i in range(len(bow_doc_50)):\n",
    "    print(\"Word {} (\\\"{}\\\") appears {} time.\".format(bow_doc_50[i][0], \n",
    "                                               dictionary[bow_doc_50[i][0]], \n",
    "bow_doc_50[i][1]))"
   ]
  },
  {
   "cell_type": "code",
   "execution_count": 12,
   "metadata": {},
   "outputs": [
    {
     "name": "stdout",
     "output_type": "stream",
     "text": [
      "[(0, 0.44158362601351453), (1, 0.8972200963179305)]\n"
     ]
    }
   ],
   "source": [
    "from gensim import corpora, models\n",
    "tfidf = models.TfidfModel(bow_corpus)\n",
    "corpus_tfidf = tfidf[bow_corpus]\n",
    "from pprint import pprint\n",
    "for doc in corpus_tfidf:\n",
    "    pprint(doc)\n",
    "    break"
   ]
  },
  {
   "cell_type": "code",
   "execution_count": 13,
   "metadata": {},
   "outputs": [],
   "source": [
    "lda_model = gensim.models.LdaMulticore(bow_corpus, num_topics=10, id2word=dictionary, passes=2, workers=2)"
   ]
  },
  {
   "cell_type": "code",
   "execution_count": 14,
   "metadata": {},
   "outputs": [
    {
     "name": "stdout",
     "output_type": "stream",
     "text": [
      "Topic: 0 \n",
      "Words: 0.436*\"trump\" + 0.309*\"corona\" + 0.191*\"virus\" + 0.037*\"coronavirus\" + 0.009*\"covid\" + 0.009*\"spread\" + 0.009*\"world\"\n",
      "Topic: 1 \n",
      "Words: 0.876*\"coronavirus\" + 0.067*\"world\" + 0.044*\"spread\" + 0.003*\"corona\" + 0.003*\"virus\" + 0.003*\"covid\" + 0.003*\"trump\"\n",
      "Topic: 2 \n",
      "Words: 0.446*\"spread\" + 0.404*\"coronavirus\" + 0.043*\"world\" + 0.043*\"covid\" + 0.043*\"trump\" + 0.011*\"virus\" + 0.011*\"corona\"\n",
      "Topic: 3 \n",
      "Words: 0.525*\"coronavirus\" + 0.256*\"trump\" + 0.134*\"spread\" + 0.049*\"virus\" + 0.012*\"corona\" + 0.012*\"covid\" + 0.012*\"world\"\n",
      "Topic: 4 \n",
      "Words: 0.659*\"covid\" + 0.178*\"coronavirus\" + 0.133*\"spread\" + 0.007*\"corona\" + 0.007*\"virus\" + 0.007*\"trump\" + 0.007*\"world\"\n",
      "Topic: 5 \n",
      "Words: 0.464*\"corona\" + 0.232*\"coronavirus\" + 0.179*\"virus\" + 0.071*\"spread\" + 0.018*\"covid\" + 0.018*\"trump\" + 0.018*\"world\"\n",
      "Topic: 6 \n",
      "Words: 0.683*\"corona\" + 0.225*\"covid\" + 0.033*\"virus\" + 0.033*\"spread\" + 0.008*\"coronavirus\" + 0.008*\"world\" + 0.008*\"trump\"\n",
      "Topic: 7 \n",
      "Words: 0.343*\"world\" + 0.219*\"virus\" + 0.125*\"coronavirus\" + 0.125*\"covid\" + 0.125*\"spread\" + 0.031*\"corona\" + 0.031*\"trump\"\n",
      "Topic: 8 \n",
      "Words: 0.556*\"coronavirus\" + 0.269*\"virus\" + 0.111*\"corona\" + 0.016*\"covid\" + 0.016*\"spread\" + 0.016*\"trump\" + 0.016*\"world\"\n",
      "Topic: 9 \n",
      "Words: 0.614*\"virus\" + 0.277*\"corona\" + 0.089*\"world\" + 0.005*\"coronavirus\" + 0.005*\"covid\" + 0.005*\"spread\" + 0.005*\"trump\"\n"
     ]
    }
   ],
   "source": [
    "for idx, topic in lda_model.print_topics(-1):\n",
    "    print('Topic: {} \\nWords: {}'.format(idx, topic))"
   ]
  },
  {
   "cell_type": "code",
   "execution_count": 15,
   "metadata": {},
   "outputs": [
    {
     "name": "stdout",
     "output_type": "stream",
     "text": [
      "Topic: 0 Word: 0.751*\"world\" + 0.109*\"virus\" + 0.072*\"coronavirus\" + 0.017*\"corona\" + 0.017*\"spread\" + 0.017*\"covid\" + 0.017*\"trump\"\n",
      "Topic: 1 Word: 0.163*\"coronavirus\" + 0.139*\"corona\" + 0.139*\"virus\" + 0.139*\"covid\" + 0.139*\"spread\" + 0.139*\"world\" + 0.139*\"trump\"\n",
      "Topic: 2 Word: 0.982*\"coronavirus\" + 0.003*\"corona\" + 0.003*\"virus\" + 0.003*\"covid\" + 0.003*\"spread\" + 0.003*\"trump\" + 0.003*\"world\"\n",
      "Topic: 3 Word: 0.749*\"spread\" + 0.201*\"coronavirus\" + 0.010*\"covid\" + 0.010*\"world\" + 0.010*\"trump\" + 0.010*\"virus\" + 0.010*\"corona\"\n",
      "Topic: 4 Word: 0.863*\"trump\" + 0.047*\"coronavirus\" + 0.024*\"corona\" + 0.021*\"spread\" + 0.015*\"world\" + 0.015*\"covid\" + 0.015*\"virus\"\n",
      "Topic: 5 Word: 0.145*\"coronavirus\" + 0.145*\"virus\" + 0.145*\"covid\" + 0.144*\"trump\" + 0.142*\"corona\" + 0.139*\"spread\" + 0.139*\"world\"\n",
      "Topic: 6 Word: 0.728*\"corona\" + 0.246*\"virus\" + 0.005*\"spread\" + 0.005*\"covid\" + 0.005*\"coronavirus\" + 0.005*\"trump\" + 0.005*\"world\"\n",
      "Topic: 7 Word: 0.184*\"coronavirus\" + 0.145*\"corona\" + 0.134*\"virus\" + 0.134*\"covid\" + 0.134*\"spread\" + 0.134*\"trump\" + 0.134*\"world\"\n",
      "Topic: 8 Word: 0.923*\"virus\" + 0.026*\"trump\" + 0.010*\"coronavirus\" + 0.010*\"corona\" + 0.010*\"covid\" + 0.010*\"spread\" + 0.010*\"world\"\n",
      "Topic: 9 Word: 0.940*\"covid\" + 0.013*\"coronavirus\" + 0.010*\"virus\" + 0.010*\"corona\" + 0.009*\"spread\" + 0.009*\"trump\" + 0.009*\"world\"\n"
     ]
    }
   ],
   "source": [
    "lda_model_tfidf = gensim.models.LdaMulticore(corpus_tfidf, num_topics=10, id2word=dictionary, passes=10, workers=4)\n",
    "for idx, topic in lda_model_tfidf.print_topics(-1):\n",
    "    print('Topic: {} Word: {}'.format(idx, topic))"
   ]
  },
  {
   "cell_type": "code",
   "execution_count": null,
   "metadata": {},
   "outputs": [],
   "source": []
  }
 ],
 "metadata": {
  "kernelspec": {
   "display_name": "Python 3",
   "language": "python",
   "name": "python3"
  },
  "language_info": {
   "codemirror_mode": {
    "name": "ipython",
    "version": 3
   },
   "file_extension": ".py",
   "mimetype": "text/x-python",
   "name": "python",
   "nbconvert_exporter": "python",
   "pygments_lexer": "ipython3",
   "version": "3.7.3"
  }
 },
 "nbformat": 4,
 "nbformat_minor": 2
}
