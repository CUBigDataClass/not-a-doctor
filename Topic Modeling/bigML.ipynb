{
 "cells": [
  {
   "cell_type": "code",
   "execution_count": 4,
   "metadata": {},
   "outputs": [
    {
     "name": "stdout",
     "output_type": "stream",
     "text": [
      "env: BIGML_USERNAME=vignesh2108\n",
      "env: BIGML_API_KEY=6fd4c25030dca4bdd0f7c6da344fe295b9fbad25\n"
     ]
    }
   ],
   "source": [
    "%env BIGML_USERNAME=vignesh2108\n",
    "%env BIGML_API_KEY=6fd4c25030dca4bdd0f7c6da344fe295b9fbad25"
   ]
  },
  {
   "cell_type": "code",
   "execution_count": 37,
   "metadata": {},
   "outputs": [],
   "source": [
    "from bigml.api import BigML\n",
    "import pandas as pd\n",
    "from pandas.io import gbq\n",
    "import json"
   ]
  },
  {
   "cell_type": "code",
   "execution_count": 9,
   "metadata": {},
   "outputs": [
    {
     "name": "stderr",
     "output_type": "stream",
     "text": [
      "/Users/vignesh/anaconda3/lib/python3.7/site-packages/ipykernel_launcher.py:2: FutureWarning: The default value for dialect is changing to \"standard\" in a future version of pandas-gbq. Pass in dialect=\"legacy\" to disable this warning.\n",
      "  \n",
      "Downloading: 100%|██████████| 2023/2023 [00:00<00:00, 5844.84rows/s]\n"
     ]
    }
   ],
   "source": [
    "news_content = \"\"\"SELECT title  FROM [not-a-doctor-273222.Topic_Modelling.NewsData]\"\"\"\n",
    "news_content = gbq.read_gbq(news_content,project_id=\"not-a-doctor-273222\")"
   ]
  },
  {
   "cell_type": "code",
   "execution_count": 10,
   "metadata": {},
   "outputs": [],
   "source": [
    "news_content_uniq=news_content.drop_duplicates()"
   ]
  },
  {
   "cell_type": "code",
   "execution_count": 13,
   "metadata": {},
   "outputs": [],
   "source": [
    "news_content_uniq.to_csv('news_cont_uniq.csv',index=False)"
   ]
  },
  {
   "cell_type": "code",
   "execution_count": 14,
   "metadata": {},
   "outputs": [],
   "source": [
    "api = BigML()"
   ]
  },
  {
   "cell_type": "code",
   "execution_count": 15,
   "metadata": {},
   "outputs": [],
   "source": [
    "source = api.create_source(\"news_cont_uniq.csv\")"
   ]
  },
  {
   "cell_type": "code",
   "execution_count": 16,
   "metadata": {},
   "outputs": [
    {
     "data": {
      "text/plain": [
       "True"
      ]
     },
     "execution_count": 16,
     "metadata": {},
     "output_type": "execute_result"
    }
   ],
   "source": [
    "api.ok(source)"
   ]
  },
  {
   "cell_type": "code",
   "execution_count": 17,
   "metadata": {},
   "outputs": [],
   "source": [
    "dataset = api.create_dataset(source)"
   ]
  },
  {
   "cell_type": "code",
   "execution_count": 18,
   "metadata": {},
   "outputs": [
    {
     "data": {
      "text/plain": [
       "True"
      ]
     },
     "execution_count": 18,
     "metadata": {},
     "output_type": "execute_result"
    }
   ],
   "source": [
    "api.ok(dataset)"
   ]
  },
  {
   "cell_type": "code",
   "execution_count": 88,
   "metadata": {},
   "outputs": [],
   "source": [
    "topic_model = api.create_topic_model(dataset, { \\\n",
    "    \"name\": \"TopNewsTopics\"\n",
    "        , \"excluded_terms\":[\"coronavirus\",\"covid\",\"rand\"]\n",
    "        ,\"term_filters\": [\"non_language_characters\",\"html_keywords\",\"numeric_digits\"]\n",
    "#       ,\"number_of_topics\":15\n",
    "})"
   ]
  },
  {
   "cell_type": "code",
   "execution_count": 92,
   "metadata": {},
   "outputs": [
    {
     "data": {
      "text/plain": [
       "True"
      ]
     },
     "execution_count": 92,
     "metadata": {},
     "output_type": "execute_result"
    }
   ],
   "source": [
    "api.ok(topic_model)"
   ]
  },
  {
   "cell_type": "code",
   "execution_count": 93,
   "metadata": {},
   "outputs": [
    {
     "name": "stdout",
     "output_type": "stream",
     "text": [
      "johnson\n",
      "updates\n",
      "trump, week\n",
      "lockdown\n",
      "dies\n",
      "checks\n",
      "trump, rise\n",
      "restrictions\n",
      "death\n",
      "report\n",
      "pandemic, million\n",
      "governor\n",
      "trump, thehill\n",
      "testing\n",
      "business\n",
      "china\n",
      "relief\n",
      "pandemic, health\n",
      "york\n",
      "home\n"
     ]
    }
   ],
   "source": [
    "for i in topic_model['object']['topic_model']['topics']:\n",
    "    print(i['name'])\n",
    "    \n"
   ]
  },
  {
   "cell_type": "code",
   "execution_count": 105,
   "metadata": {},
   "outputs": [
    {
     "name": "stdout",
     "output_type": "stream",
     "text": [
      "johnson boris\n",
      "updates\n",
      "trump, week\n",
      "lockdown\n",
      "dies\n",
      "checks amid\n",
      "trump, rise\n",
      "restrictions hope\n",
      "death\n",
      "report\n",
      "pandemic million\n",
      "governor workers\n",
      "trump, thehill\n",
      "testing\n",
      "business\n",
      "china\n",
      "relief calls\n",
      "pandemic, health\n",
      "york\n",
      "home testing\n"
     ]
    }
   ],
   "source": [
    "for t in topic_model['object']['topic_model']['topics']:\n",
    "    if t['top_terms'][0][1]-t['top_terms'][1][1] < 0.01:\n",
    "        print(t['top_terms'][0][0],t['top_terms'][1][0])\n",
    "    else:\n",
    "        print(t['name'])"
   ]
  },
  {
   "cell_type": "code",
   "execution_count": 111,
   "metadata": {},
   "outputs": [],
   "source": [
    "file1 = open(\"FinalTopicsOP.txt\",\"w\") "
   ]
  },
  {
   "cell_type": "code",
   "execution_count": 112,
   "metadata": {},
   "outputs": [],
   "source": [
    "for t in topic_model['object']['topic_model']['topics']:\n",
    "    if t['top_terms'][0][1]-t['top_terms'][1][1] < 0.01:\n",
    "        s1=str(t['top_terms'][0][0])+\" \"+str(t['top_terms'][1][0])+\"\\n\"\n",
    "    else:\n",
    "        s1=str(t['name'])+\"\\n\"\n",
    "    file1.write(s1)"
   ]
  },
  {
   "cell_type": "code",
   "execution_count": 113,
   "metadata": {},
   "outputs": [],
   "source": [
    "file1.close()"
   ]
  },
  {
   "cell_type": "code",
   "execution_count": null,
   "metadata": {},
   "outputs": [],
   "source": []
  }
 ],
 "metadata": {
  "kernelspec": {
   "display_name": "Python 3",
   "language": "python",
   "name": "python3"
  },
  "language_info": {
   "codemirror_mode": {
    "name": "ipython",
    "version": 3
   },
   "file_extension": ".py",
   "mimetype": "text/x-python",
   "name": "python",
   "nbconvert_exporter": "python",
   "pygments_lexer": "ipython3",
   "version": "3.7.3"
  }
 },
 "nbformat": 4,
 "nbformat_minor": 2
}
