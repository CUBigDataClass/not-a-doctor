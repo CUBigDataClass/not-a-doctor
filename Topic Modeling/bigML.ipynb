{
 "cells": [
  {
   "cell_type": "code",
   "execution_count": 1,
   "metadata": {},
   "outputs": [
    {
     "name": "stdout",
     "output_type": "stream",
     "text": [
      "env: BIGML_USERNAME=vignesh2108\n",
      "env: BIGML_API_KEY=6fd4c25030dca4bdd0f7c6da344fe295b9fbad25\n"
     ]
    }
   ],
   "source": [
    "%env BIGML_USERNAME=vignesh2108\n",
    "%env BIGML_API_KEY=6fd4c25030dca4bdd0f7c6da344fe295b9fbad25"
   ]
  },
  {
   "cell_type": "code",
   "execution_count": null,
   "metadata": {},
   "outputs": [],
   "source": []
  }
 ],
 "metadata": {
  "kernelspec": {
   "display_name": "Python 3",
   "language": "python",
   "name": "python3"
  },
  "language_info": {
   "codemirror_mode": {
    "name": "ipython",
    "version": 3
   },
   "file_extension": ".py",
   "mimetype": "text/x-python",
   "name": "python",
   "nbconvert_exporter": "python",
   "pygments_lexer": "ipython3",
   "version": "3.7.3"
  }
 },
 "nbformat": 4,
 "nbformat_minor": 2
}
