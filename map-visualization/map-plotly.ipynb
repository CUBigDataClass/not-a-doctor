{
 "cells": [
  {
   "cell_type": "code",
   "execution_count": 72,
   "metadata": {},
   "outputs": [],
   "source": [
    "import requests\n",
    "from pandas import DataFrame as df\n",
    "import reverse_geocoder as rg \n",
    "import plotly.graph_objects as go"
   ]
  },
  {
   "cell_type": "code",
   "execution_count": 115,
   "metadata": {},
   "outputs": [
    {
     "data": {
      "text/html": [
       "<div>\n",
       "<style scoped>\n",
       "    .dataframe tbody tr th:only-of-type {\n",
       "        vertical-align: middle;\n",
       "    }\n",
       "\n",
       "    .dataframe tbody tr th {\n",
       "        vertical-align: top;\n",
       "    }\n",
       "\n",
       "    .dataframe thead th {\n",
       "        text-align: right;\n",
       "    }\n",
       "</style>\n",
       "<table border=\"1\" class=\"dataframe\">\n",
       "  <thead>\n",
       "    <tr style=\"text-align: right;\">\n",
       "      <th></th>\n",
       "      <th>id</th>\n",
       "      <th>country</th>\n",
       "      <th>country_code</th>\n",
       "      <th>country_population</th>\n",
       "      <th>province</th>\n",
       "      <th>last_updated</th>\n",
       "      <th>coordinates</th>\n",
       "      <th>latest</th>\n",
       "      <th>latitude</th>\n",
       "      <th>longitude</th>\n",
       "      <th>place</th>\n",
       "      <th>confirmed</th>\n",
       "      <th>deaths</th>\n",
       "      <th>recovered</th>\n",
       "      <th>confirmed_size</th>\n",
       "    </tr>\n",
       "  </thead>\n",
       "  <tbody>\n",
       "    <tr>\n",
       "      <th>0</th>\n",
       "      <td>0</td>\n",
       "      <td>Afghanistan</td>\n",
       "      <td>AF</td>\n",
       "      <td>29121286.0</td>\n",
       "      <td></td>\n",
       "      <td>2020-04-16T20:25:43.530421Z</td>\n",
       "      <td>{'latitude': '33.0', 'longitude': '65.0'}</td>\n",
       "      <td>{'confirmed': 784, 'deaths': 25, 'recovered': 0}</td>\n",
       "      <td>33.0</td>\n",
       "      <td>65.0</td>\n",
       "      <td>Kajran , Daykundi</td>\n",
       "      <td>784</td>\n",
       "      <td>25</td>\n",
       "      <td>0</td>\n",
       "      <td>0.112000</td>\n",
       "    </tr>\n",
       "    <tr>\n",
       "      <th>1</th>\n",
       "      <td>1</td>\n",
       "      <td>Albania</td>\n",
       "      <td>AL</td>\n",
       "      <td>2986952.0</td>\n",
       "      <td></td>\n",
       "      <td>2020-04-16T20:25:43.533860Z</td>\n",
       "      <td>{'latitude': '41.1533', 'longitude': '20.1683'}</td>\n",
       "      <td>{'confirmed': 494, 'deaths': 25, 'recovered': 0}</td>\n",
       "      <td>41.1533</td>\n",
       "      <td>20.1683</td>\n",
       "      <td>Labinot-Fushe , Elbasan</td>\n",
       "      <td>494</td>\n",
       "      <td>25</td>\n",
       "      <td>0</td>\n",
       "      <td>0.070571</td>\n",
       "    </tr>\n",
       "    <tr>\n",
       "      <th>2</th>\n",
       "      <td>2</td>\n",
       "      <td>Algeria</td>\n",
       "      <td>DZ</td>\n",
       "      <td>34586184.0</td>\n",
       "      <td></td>\n",
       "      <td>2020-04-16T20:25:43.537215Z</td>\n",
       "      <td>{'latitude': '28.0339', 'longitude': '1.6596'}</td>\n",
       "      <td>{'confirmed': 2160, 'deaths': 336, 'recovered'...</td>\n",
       "      <td>28.0339</td>\n",
       "      <td>1.6596</td>\n",
       "      <td>I-n-Salah , Tamanghasset</td>\n",
       "      <td>2160</td>\n",
       "      <td>336</td>\n",
       "      <td>0</td>\n",
       "      <td>0.308571</td>\n",
       "    </tr>\n",
       "    <tr>\n",
       "      <th>3</th>\n",
       "      <td>3</td>\n",
       "      <td>Andorra</td>\n",
       "      <td>AD</td>\n",
       "      <td>84000.0</td>\n",
       "      <td></td>\n",
       "      <td>2020-04-16T20:25:43.540571Z</td>\n",
       "      <td>{'latitude': '42.5063', 'longitude': '1.5218'}</td>\n",
       "      <td>{'confirmed': 673, 'deaths': 33, 'recovered': 0}</td>\n",
       "      <td>42.5063</td>\n",
       "      <td>1.5218</td>\n",
       "      <td>Andorra la Vella , Andorra la Vella</td>\n",
       "      <td>673</td>\n",
       "      <td>33</td>\n",
       "      <td>0</td>\n",
       "      <td>0.096143</td>\n",
       "    </tr>\n",
       "    <tr>\n",
       "      <th>4</th>\n",
       "      <td>4</td>\n",
       "      <td>Angola</td>\n",
       "      <td>AO</td>\n",
       "      <td>13068161.0</td>\n",
       "      <td></td>\n",
       "      <td>2020-04-16T20:25:43.543945Z</td>\n",
       "      <td>{'latitude': '-11.2027', 'longitude': '17.8739'}</td>\n",
       "      <td>{'confirmed': 19, 'deaths': 2, 'recovered': 0}</td>\n",
       "      <td>-11.2027</td>\n",
       "      <td>17.8739</td>\n",
       "      <td>Camacupa , Bie</td>\n",
       "      <td>19</td>\n",
       "      <td>2</td>\n",
       "      <td>0</td>\n",
       "      <td>0.002714</td>\n",
       "    </tr>\n",
       "    <tr>\n",
       "      <th>...</th>\n",
       "      <td>...</td>\n",
       "      <td>...</td>\n",
       "      <td>...</td>\n",
       "      <td>...</td>\n",
       "      <td>...</td>\n",
       "      <td>...</td>\n",
       "      <td>...</td>\n",
       "      <td>...</td>\n",
       "      <td>...</td>\n",
       "      <td>...</td>\n",
       "      <td>...</td>\n",
       "      <td>...</td>\n",
       "      <td>...</td>\n",
       "      <td>...</td>\n",
       "      <td>...</td>\n",
       "    </tr>\n",
       "    <tr>\n",
       "      <th>259</th>\n",
       "      <td>259</td>\n",
       "      <td>France</td>\n",
       "      <td>FR</td>\n",
       "      <td>64768389.0</td>\n",
       "      <td>Saint Pierre and Miquelon</td>\n",
       "      <td>2020-04-16T20:25:44.395850Z</td>\n",
       "      <td>{'latitude': '46.8852', 'longitude': '-56.3159'}</td>\n",
       "      <td>{'confirmed': 1, 'deaths': 0, 'recovered': 0}</td>\n",
       "      <td>46.8852</td>\n",
       "      <td>-56.3159</td>\n",
       "      <td>Saint-Pierre , Saint-Pierre</td>\n",
       "      <td>1</td>\n",
       "      <td>0</td>\n",
       "      <td>0</td>\n",
       "      <td>0.000143</td>\n",
       "    </tr>\n",
       "    <tr>\n",
       "      <th>260</th>\n",
       "      <td>260</td>\n",
       "      <td>South Sudan</td>\n",
       "      <td>SS</td>\n",
       "      <td>8260490.0</td>\n",
       "      <td></td>\n",
       "      <td>2020-04-16T20:25:44.399314Z</td>\n",
       "      <td>{'latitude': '6.877000000000001', 'longitude':...</td>\n",
       "      <td>{'confirmed': 4, 'deaths': 0, 'recovered': 0}</td>\n",
       "      <td>6.877000000000001</td>\n",
       "      <td>31.307</td>\n",
       "      <td>Bor , Jonglei</td>\n",
       "      <td>4</td>\n",
       "      <td>0</td>\n",
       "      <td>0</td>\n",
       "      <td>0.000571</td>\n",
       "    </tr>\n",
       "    <tr>\n",
       "      <th>261</th>\n",
       "      <td>261</td>\n",
       "      <td>Western Sahara</td>\n",
       "      <td>EH</td>\n",
       "      <td>273008.0</td>\n",
       "      <td></td>\n",
       "      <td>2020-04-16T20:25:44.402659Z</td>\n",
       "      <td>{'latitude': '24.2155', 'longitude': '-12.8858'}</td>\n",
       "      <td>{'confirmed': 6, 'deaths': 0, 'recovered': 0}</td>\n",
       "      <td>24.2155</td>\n",
       "      <td>-12.8858</td>\n",
       "      <td>Gueltat Zemmour , Laayoune-Boujdour-Sakia El H...</td>\n",
       "      <td>6</td>\n",
       "      <td>0</td>\n",
       "      <td>0</td>\n",
       "      <td>0.000857</td>\n",
       "    </tr>\n",
       "    <tr>\n",
       "      <th>262</th>\n",
       "      <td>262</td>\n",
       "      <td>Sao Tome and Principe</td>\n",
       "      <td>ST</td>\n",
       "      <td>197700.0</td>\n",
       "      <td></td>\n",
       "      <td>2020-04-16T20:25:44.406008Z</td>\n",
       "      <td>{'latitude': '0.18636', 'longitude': '6.613081'}</td>\n",
       "      <td>{'confirmed': 4, 'deaths': 0, 'recovered': 0}</td>\n",
       "      <td>0.18636</td>\n",
       "      <td>6.613081</td>\n",
       "      <td>Sao Tome , Sao Tome Island</td>\n",
       "      <td>4</td>\n",
       "      <td>0</td>\n",
       "      <td>0</td>\n",
       "      <td>0.000571</td>\n",
       "    </tr>\n",
       "    <tr>\n",
       "      <th>263</th>\n",
       "      <td>263</td>\n",
       "      <td>Yemen</td>\n",
       "      <td>YE</td>\n",
       "      <td>23495361.0</td>\n",
       "      <td></td>\n",
       "      <td>2020-04-16T20:25:44.409338Z</td>\n",
       "      <td>{'latitude': '15.552726999999999', 'longitude'...</td>\n",
       "      <td>{'confirmed': 1, 'deaths': 0, 'recovered': 0}</td>\n",
       "      <td>15.552726999999999</td>\n",
       "      <td>48.516388</td>\n",
       "      <td>Al Batinah , Muhafazat Hadramawt</td>\n",
       "      <td>1</td>\n",
       "      <td>0</td>\n",
       "      <td>0</td>\n",
       "      <td>0.000143</td>\n",
       "    </tr>\n",
       "  </tbody>\n",
       "</table>\n",
       "<p>264 rows × 15 columns</p>\n",
       "</div>"
      ],
      "text/plain": [
       "      id                country country_code  country_population  \\\n",
       "0      0            Afghanistan           AF          29121286.0   \n",
       "1      1                Albania           AL           2986952.0   \n",
       "2      2                Algeria           DZ          34586184.0   \n",
       "3      3                Andorra           AD             84000.0   \n",
       "4      4                 Angola           AO          13068161.0   \n",
       "..   ...                    ...          ...                 ...   \n",
       "259  259                 France           FR          64768389.0   \n",
       "260  260            South Sudan           SS           8260490.0   \n",
       "261  261         Western Sahara           EH            273008.0   \n",
       "262  262  Sao Tome and Principe           ST            197700.0   \n",
       "263  263                  Yemen           YE          23495361.0   \n",
       "\n",
       "                      province                 last_updated  \\\n",
       "0                               2020-04-16T20:25:43.530421Z   \n",
       "1                               2020-04-16T20:25:43.533860Z   \n",
       "2                               2020-04-16T20:25:43.537215Z   \n",
       "3                               2020-04-16T20:25:43.540571Z   \n",
       "4                               2020-04-16T20:25:43.543945Z   \n",
       "..                         ...                          ...   \n",
       "259  Saint Pierre and Miquelon  2020-04-16T20:25:44.395850Z   \n",
       "260                             2020-04-16T20:25:44.399314Z   \n",
       "261                             2020-04-16T20:25:44.402659Z   \n",
       "262                             2020-04-16T20:25:44.406008Z   \n",
       "263                             2020-04-16T20:25:44.409338Z   \n",
       "\n",
       "                                           coordinates  \\\n",
       "0            {'latitude': '33.0', 'longitude': '65.0'}   \n",
       "1      {'latitude': '41.1533', 'longitude': '20.1683'}   \n",
       "2       {'latitude': '28.0339', 'longitude': '1.6596'}   \n",
       "3       {'latitude': '42.5063', 'longitude': '1.5218'}   \n",
       "4     {'latitude': '-11.2027', 'longitude': '17.8739'}   \n",
       "..                                                 ...   \n",
       "259   {'latitude': '46.8852', 'longitude': '-56.3159'}   \n",
       "260  {'latitude': '6.877000000000001', 'longitude':...   \n",
       "261   {'latitude': '24.2155', 'longitude': '-12.8858'}   \n",
       "262   {'latitude': '0.18636', 'longitude': '6.613081'}   \n",
       "263  {'latitude': '15.552726999999999', 'longitude'...   \n",
       "\n",
       "                                                latest            latitude  \\\n",
       "0     {'confirmed': 784, 'deaths': 25, 'recovered': 0}                33.0   \n",
       "1     {'confirmed': 494, 'deaths': 25, 'recovered': 0}             41.1533   \n",
       "2    {'confirmed': 2160, 'deaths': 336, 'recovered'...             28.0339   \n",
       "3     {'confirmed': 673, 'deaths': 33, 'recovered': 0}             42.5063   \n",
       "4       {'confirmed': 19, 'deaths': 2, 'recovered': 0}            -11.2027   \n",
       "..                                                 ...                 ...   \n",
       "259      {'confirmed': 1, 'deaths': 0, 'recovered': 0}             46.8852   \n",
       "260      {'confirmed': 4, 'deaths': 0, 'recovered': 0}   6.877000000000001   \n",
       "261      {'confirmed': 6, 'deaths': 0, 'recovered': 0}             24.2155   \n",
       "262      {'confirmed': 4, 'deaths': 0, 'recovered': 0}             0.18636   \n",
       "263      {'confirmed': 1, 'deaths': 0, 'recovered': 0}  15.552726999999999   \n",
       "\n",
       "     longitude                                              place  confirmed  \\\n",
       "0         65.0                                  Kajran , Daykundi        784   \n",
       "1      20.1683                            Labinot-Fushe , Elbasan        494   \n",
       "2       1.6596                           I-n-Salah , Tamanghasset       2160   \n",
       "3       1.5218                Andorra la Vella , Andorra la Vella        673   \n",
       "4      17.8739                                     Camacupa , Bie         19   \n",
       "..         ...                                                ...        ...   \n",
       "259   -56.3159                        Saint-Pierre , Saint-Pierre          1   \n",
       "260     31.307                                      Bor , Jonglei          4   \n",
       "261   -12.8858  Gueltat Zemmour , Laayoune-Boujdour-Sakia El H...          6   \n",
       "262   6.613081                         Sao Tome , Sao Tome Island          4   \n",
       "263  48.516388                   Al Batinah , Muhafazat Hadramawt          1   \n",
       "\n",
       "     deaths  recovered  confirmed_size  \n",
       "0        25          0        0.112000  \n",
       "1        25          0        0.070571  \n",
       "2       336          0        0.308571  \n",
       "3        33          0        0.096143  \n",
       "4         2          0        0.002714  \n",
       "..      ...        ...             ...  \n",
       "259       0          0        0.000143  \n",
       "260       0          0        0.000571  \n",
       "261       0          0        0.000857  \n",
       "262       0          0        0.000571  \n",
       "263       0          0        0.000143  \n",
       "\n",
       "[264 rows x 15 columns]"
      ]
     },
     "execution_count": 115,
     "metadata": {},
     "output_type": "execute_result"
    }
   ],
   "source": [
    "r = requests.get(\"https://coronavirus-tracker-api.herokuapp.com/v2/locations\")\n",
    "r = df(r.json()['locations'])\n",
    "\n",
    "#reorganizing the fetched data\n",
    "\n",
    "lat,lon,place= [] , [] , []\n",
    "for coord in r['coordinates']:\n",
    "    lat.append(coord['latitude'])\n",
    "    lon.append(coord['longitude'])\n",
    "    result=rg.search( (coord['latitude'],coord['longitude']) )[0]\n",
    "    place.append(result['name']+\" , \"+result['admin1'])\n",
    "    \n",
    "r['latitude'],r['longitude'],r['place']= df(lat),df(lon),df(place)\n",
    "\n",
    "confirmed,deaths,recovered = [] , [] , []\n",
    "confirmed_size,deaths_size,recovered_size = [] , [] , []\n",
    "for l in r['latest']:\n",
    "    confirmed.append(l['confirmed'])\n",
    "    deaths.append(l['deaths'])\n",
    "    recovered.append(l['recovered'])\n",
    "    if int(l['confirmed'])/7000 <0:\n",
    "         confirmed_size.append(0)\n",
    "    else:\n",
    "         confirmed_size.append(int(l['confirmed'])/7000)\n",
    "    \n",
    "r['confirmed'],r['deaths'],r['recovered'] = df(confirmed),df(deaths),df(recovered)\n",
    "r['confirmed_size'] = df(confirmed_size) \n",
    "\n",
    "r"
   ]
  },
  {
   "cell_type": "code",
   "execution_count": 116,
   "metadata": {},
   "outputs": [],
   "source": [
    "#Mapping data\n",
    "\n",
    "map_confirmed = go.Scattermapbox(\n",
    "    name = \"Confirmed Cases\",\n",
    "    lon = r[\"longitude\"],\n",
    "    lat = r['latitude'],\n",
    "    text = r['place']+\" , \"+r['country'],\n",
    "    customdata=r.loc[:, ['confirmed','deaths','recovered']],\n",
    "    hovertemplate=\n",
    "        \"<b>%{text}</b><br><br>\" +\n",
    "        \"Confirmed: %{customdata[0]}<br>\" +\n",
    "        \"Deaths : %{customdata[1]}<br>\"\n",
    "        \"<extra></extra>\",\n",
    "    mode = 'markers',\n",
    "    showlegend=True,\n",
    "    marker = go.scattermapbox.Marker(\n",
    "        size = r['confirmed_size'],\n",
    "        color = 'red',\n",
    "        opacity = 0.5\n",
    "    )\n",
    ")"
   ]
  },
  {
   "cell_type": "code",
   "execution_count": 117,
   "metadata": {},
   "outputs": [],
   "source": [
    "#setting up the layout\n",
    "\n",
    "layout = go.Layout(\n",
    "    mapbox_style = \"carto-darkmatter\",\n",
    "    autosize = True,\n",
    "    mapbox_layers = [\n",
    "        {\n",
    "            'below' : 'traces',\n",
    "            'sourcetype' : 'raster',\n",
    "#             'source' : [\"https://basemap.nationalmap.gov/arcgis/rest/services/USGSImageryOnly/MapServer/tile/{z}/{y}/{x}\"]\n",
    "        }\n",
    "    ]\n",
    ")"
   ]
  },
  {
   "cell_type": "code",
   "execution_count": 118,
   "metadata": {
    "scrolled": true
   },
   "outputs": [
    {
     "data": {
      "application/vnd.plotly.v1+json": {
       "config": {
        "plotlyServerURL": "https://plot.ly"
       },
       "data": [
        {
         "customdata": [
          [
           784,
           25,
           0
          ],
          [
           494,
           25,
           0
          ],
          [
           2160,
           336,
           0
          ],
          [
           673,
           33,
           0
          ],
          [
           19,
           2,
           0
          ],
          [
           23,
           2,
           0
          ],
          [
           2443,
           111,
           0
          ],
          [
           1111,
           17,
           0
          ],
          [
           103,
           3,
           0
          ],
          [
           2886,
           25,
           0
          ],
          [
           28,
           0,
           0
          ],
          [
           999,
           5,
           0
          ],
          [
           433,
           4,
           0
          ],
          [
           165,
           6,
           0
          ],
          [
           1299,
           14,
           0
          ],
          [
           527,
           6,
           0
          ],
          [
           14336,
           393,
           0
          ],
          [
           1253,
           13,
           0
          ],
          [
           49,
           8,
           0
          ],
          [
           1671,
           7,
           0
          ],
          [
           1231,
           50,
           0
          ],
          [
           73,
           5,
           0
          ],
          [
           3728,
           36,
           0
          ],
          [
           33573,
           4440,
           0
          ],
          [
           35,
           1,
           0
          ],
          [
           5,
           0,
           0
          ],
          [
           397,
           28,
           0
          ],
          [
           1110,
           41,
           0
          ],
          [
           28320,
           1736,
           0
          ],
          [
           136,
           1,
           0
          ],
          [
           747,
           36,
           0
          ],
          [
           542,
           32,
           0
          ],
          [
           56,
           1,
           0
          ],
          [
           122,
           0,
           0
          ],
          [
           848,
           17,
           0
          ],
          [
           1870,
           48,
           0
          ],
          [
           1517,
           72,
           0
          ],
          [
           13,
           0,
           0
          ],
          [
           246,
           5,
           0
          ],
          [
           117,
           0,
           0
          ],
          [
           247,
           3,
           0
          ],
          [
           549,
           3,
           0
          ],
          [
           8447,
           385,
           0
          ],
          [
           26,
           0,
           0
          ],
          [
           14860,
           487,
           0
          ],
          [
           304,
           4,
           0
          ],
          [
           12,
           0,
           0
          ],
          [
           23,
           0,
           0
          ],
          [
           8273,
           94,
           0
          ],
          [
           991,
           6,
           0
          ],
          [
           590,
           8,
           0
          ],
          [
           579,
           6,
           0
          ],
          [
           353,
           1,
           0
          ],
          [
           139,
           2,
           0
          ],
          [
           1566,
           8,
           0
          ],
          [
           254,
           2,
           0
          ],
          [
           146,
           2,
           0
          ],
          [
           168,
           6,
           0
          ],
          [
           327,
           6,
           0
          ],
          [
           841,
           13,
           0
          ],
          [
           1276,
           22,
           0
          ],
          [
           1017,
           4,
           0
          ],
          [
           67803,
           3222,
           0
          ],
          [
           1019,
           4,
           0
          ],
          [
           190,
           1,
           0
          ],
          [
           653,
           0,
           0
          ],
          [
           937,
           1,
           0
          ],
          [
           102,
           1,
           0
          ],
          [
           145,
           2,
           0
          ],
          [
           45,
           0,
           0
          ],
          [
           75,
           0,
           0
          ],
          [
           18,
           0,
           0
          ],
          [
           256,
           3,
           0
          ],
          [
           784,
           7,
           0
          ],
          [
           622,
           7,
           0
          ],
          [
           186,
           0,
           0
          ],
          [
           560,
           3,
           0
          ],
          [
           185,
           3,
           0
          ],
          [
           1,
           0,
           0
          ],
          [
           76,
           3,
           0
          ],
          [
           184,
           2,
           0
          ],
          [
           1268,
           1,
           0
          ],
          [
           3105,
           131,
           0
          ],
          [
           117,
           5,
           0
          ],
          [
           254,
           21,
           0
          ],
          [
           626,
           4,
           0
          ],
          [
           638,
           6,
           0
          ],
          [
           1741,
           33,
           0
          ],
          [
           712,
           12,
           0
          ],
          [
           814,
           24,
           0
          ],
          [
           715,
           12,
           0
          ],
          [
           6216,
           166,
           0
          ],
          [
           184,
           0,
           0
          ],
          [
           11,
           0,
           0
          ],
          [
           6681,
           309,
           0
          ],
          [
           435,
           2,
           0
          ],
          [
           3614,
           189,
           0
          ],
          [
           7858,
           388,
           0
          ],
          [
           2505,
           183,
           0
          ],
          [
           159,
           6,
           0
          ],
          [
           51,
           0,
           0
          ],
          [
           35,
           0,
           0
          ],
          [
           1400,
           35,
           0
          ],
          [
           15,
           0,
           0
          ],
          [
           85,
           3,
           0
          ],
          [
           16,
           0,
           0
          ],
          [
           3237,
           72,
           0
          ],
          [
           86,
           0,
           0
          ],
          [
           55,
           0,
           0
          ],
          [
           145,
           8,
           0
          ],
          [
           217,
           3,
           0
          ],
          [
           18,
           0,
           0
          ],
          [
           391,
           0,
           0
          ],
          [
           6,
           0,
           0
          ],
          [
           35,
           2,
           0
          ],
          [
           158,
           8,
           0
          ],
          [
           133470,
           17167,
           0
          ],
          [
           80,
           1,
           0
          ],
          [
           9,
           1,
           0
          ],
          [
           306,
           3,
           0
          ],
          [
           134753,
           3804,
           0
          ],
          [
           636,
           8,
           0
          ],
          [
           2192,
           102,
           0
          ],
          [
           180,
           5,
           0
          ],
          [
           404,
           1,
           0
          ],
          [
           55,
           6,
           0
          ],
          [
           41,
           3,
           0
          ],
          [
           8,
           0,
           0
          ],
          [
           419,
           31,
           0
          ],
          [
           1579,
           134,
           0
          ],
          [
           1727,
           8,
           0
          ],
          [
           12322,
           405,
           0
          ],
          [
           5136,
           469,
           0
          ],
          [
           76389,
           4777,
           0
          ],
          [
           1415,
           79,
           0
          ],
          [
           12547,
           444,
           0
          ],
          [
           12501,
           130,
           0
          ],
          [
           165155,
           21645,
           0
          ],
          [
           125,
           5,
           0
          ],
          [
           8100,
           146,
           0
          ],
          [
           401,
           7,
           0
          ],
          [
           1295,
           16,
           0
          ],
          [
           225,
           10,
           0
          ],
          [
           10591,
           225,
           0
          ],
          [
           1405,
           3,
           0
          ],
          [
           449,
           5,
           0
          ],
          [
           666,
           5,
           0
          ],
          [
           658,
           21,
           0
          ],
          [
           59,
           6,
           0
          ],
          [
           79,
           1,
           0
          ],
          [
           1091,
           30,
           0
          ],
          [
           3373,
           69,
           0
          ],
          [
           110,
           0,
           0
          ],
          [
           5072,
           83,
           0
          ],
          [
           22,
           0,
           0
          ],
          [
           399,
           3,
           0
          ],
          [
           7,
           1,
           0
          ],
          [
           324,
           9,
           0
          ],
          [
           5399,
           406,
           0
          ],
          [
           2049,
           46,
           0
          ],
          [
           93,
           3,
           0
          ],
          [
           30,
           0,
           0
          ],
          [
           288,
           4,
           0
          ],
          [
           2024,
           127,
           0
          ],
          [
           16,
           0,
           0
          ],
          [
           16,
           0,
           0
          ],
          [
           93,
           1,
           0
          ],
          [
           14,
           1,
           0
          ],
          [
           53,
           9,
           0
          ],
          [
           28153,
           3134,
           0
          ],
          [
           1386,
           9,
           0
          ],
          [
           9,
           1,
           0
          ],
          [
           584,
           14,
           0
          ],
          [
           407,
           12,
           0
          ],
          [
           974,
           45,
           0
          ],
          [
           6740,
           150,
           0
          ],
          [
           910,
           4,
           0
          ],
          [
           6383,
           111,
           0
          ],
          [
           3574,
           95,
           0
          ],
          [
           2,
           0,
           0
          ],
          [
           161,
           8,
           0
          ],
          [
           11475,
           254,
           0
          ],
          [
           5453,
           349,
           0
          ],
          [
           7582,
           286,
           0
          ],
          [
           18091,
           599,
           0
          ],
          [
           3711,
           7,
           0
          ],
          [
           7216,
           372,
           0
          ],
          [
           24490,
           198,
           0
          ],
          [
           136,
           0,
           0
          ],
          [
           15,
           0,
           0
          ],
          [
           12,
           0,
           0
          ],
          [
           372,
           36,
           0
          ],
          [
           5862,
           79,
           0
          ],
          [
           314,
           2,
           0
          ],
          [
           4873,
           99,
           0
          ],
          [
           11,
           0,
           0
          ],
          [
           3699,
           10,
           0
          ],
          [
           863,
           6,
           0
          ],
          [
           1248,
           61,
           0
          ],
          [
           80,
           5,
           0
          ],
          [
           2506,
           34,
           0
          ],
          [
           177644,
           18708,
           0
          ],
          [
           238,
           7,
           0
          ],
          [
           32,
           5,
           0
          ],
          [
           10,
           1,
           0
          ],
          [
           11927,
           1203,
           0
          ],
          [
           26336,
           1239,
           0
          ],
          [
           395,
           6,
           0
          ],
          [
           88,
           4,
           0
          ],
          [
           2643,
           43,
           0
          ],
          [
           81,
           3,
           0
          ],
          [
           114,
           8,
           0
          ],
          [
           780,
           35,
           0
          ],
          [
           69392,
           1518,
           0
          ],
          [
           55,
           0,
           0
          ],
          [
           3764,
           108,
           0
          ],
          [
           5365,
           33,
           0
          ],
          [
           81,
           5,
           0
          ],
          [
           54,
           1,
           0
          ],
          [
           447,
           15,
           0
          ],
          [
           131,
           0,
           0
          ],
          [
           256,
           4,
           0
          ],
          [
           11,
           0,
           0
          ],
          [
           98476,
           12868,
           0
          ],
          [
           492,
           8,
           0
          ],
          [
           636350,
           28326,
           0
          ],
          [
           1302,
           4,
           0
          ],
          [
           197,
           9,
           0
          ],
          [
           267,
           0,
           0
          ],
          [
           48,
           2,
           0
          ],
          [
           23,
           3,
           0
          ],
          [
           -1,
           -1,
           0
          ],
          [
           16,
           0,
           0
          ],
          [
           14,
           0,
           0
          ],
          [
           29,
           0,
           0
          ],
          [
           33,
           2,
           0
          ],
          [
           8,
           0,
           0
          ],
          [
           18,
           2,
           0
          ],
          [
           0,
           0,
           0
          ],
          [
           19,
           0,
           0
          ],
          [
           48,
           1,
           0
          ],
          [
           374,
           2,
           0
          ],
          [
           43,
           0,
           0
          ],
          [
           148,
           13,
           0
          ],
          [
           14,
           0,
           0
          ],
          [
           5,
           0,
           0
          ],
          [
           8,
           0,
           0
          ],
          [
           387,
           8,
           0
          ],
          [
           74,
           4,
           0
          ],
          [
           3,
           0,
           0
          ],
          [
           3,
           0,
           0
          ],
          [
           10,
           1,
           0
          ],
          [
           9,
           2,
           0
          ],
          [
           13,
           1,
           0
          ],
          [
           5,
           1,
           0
          ],
          [
           13,
           0,
           0
          ],
          [
           3,
           0,
           0
          ],
          [
           16,
           2,
           0
          ],
          [
           11,
           0,
           0
          ],
          [
           1,
           0,
           0
          ],
          [
           4,
           0,
           0
          ],
          [
           6,
           0,
           0
          ],
          [
           4,
           0,
           0
          ],
          [
           1,
           0,
           0
          ]
         ],
         "hovertemplate": "<b>%{text}</b><br><br>Confirmed: %{customdata[0]}<br>Deaths : %{customdata[1]}<br><extra></extra>",
         "lat": [
          "33.0",
          "41.1533",
          "28.0339",
          "42.5063",
          "-11.2027",
          "17.0608",
          "-38.4161",
          "40.0691",
          "-35.4735",
          "-33.8688",
          "-12.4634",
          "-28.0167",
          "-34.9285",
          "-41.4545",
          "-37.8136",
          "-31.9505",
          "47.5162",
          "40.1431",
          "25.0343",
          "26.0275",
          "23.685",
          "13.1939",
          "53.7098",
          "50.8333",
          "9.3077",
          "27.5142",
          "-16.2902",
          "43.9159",
          "-14.235",
          "4.5353",
          "42.7339",
          "12.2383",
          "16.5388",
          "11.55",
          "3.8480000000000003",
          "53.9333",
          "49.2827",
          "37.6489",
          "53.7609",
          "46.5653",
          "53.1355",
          "44.681999999999995",
          "51.2538",
          "46.5107",
          "52.9399",
          "52.9399",
          "6.6111",
          "15.4542",
          "-35.6751",
          "31.8257",
          "40.1824",
          "30.0572",
          "26.0789",
          "37.8099",
          "23.3417",
          "23.8298",
          "26.8154",
          "19.1959",
          "39.549",
          "47.861999999999995",
          "33.882",
          "22.3",
          "30.9756",
          "27.6104",
          "44.0935",
          "32.9711",
          "27.614",
          "43.6661",
          "41.2956",
          "22.1667",
          "37.2692",
          "35.7452",
          "35.1917",
          "36.3427",
          "31.201999999999998",
          "37.5777",
          "30.6171",
          "39.3054",
          "31.6927",
          "41.1129",
          "24.974",
          "29.1832",
          "4.5709",
          "-4.0383",
          "-4.0383",
          "9.7489",
          "7.54",
          "45.1",
          "0.0",
          "22.0",
          "35.1264",
          "49.8175",
          "61.8926",
          "71.7069",
          "56.2639",
          "11.8251",
          "18.7357",
          "-1.8312",
          "26.0",
          "13.7942",
          "1.5",
          "15.1794",
          "58.5953",
          "-26.5225",
          "9.145",
          "-17.7134",
          "64.0",
          "3.9339",
          "-17.6797",
          "16.25",
          "-12.8275",
          "-20.9043",
          "-21.1351",
          "17.9",
          "18.0708",
          "14.6415",
          "46.2276",
          "-0.8037",
          "13.4432",
          "42.3154",
          "51.0",
          "7.9465",
          "39.0742",
          "15.7835",
          "9.9456",
          "5.0",
          "18.9712",
          "41.9029",
          "15.2",
          "47.1625",
          "64.9631",
          "21.0",
          "-0.7893",
          "32.0",
          "33.0",
          "53.1424",
          "31.0",
          "43.0",
          "18.1096",
          "36.0",
          "31.24",
          "48.0196",
          "-0.0236",
          "36.0",
          "29.5",
          "41.2044",
          "56.8796",
          "33.8547",
          "6.4281",
          "47.14",
          "55.1694",
          "49.8153",
          "-18.7669",
          "2.5",
          "3.2028",
          "35.9375",
          "21.0079",
          "-20.2",
          "23.6345",
          "47.4116",
          "43.7333",
          "46.8625",
          "42.5",
          "31.7917",
          "-22.9576",
          "28.1667",
          "12.5186",
          "12.1696",
          "18.0425",
          "52.1326",
          "-40.9006",
          "12.8654",
          "17.6078",
          "9.082",
          "41.6086",
          "60.472",
          "21.0",
          "30.3753",
          "8.538",
          "-6.315",
          "-23.4425",
          "-9.19",
          "13.0",
          "51.9194",
          "39.3999",
          "25.3548",
          "45.9432",
          "60.0",
          "-1.9403",
          "13.9094",
          "12.9843",
          "43.9424",
          "24.0",
          "14.4974",
          "44.0165",
          "-4.6796",
          "1.2833",
          "48.669",
          "46.1512",
          "5.1521",
          "-30.5595",
          "40.0",
          "7.0",
          "12.8628",
          "3.9193",
          "63.0",
          "46.8182",
          "23.7",
          "-6.369",
          "15.0",
          "8.6195",
          "10.6918",
          "34.0",
          "38.9637",
          "1.0",
          "48.3794",
          "24.0",
          "32.3078",
          "19.3133",
          "49.3723",
          "36.1408",
          "54.2361",
          "16.7425",
          "55.3781",
          "-32.5228",
          "37.0902",
          "41.3775",
          "6.4238",
          "16.0",
          "-15.4167",
          "-20.0",
          "0.0",
          "15.415",
          "12.1165",
          "-18.665695",
          "34.802075",
          "-8.874217",
          "13.1939",
          "0.0",
          "19.856270000000002",
          "26.3351",
          "31.9522",
          "11.8037",
          "17.570692",
          "17.357822",
          "64.8255",
          "64.2823",
          "42.602636",
          "21.9162",
          "18.2206",
          "18.4207",
          "21.694000000000003",
          "0.0",
          "-22.3285",
          "-3.3731",
          "8.460555000000001",
          "12.1784",
          "-13.254307999999998",
          "-51.7963",
          "46.8852",
          "6.877000000000001",
          "24.2155",
          "0.18636",
          "15.552726999999999"
         ],
         "lon": [
          "65.0",
          "20.1683",
          "1.6596",
          "1.5218",
          "17.8739",
          "-61.7964",
          "-63.6167",
          "45.0382",
          "149.0124",
          "151.2093",
          "130.8456",
          "153.4",
          "138.6007",
          "145.9707",
          "144.9631",
          "115.8605",
          "14.5501",
          "47.5769",
          "-77.3963",
          "50.55",
          "90.3563",
          "-59.5432",
          "27.9534",
          "4.0",
          "2.3158",
          "90.4336",
          "-63.5887",
          "17.6791",
          "-51.9253",
          "114.7277",
          "25.4858",
          "-1.5616",
          "-23.0418",
          "104.9167",
          "11.5021",
          "-116.5765",
          "-123.1207",
          "-122.6655",
          "-98.8139",
          "-66.4619",
          "-57.6604",
          "-63.7443",
          "-85.3232",
          "-63.4168",
          "-73.5491",
          "-106.4509",
          "20.9394",
          "18.7322",
          "-71.543",
          "117.2264",
          "116.4142",
          "107.874",
          "117.9874",
          "101.0583",
          "113.4244",
          "108.7881",
          "106.8748",
          "109.7453",
          "116.1306",
          "127.7615",
          "113.61399999999999",
          "114.2",
          "112.2707",
          "111.7088",
          "113.9448",
          "119.455",
          "115.7221",
          "126.1923",
          "122.6085",
          "113.55",
          "106.1655",
          "95.9956",
          "108.8701",
          "118.1498",
          "121.4491",
          "112.2922",
          "102.7103",
          "117.323",
          "88.0924",
          "85.2401",
          "101.48700000000001",
          "120.0934",
          "-74.2973",
          "21.7587",
          "21.7587",
          "-83.7534",
          "-5.5471",
          "15.2",
          "0.0",
          "-80.0",
          "33.4299",
          "15.472999999999999",
          "-6.9118",
          "-42.6043",
          "9.5018",
          "42.5903",
          "-70.1627",
          "-78.1834",
          "30.0",
          "-88.8965",
          "10.0",
          "39.7823",
          "25.0136",
          "31.4659",
          "40.4897",
          "178.065",
          "26.0",
          "-53.1258",
          "149.4068",
          "-61.5833",
          "45.1662",
          "165.618",
          "55.2471",
          "-62.8333",
          "-63.0501",
          "-61.0242",
          "2.2137",
          "11.6094",
          "-15.3101",
          "43.3569",
          "9.0",
          "-1.0232",
          "21.8243",
          "-90.2308",
          "-9.6966",
          "-58.75",
          "-72.2852",
          "12.4534",
          "-86.2419",
          "19.5033",
          "-19.0208",
          "78.0",
          "113.9213",
          "53.0",
          "44.0",
          "-7.6921",
          "35.0",
          "12.0",
          "-77.2975",
          "138.0",
          "36.51",
          "66.9237",
          "37.9062",
          "128.0",
          "47.75",
          "74.7661",
          "24.6032",
          "35.8623",
          "-9.4295",
          "9.55",
          "23.8813",
          "6.1296",
          "46.8691",
          "112.5",
          "73.2207",
          "14.3754",
          "10.9408",
          "57.5",
          "-102.5528",
          "28.3699",
          "7.4167",
          "103.8467",
          "19.3",
          "-7.0926",
          "18.4904",
          "84.25",
          "-70.0358",
          "-68.99",
          "-63.0548",
          "5.2913",
          "174.886",
          "-85.2072",
          "8.0817",
          "8.6753",
          "21.7453",
          "8.4689",
          "57.0",
          "69.3451",
          "-80.7821",
          "143.9555",
          "-58.4438",
          "-75.0152",
          "122.0",
          "19.1451",
          "-8.2245",
          "51.1839",
          "24.9668",
          "90.0",
          "29.8739",
          "-60.9789",
          "-61.2872",
          "12.4578",
          "45.0",
          "-14.4524",
          "21.0059",
          "55.492",
          "103.8333",
          "19.699",
          "14.9955",
          "46.1996",
          "22.9375",
          "-4.0",
          "81.0",
          "30.2176",
          "-56.0278",
          "16.0",
          "8.2275",
          "121.0",
          "34.8888",
          "101.0",
          "0.8248",
          "-61.2225",
          "9.0",
          "35.2433",
          "32.0",
          "31.1656",
          "54.0",
          "-64.7505",
          "-81.2546",
          "-2.3644",
          "-5.3536",
          "-4.5481",
          "-62.1874",
          "-3.4360000000000004",
          "-55.7658",
          "-95.7129",
          "64.5853",
          "-66.5897",
          "108.0",
          "28.2833",
          "30.0",
          "0.0",
          "-61.371",
          "-61.678999999999995",
          "35.529562",
          "38.996815000000005",
          "125.727539",
          "-59.5432",
          "0.0",
          "102.495496",
          "17.228331",
          "35.2332",
          "-15.1804",
          "-3.9961660000000006",
          "-62.782998",
          "-124.8457",
          "-135.0",
          "20.902977",
          "95.956",
          "-63.0686",
          "-64.64",
          "-71.7979",
          "0.0",
          "24.6849",
          "29.9189",
          "-11.779889",
          "-68.2385",
          "34.301525",
          "-59.5236",
          "-56.3159",
          "31.307",
          "-12.8858",
          "6.613081",
          "48.516388"
         ],
         "marker": {
          "color": "red",
          "opacity": 0.5,
          "size": [
           0.112,
           0.07057142857142858,
           0.30857142857142855,
           0.09614285714285714,
           0.0027142857142857142,
           0.003285714285714286,
           0.349,
           0.15871428571428572,
           0.014714285714285714,
           0.4122857142857143,
           0.004,
           0.1427142857142857,
           0.06185714285714286,
           0.023571428571428573,
           0.18557142857142858,
           0.07528571428571429,
           2.048,
           0.179,
           0.007,
           0.2387142857142857,
           0.17585714285714285,
           0.01042857142857143,
           0.5325714285714286,
           4.796142857142857,
           0.005,
           0.0007142857142857143,
           0.05671428571428572,
           0.15857142857142856,
           4.045714285714285,
           0.019428571428571427,
           0.10671428571428572,
           0.07742857142857143,
           0.008,
           0.01742857142857143,
           0.12114285714285715,
           0.2671428571428571,
           0.21671428571428572,
           0.0018571428571428571,
           0.03514285714285714,
           0.016714285714285713,
           0.03528571428571429,
           0.07842857142857143,
           1.2067142857142856,
           0.0037142857142857142,
           2.1228571428571428,
           0.04342857142857143,
           0.0017142857142857142,
           0.003285714285714286,
           1.181857142857143,
           0.14157142857142857,
           0.08428571428571428,
           0.08271428571428571,
           0.05042857142857143,
           0.019857142857142858,
           0.22371428571428573,
           0.03628571428571428,
           0.02085714285714286,
           0.024,
           0.046714285714285715,
           0.12014285714285715,
           0.18228571428571427,
           0.1452857142857143,
           9.686142857142856,
           0.14557142857142857,
           0.027142857142857142,
           0.09328571428571429,
           0.13385714285714287,
           0.014571428571428572,
           0.020714285714285713,
           0.0064285714285714285,
           0.010714285714285714,
           0.0025714285714285713,
           0.036571428571428574,
           0.112,
           0.08885714285714286,
           0.026571428571428572,
           0.08,
           0.02642857142857143,
           0.00014285714285714287,
           0.010857142857142857,
           0.026285714285714287,
           0.18114285714285713,
           0.44357142857142856,
           0.016714285714285713,
           0.03628571428571428,
           0.08942857142857143,
           0.09114285714285714,
           0.24871428571428572,
           0.10171428571428572,
           0.11628571428571428,
           0.10214285714285715,
           0.888,
           0.026285714285714287,
           0.0015714285714285715,
           0.9544285714285714,
           0.062142857142857146,
           0.5162857142857142,
           1.1225714285714286,
           0.3578571428571429,
           0.022714285714285715,
           0.007285714285714286,
           0.005,
           0.2,
           0.002142857142857143,
           0.012142857142857143,
           0.002285714285714286,
           0.4624285714285714,
           0.012285714285714285,
           0.007857142857142858,
           0.020714285714285713,
           0.031,
           0.0025714285714285713,
           0.055857142857142855,
           0.0008571428571428571,
           0.005,
           0.022571428571428572,
           19.06714285714286,
           0.011428571428571429,
           0.0012857142857142856,
           0.04371428571428571,
           19.25042857142857,
           0.09085714285714286,
           0.31314285714285717,
           0.025714285714285714,
           0.05771428571428571,
           0.007857142857142858,
           0.005857142857142857,
           0.001142857142857143,
           0.05985714285714286,
           0.22557142857142856,
           0.24671428571428572,
           1.7602857142857142,
           0.7337142857142858,
           10.912714285714285,
           0.20214285714285715,
           1.7924285714285715,
           1.7858571428571428,
           23.59357142857143,
           0.017857142857142856,
           1.1571428571428573,
           0.05728571428571429,
           0.185,
           0.03214285714285714,
           1.513,
           0.2007142857142857,
           0.06414285714285714,
           0.09514285714285714,
           0.094,
           0.00842857142857143,
           0.011285714285714286,
           0.15585714285714286,
           0.4818571428571429,
           0.015714285714285715,
           0.7245714285714285,
           0.003142857142857143,
           0.057,
           0.001,
           0.046285714285714284,
           0.7712857142857142,
           0.2927142857142857,
           0.013285714285714286,
           0.004285714285714286,
           0.04114285714285714,
           0.28914285714285715,
           0.002285714285714286,
           0.002285714285714286,
           0.013285714285714286,
           0.002,
           0.007571428571428572,
           4.021857142857143,
           0.198,
           0.0012857142857142856,
           0.08342857142857144,
           0.05814285714285714,
           0.13914285714285715,
           0.9628571428571429,
           0.13,
           0.9118571428571428,
           0.5105714285714286,
           0.00028571428571428574,
           0.023,
           1.6392857142857142,
           0.779,
           1.0831428571428572,
           2.5844285714285715,
           0.5301428571428571,
           1.030857142857143,
           3.4985714285714287,
           0.019428571428571427,
           0.002142857142857143,
           0.0017142857142857142,
           0.053142857142857144,
           0.8374285714285714,
           0.04485714285714286,
           0.6961428571428572,
           0.0015714285714285715,
           0.5284285714285715,
           0.12328571428571429,
           0.1782857142857143,
           0.011428571428571429,
           0.358,
           25.377714285714287,
           0.034,
           0.004571428571428572,
           0.0014285714285714286,
           1.703857142857143,
           3.7622857142857145,
           0.056428571428571425,
           0.012571428571428572,
           0.37757142857142856,
           0.011571428571428571,
           0.016285714285714285,
           0.11142857142857143,
           9.913142857142857,
           0.007857142857142858,
           0.5377142857142857,
           0.7664285714285715,
           0.011571428571428571,
           0.007714285714285714,
           0.06385714285714286,
           0.018714285714285715,
           0.036571428571428574,
           0.0015714285714285715,
           14.068,
           0.07028571428571428,
           90.90714285714286,
           0.186,
           0.028142857142857143,
           0.038142857142857145,
           0.006857142857142857,
           0.003285714285714286,
           0,
           0.002285714285714286,
           0.002,
           0.004142857142857143,
           0.004714285714285714,
           0.001142857142857143,
           0.0025714285714285713,
           0,
           0.0027142857142857142,
           0.006857142857142857,
           0.05342857142857143,
           0.006142857142857143,
           0.021142857142857144,
           0.002,
           0.0007142857142857143,
           0.001142857142857143,
           0.055285714285714285,
           0.010571428571428572,
           0.00042857142857142855,
           0.00042857142857142855,
           0.0014285714285714286,
           0.0012857142857142856,
           0.0018571428571428571,
           0.0007142857142857143,
           0.0018571428571428571,
           0.00042857142857142855,
           0.002285714285714286,
           0.0015714285714285715,
           0.00014285714285714287,
           0.0005714285714285715,
           0.0008571428571428571,
           0.0005714285714285715,
           0.00014285714285714287
          ]
         },
         "mode": "markers",
         "name": "Confirmed Cases",
         "showlegend": true,
         "text": [
          "Kajran , Daykundi , Afghanistan",
          "Labinot-Fushe , Elbasan , Albania",
          "I-n-Salah , Tamanghasset , Algeria",
          "Andorra la Vella , Andorra la Vella , Andorra",
          "Camacupa , Bie , Angola",
          "All Saints , Saint Peter , Antigua and Barbuda",
          "Jacinto Arauz , La Pampa , Argentina",
          "T'azagyugh , Geghark'unik'i Marz , Armenia",
          "Macarthur , Australian Capital Territory , Australia",
          "Sydney , New South Wales , Australia",
          "Darwin , Northern Territory , Australia",
          "Surfers Paradise , Queensland , Australia",
          "Adelaide , South Australia , Australia",
          "Penguin , Tasmania , Australia",
          "Melbourne , Victoria , Australia",
          "Perth , Western Australia , Australia",
          "Johnsbach , Styria , Austria",
          "Agdzhabedy , Aghjabadi Rayon , Azerbaijan",
          "Nassau , New Providence , Bahamas",
          "Dar Kulayb , Central Governorate , Bahrain",
          "Azimpur , Dhaka , Bangladesh",
          "Welchman Hall , Saint Thomas , Barbados",
          "Dukora , Minsk , Belarus",
          "Ninove , Flanders , Belgium",
          "Beterou , Borgou , Benin",
          "Trongsa , Tongsa , Bhutan",
          "Ascension , Santa Cruz , Bolivia",
          "Voljevac , Federation of Bosnia and Herzegovina , Bosnia and Herzegovina",
          "Mozarlandia , Goias , Brazil",
          "Tutong , Tutong , Brunei",
          "Tryavna , Gabrovo , Bulgaria",
          "Ouagadougou , Centre , Burkina Faso",
          "Santa Maria , Sal , Cabo Verde",
          "Phnom Penh , Phnom Penh , Cambodia",
          "Yaounde , Centre , Cameroon",
          "Edson , Alberta , Canada",
          "West End , British Columbia , Canada",
          "Pacifica , California , Canada",
          "Thompson , Manitoba , Canada",
          "Fredericton , New Brunswick , Canada",
          "Saint-Augustin , Quebec , Canada",
          "Dartmouth , Nova Scotia , Canada",
          "Hornepayne , Ontario , Canada",
          "Kensington , Prince Edward Island , Canada",
          "Chibougamau , Quebec , Canada",
          "Shellbrook , Saskatchewan , Canada",
          "Ippy , Ouaka , Central African Republic",
          "Ati , Batha , Chad",
          "Colbun , Maule , Chile",
          "Hefei , Anhui Sheng , China",
          "Xiaotangshan , Beijing , China",
          "Gaojia , Chongqing Shi , China",
          "Xinyang , Fujian , China",
          "Obo , Qinghai Sheng , China",
          "Zhongluotan , Guangdong , China",
          "Xincheng Chengguanzhen , Guangxi Zhuangzu Zizhiqu , China",
          "Guiyang , Guizhou Sheng , China",
          "Limushan , Hainan , China",
          "Liulihe , Beijing , China",
          "Sihaidian , Heilongjiang Sheng , China",
          "Shuangmiao , Henan Sheng , China",
          "Kowloon , Kowloon City , China",
          "Macheng , Hubei , China",
          "Lianyuan , Hunan , China",
          "Mandalt , Inner Mongolia , China",
          "Zhoushan , Jiangsu Sheng , China",
          "Gongfang , Jiangxi Sheng , China",
          "Kouqian , Jilin Sheng , China",
          "Gaotuo , Liaoning , China",
          "Macau , Macau , China",
          "Hongsipu , Ningxia Huizu Zizhiqu , China",
          "Dagur , Qinghai Sheng , China",
          "Guanzhuang , Shaanxi , China",
          "Nanma , Shandong Sheng , China",
          "Xuhui , Shanghai Shi , China",
          "Qingyuan , Shanxi Sheng , China",
          "Muping , Sichuan , China",
          "Huozhuangzi , Tianjin Shi , China",
          "Jiajuedibu , Tibet Autonomous Region , China",
          "Yuli , Xinjiang Uygur Zizhiqu , China",
          "Longchuan , Yunnan , China",
          "Huangtianfan , Zhejiang Sheng , China",
          "San Antonio del Tequendama , Cundinamarca , Colombia",
          "Mweka , Kasai-Occidental , Congo (Brazzaville)",
          "Mweka , Kasai-Occidental , Congo (Kinshasa)",
          "Pejibaye , Cartago , Costa Rica",
          "Beoumi , Vallee du Bandama , Cote d'Ivoire",
          "Brinje , Licko-Senjska , Croatia",
          "Takoradi , Western , Diamond Princess",
          "Topes de Collantes , Sancti Spiritus , Cuba",
          "Geri , Lefkosia , Cyprus",
          "Golcuv Jenikov , Vysocina , Czechia",
          "Sandur , Sandoy , Denmark",
          "Tasiilaq , Sermersooq , Denmark",
          "Kjellerup , Central Jutland , Denmark",
          "Tadjoura , Tadjourah , Djibouti",
          "Villa Altagracia , San Cristobal , Dominican Republic",
          "Palora , Morona-Santiago , Ecuador",
          "Al Kharijah , Muhafazat al Wadi al Jadid , Egypt",
          "San Martin , Cuscatlan , El Salvador",
          "Bitica ,  , Equatorial Guinea",
          "Adi Keyh , Debub , Eritrea",
          "Vandra , Paernumaa , Estonia",
          "Manzini , Manzini , Eswatini",
          "Gelemso , Oromiya , Ethiopia",
          "Ba , Western , Fiji",
          "Piippola , Northern Ostrobothnia , Finland",
          "Camopi , Guyane , France",
          "Bowen , Queensland , France",
          "Baie-Mahault , Guadeloupe , France",
          "Dembeni , Dembeni , France",
          "Ponerihouen , North Province , France",
          "Saint-Leu , Reunion , France",
          "Gustavia ,  , France",
          "Marigot ,  , France",
          "Saint-Joseph , Martinique , France",
          "Gouzon , Limousin , France",
          "Booue , Ogooue-Ivindo , Gabon",
          "Bureng , Lower River , Gambia",
          "Gori , Racha-Lechkhumi and Kvemo Svaneti , Georgia",
          "Haina , Hesse , Germany",
          "Ejura , Ashanti , Ghana",
          "Karpenisi , Central Greece , Greece",
          "Chisec , Alta Verapaz , Guatemala",
          "Tokonou , Kankan , Guinea",
          "Mahdia , Potaro-Siparuni , Guyana",
          "Desarmes , Artibonite , Haiti",
          "Vatican City ,  , Holy See",
          "La Guata , Olancho , Honduras",
          "Taborfalva , Pest , Hungary",
          "Saudarkrokur , Northwest , Iceland",
          "Chandur , Maharashtra , India",
          "Buntok , Central Kalimantan , Indonesia",
          "Khavas Kuh , Yazd , Iran",
          "Abu Ghurayb , Mayorality of Baghdad , Iraq",
          "Ferbane , Leinster , Ireland",
          "Yeroham , Southern District , Israel",
          "Citta della Pieve , Umbria , Italy",
          "Chapelton , Clarendon , Jamaica",
          "Tatsuno , Nagano , Japan",
          "Al Azraq ash Shamali , Amman , Jordan",
          "Zhezqazghan , Qaraghandy , Kazakhstan",
          "Maua , Isiolo , Kenya",
          "Gimcheon , Gyeongsangbuk-do , Korea, South",
          "Al Jahra' , Muhafazat al Jahra' , Kuwait",
          "Baetov , Naryn , Kyrgyzstan",
          "Ogre , Ogre , Latvia",
          "Zahle , Beqaa , Lebanon",
          "Gbarnga , Bong , Liberia",
          "Triesenberg , Triesenberg , Liechtenstein",
          "Kedainiai , Kauno apskritis , Lithuania",
          "Colmar , Luxembourg , Luxembourg",
          "Miarinarivo , Itasy , Madagascar",
          "Kapit , Sarawak , Malaysia",
          "Felidhoo , Vaavu Atholhu , Maldives",
          "Imgarr , L-Imgarr , Malta",
          "Bilma , Agadez , Mauritania",
          "Pailles , Moka , Mauritius",
          "Canitas de Felipe Pescador , Zacatecas , Mexico",
          "Telenesti , Taraclia , Moldova",
          "Monaco , Commune de Monaco , Monaco",
          "Ongon , OEvoerhangay , Mongolia",
          "Podgorica , Podgorica , Montenegro",
          "Demnate , Tadla-Azilal , Morocco",
          "Gobabis , Omaheke , Namibia",
          "Lamjung , Western Region , Nepal",
          "Oranjestad ,  , Netherlands",
          "Sint Michiel Liber ,  , Netherlands",
          "Cul de Sac ,  , Netherlands",
          "Soest , Utrecht , Netherlands",
          "Paraparaumu , Wellington , New Zealand",
          "Rio Blanco , Matagalpa , Nicaragua",
          "Tchirozerine , Agadez , Niger",
          "Wamba , Nassarawa , Nigeria",
          "Gorno Orizari , Veles , North Macedonia",
          "Al , Buskerud , Norway",
          "Hayma' , Al Wusta , Oman",
          "Kohlu , Balochistan , Pakistan",
          "El Cope , Cocle , Panama",
          "Ialibu , Southern Highlands , Papua New Guinea",
          "Concepcion , Concepcion , Paraguay",
          "Puerto Inca , Huanuco , Peru",
          "Corcuera , Mimaropa , Philippines",
          "Dalikow , Lodz Voivodeship , Poland",
          "Tramagal , Santarem , Portugal",
          "Ash Shahaniyah , Baladiyat ar Rayyan , Qatar",
          "Soars , Brasov , Romania",
          "Podkamennaya Tunguska , Krasnoyarskiy , Russia",
          "Gitarama , Southern Province , Rwanda",
          "Anse La Raye , Anse-la-Raye , Saint Lucia",
          "Port Elizabeth , Grenadines , Saint Vincent and the Grenadines",
          "Borgo Maggiore , Borgo Maggiore , San Marino",
          "Ad Dawadimi , Ar Riyad , Saudi Arabia",
          "Koungheul , Kaffrine , Senegal",
          "Kragujevac , Central Serbia , Serbia",
          "Cascade , Cascade , Seychelles",
          "Singapore ,  , Singapore",
          "Cierny Balog , Banskobystricky , Slovakia",
          "Zagorje ob Savi , Zagorje ob Savi , Slovenia",
          "Dhuusamarreeb , Galguduud , Somalia",
          "Victoria West , Northern Cape , South Africa",
          "Recas , Castille-La Mancha , Spain",
          "Badulla , Uva , Sri Lanka",
          "El Obeid , Shamal Kurdufan , Sudan",
          "Brownsweg , Brokopondo , Suriname",
          "Hammarstrand , Jaemtland , Sweden",
          "Giswil , Obwalden , Switzerland",
          "Lugu , Taiwan , Taiwan*",
          "Kilimatinde , Singida , Tanzania",
          "Tha Luang , Lop Buri , Thailand",
          "Sotouboua , Centrale , Togo",
          "Arima , Borough of Arima , Trinidad and Tobago",
          "Kebili , Qibili , Tunisia",
          "Himmetdede , Kayseri , Turkey",
          "Kiboga , Central Region , Uganda",
          "Dobrovelychkivka , Kirovohrad , Ukraine",
          "Abu Dhabi , Abu Dhabi , United Arab Emirates",
          "Hamilton , Hamilton city , United Kingdom",
          "Bodden Town ,  , United Kingdom",
          "Saint Peter Port , St Peter Port , United Kingdom",
          "Gibraltar ,  , United Kingdom",
          "Douglas , Douglas , United Kingdom",
          "Saint Peters , Saint Peter , United Kingdom",
          "Moffat , Scotland , United Kingdom",
          "La Paloma , Durazno , Uruguay",
          "Coffeyville , Kansas , US",
          "Tomdibuloq , Navoiy , Uzbekistan",
          "Puerto Carreno , Vichada , Venezuela",
          "Hoa Vang , Da Nang , Vietnam",
          "Lusaka , Lusaka , Zambia",
          "Shurugwi , Midlands , Zimbabwe",
          "Takoradi , Western , Canada",
          "Pont Casse , Saint Paul , Dominica",
          "Grenville , Saint Andrew , Grenada",
          "Dondo , Sofala , Mozambique",
          "As Sukhnah , Homs , Syria",
          "Same , Manufahi , Timor-Leste",
          "Welchman Hall , Saint Thomas , Belize",
          "Takoradi , Western , Canada",
          "Xiang Ngeun , Louangphabang , Laos",
          "Sabha , Sabha , Libya",
          "Dura al Qar` , West Bank , West Bank and Gaza",
          "Buba , Quinara , Guinea-Bissau",
          "Goundam , Tombouctou , Mali",
          "Nicola Town , Christ Church Nichola Town , Saint Kitts and Nevis",
          "Norman Wells , Northwest Territories , Canada",
          "Fort McPherson , Northwest Territories , Canada",
          "Glogovac , Pristina , Kosovo",
          "Sagaing , Sagain , Burma",
          "The Valley ,  , United Kingdom",
          "Road Town ,  , United Kingdom",
          "Cockburn Town ,  , United Kingdom",
          "Takoradi , Western , MS Zaandam",
          "Mopipi , Central , Botswana",
          "Gitega , Gitega , Burundi",
          "Masaka , Northern Province , Sierra Leone",
          "Dorp Antriol , Bonaire , Netherlands",
          "Nkhotakota , Central Region , Malawi",
          "Stanley ,  , United Kingdom",
          "Saint-Pierre , Saint-Pierre , France",
          "Bor , Jonglei , South Sudan",
          "Gueltat Zemmour , Laayoune-Boujdour-Sakia El Hamra , Western Sahara",
          "Sao Tome , Sao Tome Island , Sao Tome and Principe",
          "Al Batinah , Muhafazat Hadramawt , Yemen"
         ],
         "type": "scattermapbox"
        }
       ],
       "layout": {
        "autosize": true,
        "mapbox": {
         "layers": [
          {
           "below": "traces",
           "sourcetype": "raster"
          }
         ],
         "style": "carto-darkmatter"
        },
        "template": {
         "data": {
          "bar": [
           {
            "error_x": {
             "color": "#2a3f5f"
            },
            "error_y": {
             "color": "#2a3f5f"
            },
            "marker": {
             "line": {
              "color": "#E5ECF6",
              "width": 0.5
             }
            },
            "type": "bar"
           }
          ],
          "barpolar": [
           {
            "marker": {
             "line": {
              "color": "#E5ECF6",
              "width": 0.5
             }
            },
            "type": "barpolar"
           }
          ],
          "carpet": [
           {
            "aaxis": {
             "endlinecolor": "#2a3f5f",
             "gridcolor": "white",
             "linecolor": "white",
             "minorgridcolor": "white",
             "startlinecolor": "#2a3f5f"
            },
            "baxis": {
             "endlinecolor": "#2a3f5f",
             "gridcolor": "white",
             "linecolor": "white",
             "minorgridcolor": "white",
             "startlinecolor": "#2a3f5f"
            },
            "type": "carpet"
           }
          ],
          "choropleth": [
           {
            "colorbar": {
             "outlinewidth": 0,
             "ticks": ""
            },
            "type": "choropleth"
           }
          ],
          "contour": [
           {
            "colorbar": {
             "outlinewidth": 0,
             "ticks": ""
            },
            "colorscale": [
             [
              0,
              "#0d0887"
             ],
             [
              0.1111111111111111,
              "#46039f"
             ],
             [
              0.2222222222222222,
              "#7201a8"
             ],
             [
              0.3333333333333333,
              "#9c179e"
             ],
             [
              0.4444444444444444,
              "#bd3786"
             ],
             [
              0.5555555555555556,
              "#d8576b"
             ],
             [
              0.6666666666666666,
              "#ed7953"
             ],
             [
              0.7777777777777778,
              "#fb9f3a"
             ],
             [
              0.8888888888888888,
              "#fdca26"
             ],
             [
              1,
              "#f0f921"
             ]
            ],
            "type": "contour"
           }
          ],
          "contourcarpet": [
           {
            "colorbar": {
             "outlinewidth": 0,
             "ticks": ""
            },
            "type": "contourcarpet"
           }
          ],
          "heatmap": [
           {
            "colorbar": {
             "outlinewidth": 0,
             "ticks": ""
            },
            "colorscale": [
             [
              0,
              "#0d0887"
             ],
             [
              0.1111111111111111,
              "#46039f"
             ],
             [
              0.2222222222222222,
              "#7201a8"
             ],
             [
              0.3333333333333333,
              "#9c179e"
             ],
             [
              0.4444444444444444,
              "#bd3786"
             ],
             [
              0.5555555555555556,
              "#d8576b"
             ],
             [
              0.6666666666666666,
              "#ed7953"
             ],
             [
              0.7777777777777778,
              "#fb9f3a"
             ],
             [
              0.8888888888888888,
              "#fdca26"
             ],
             [
              1,
              "#f0f921"
             ]
            ],
            "type": "heatmap"
           }
          ],
          "heatmapgl": [
           {
            "colorbar": {
             "outlinewidth": 0,
             "ticks": ""
            },
            "colorscale": [
             [
              0,
              "#0d0887"
             ],
             [
              0.1111111111111111,
              "#46039f"
             ],
             [
              0.2222222222222222,
              "#7201a8"
             ],
             [
              0.3333333333333333,
              "#9c179e"
             ],
             [
              0.4444444444444444,
              "#bd3786"
             ],
             [
              0.5555555555555556,
              "#d8576b"
             ],
             [
              0.6666666666666666,
              "#ed7953"
             ],
             [
              0.7777777777777778,
              "#fb9f3a"
             ],
             [
              0.8888888888888888,
              "#fdca26"
             ],
             [
              1,
              "#f0f921"
             ]
            ],
            "type": "heatmapgl"
           }
          ],
          "histogram": [
           {
            "marker": {
             "colorbar": {
              "outlinewidth": 0,
              "ticks": ""
             }
            },
            "type": "histogram"
           }
          ],
          "histogram2d": [
           {
            "colorbar": {
             "outlinewidth": 0,
             "ticks": ""
            },
            "colorscale": [
             [
              0,
              "#0d0887"
             ],
             [
              0.1111111111111111,
              "#46039f"
             ],
             [
              0.2222222222222222,
              "#7201a8"
             ],
             [
              0.3333333333333333,
              "#9c179e"
             ],
             [
              0.4444444444444444,
              "#bd3786"
             ],
             [
              0.5555555555555556,
              "#d8576b"
             ],
             [
              0.6666666666666666,
              "#ed7953"
             ],
             [
              0.7777777777777778,
              "#fb9f3a"
             ],
             [
              0.8888888888888888,
              "#fdca26"
             ],
             [
              1,
              "#f0f921"
             ]
            ],
            "type": "histogram2d"
           }
          ],
          "histogram2dcontour": [
           {
            "colorbar": {
             "outlinewidth": 0,
             "ticks": ""
            },
            "colorscale": [
             [
              0,
              "#0d0887"
             ],
             [
              0.1111111111111111,
              "#46039f"
             ],
             [
              0.2222222222222222,
              "#7201a8"
             ],
             [
              0.3333333333333333,
              "#9c179e"
             ],
             [
              0.4444444444444444,
              "#bd3786"
             ],
             [
              0.5555555555555556,
              "#d8576b"
             ],
             [
              0.6666666666666666,
              "#ed7953"
             ],
             [
              0.7777777777777778,
              "#fb9f3a"
             ],
             [
              0.8888888888888888,
              "#fdca26"
             ],
             [
              1,
              "#f0f921"
             ]
            ],
            "type": "histogram2dcontour"
           }
          ],
          "mesh3d": [
           {
            "colorbar": {
             "outlinewidth": 0,
             "ticks": ""
            },
            "type": "mesh3d"
           }
          ],
          "parcoords": [
           {
            "line": {
             "colorbar": {
              "outlinewidth": 0,
              "ticks": ""
             }
            },
            "type": "parcoords"
           }
          ],
          "scatter": [
           {
            "marker": {
             "colorbar": {
              "outlinewidth": 0,
              "ticks": ""
             }
            },
            "type": "scatter"
           }
          ],
          "scatter3d": [
           {
            "line": {
             "colorbar": {
              "outlinewidth": 0,
              "ticks": ""
             }
            },
            "marker": {
             "colorbar": {
              "outlinewidth": 0,
              "ticks": ""
             }
            },
            "type": "scatter3d"
           }
          ],
          "scattercarpet": [
           {
            "marker": {
             "colorbar": {
              "outlinewidth": 0,
              "ticks": ""
             }
            },
            "type": "scattercarpet"
           }
          ],
          "scattergeo": [
           {
            "marker": {
             "colorbar": {
              "outlinewidth": 0,
              "ticks": ""
             }
            },
            "type": "scattergeo"
           }
          ],
          "scattergl": [
           {
            "marker": {
             "colorbar": {
              "outlinewidth": 0,
              "ticks": ""
             }
            },
            "type": "scattergl"
           }
          ],
          "scattermapbox": [
           {
            "marker": {
             "colorbar": {
              "outlinewidth": 0,
              "ticks": ""
             }
            },
            "type": "scattermapbox"
           }
          ],
          "scatterpolar": [
           {
            "marker": {
             "colorbar": {
              "outlinewidth": 0,
              "ticks": ""
             }
            },
            "type": "scatterpolar"
           }
          ],
          "scatterpolargl": [
           {
            "marker": {
             "colorbar": {
              "outlinewidth": 0,
              "ticks": ""
             }
            },
            "type": "scatterpolargl"
           }
          ],
          "scatterternary": [
           {
            "marker": {
             "colorbar": {
              "outlinewidth": 0,
              "ticks": ""
             }
            },
            "type": "scatterternary"
           }
          ],
          "surface": [
           {
            "colorbar": {
             "outlinewidth": 0,
             "ticks": ""
            },
            "colorscale": [
             [
              0,
              "#0d0887"
             ],
             [
              0.1111111111111111,
              "#46039f"
             ],
             [
              0.2222222222222222,
              "#7201a8"
             ],
             [
              0.3333333333333333,
              "#9c179e"
             ],
             [
              0.4444444444444444,
              "#bd3786"
             ],
             [
              0.5555555555555556,
              "#d8576b"
             ],
             [
              0.6666666666666666,
              "#ed7953"
             ],
             [
              0.7777777777777778,
              "#fb9f3a"
             ],
             [
              0.8888888888888888,
              "#fdca26"
             ],
             [
              1,
              "#f0f921"
             ]
            ],
            "type": "surface"
           }
          ],
          "table": [
           {
            "cells": {
             "fill": {
              "color": "#EBF0F8"
             },
             "line": {
              "color": "white"
             }
            },
            "header": {
             "fill": {
              "color": "#C8D4E3"
             },
             "line": {
              "color": "white"
             }
            },
            "type": "table"
           }
          ]
         },
         "layout": {
          "annotationdefaults": {
           "arrowcolor": "#2a3f5f",
           "arrowhead": 0,
           "arrowwidth": 1
          },
          "colorscale": {
           "diverging": [
            [
             0,
             "#8e0152"
            ],
            [
             0.1,
             "#c51b7d"
            ],
            [
             0.2,
             "#de77ae"
            ],
            [
             0.3,
             "#f1b6da"
            ],
            [
             0.4,
             "#fde0ef"
            ],
            [
             0.5,
             "#f7f7f7"
            ],
            [
             0.6,
             "#e6f5d0"
            ],
            [
             0.7,
             "#b8e186"
            ],
            [
             0.8,
             "#7fbc41"
            ],
            [
             0.9,
             "#4d9221"
            ],
            [
             1,
             "#276419"
            ]
           ],
           "sequential": [
            [
             0,
             "#0d0887"
            ],
            [
             0.1111111111111111,
             "#46039f"
            ],
            [
             0.2222222222222222,
             "#7201a8"
            ],
            [
             0.3333333333333333,
             "#9c179e"
            ],
            [
             0.4444444444444444,
             "#bd3786"
            ],
            [
             0.5555555555555556,
             "#d8576b"
            ],
            [
             0.6666666666666666,
             "#ed7953"
            ],
            [
             0.7777777777777778,
             "#fb9f3a"
            ],
            [
             0.8888888888888888,
             "#fdca26"
            ],
            [
             1,
             "#f0f921"
            ]
           ],
           "sequentialminus": [
            [
             0,
             "#0d0887"
            ],
            [
             0.1111111111111111,
             "#46039f"
            ],
            [
             0.2222222222222222,
             "#7201a8"
            ],
            [
             0.3333333333333333,
             "#9c179e"
            ],
            [
             0.4444444444444444,
             "#bd3786"
            ],
            [
             0.5555555555555556,
             "#d8576b"
            ],
            [
             0.6666666666666666,
             "#ed7953"
            ],
            [
             0.7777777777777778,
             "#fb9f3a"
            ],
            [
             0.8888888888888888,
             "#fdca26"
            ],
            [
             1,
             "#f0f921"
            ]
           ]
          },
          "colorway": [
           "#636efa",
           "#EF553B",
           "#00cc96",
           "#ab63fa",
           "#FFA15A",
           "#19d3f3",
           "#FF6692",
           "#B6E880",
           "#FF97FF",
           "#FECB52"
          ],
          "font": {
           "color": "#2a3f5f"
          },
          "geo": {
           "bgcolor": "white",
           "lakecolor": "white",
           "landcolor": "#E5ECF6",
           "showlakes": true,
           "showland": true,
           "subunitcolor": "white"
          },
          "hoverlabel": {
           "align": "left"
          },
          "hovermode": "closest",
          "mapbox": {
           "style": "light"
          },
          "paper_bgcolor": "white",
          "plot_bgcolor": "#E5ECF6",
          "polar": {
           "angularaxis": {
            "gridcolor": "white",
            "linecolor": "white",
            "ticks": ""
           },
           "bgcolor": "#E5ECF6",
           "radialaxis": {
            "gridcolor": "white",
            "linecolor": "white",
            "ticks": ""
           }
          },
          "scene": {
           "xaxis": {
            "backgroundcolor": "#E5ECF6",
            "gridcolor": "white",
            "gridwidth": 2,
            "linecolor": "white",
            "showbackground": true,
            "ticks": "",
            "zerolinecolor": "white"
           },
           "yaxis": {
            "backgroundcolor": "#E5ECF6",
            "gridcolor": "white",
            "gridwidth": 2,
            "linecolor": "white",
            "showbackground": true,
            "ticks": "",
            "zerolinecolor": "white"
           },
           "zaxis": {
            "backgroundcolor": "#E5ECF6",
            "gridcolor": "white",
            "gridwidth": 2,
            "linecolor": "white",
            "showbackground": true,
            "ticks": "",
            "zerolinecolor": "white"
           }
          },
          "shapedefaults": {
           "line": {
            "color": "#2a3f5f"
           }
          },
          "ternary": {
           "aaxis": {
            "gridcolor": "white",
            "linecolor": "white",
            "ticks": ""
           },
           "baxis": {
            "gridcolor": "white",
            "linecolor": "white",
            "ticks": ""
           },
           "bgcolor": "#E5ECF6",
           "caxis": {
            "gridcolor": "white",
            "linecolor": "white",
            "ticks": ""
           }
          },
          "title": {
           "x": 0.05
          },
          "xaxis": {
           "automargin": true,
           "gridcolor": "white",
           "linecolor": "white",
           "ticks": "",
           "zerolinecolor": "white",
           "zerolinewidth": 2
          },
          "yaxis": {
           "automargin": true,
           "gridcolor": "white",
           "linecolor": "white",
           "ticks": "",
           "zerolinecolor": "white",
           "zerolinewidth": 2
          }
         }
        }
       }
      },
      "text/html": [
       "<div>\n",
       "        \n",
       "        \n",
       "            <div id=\"03192bec-79a5-4c3b-9898-ae9e90bd12b4\" class=\"plotly-graph-div\" style=\"height:525px; width:100%;\"></div>\n",
       "            <script type=\"text/javascript\">\n",
       "                require([\"plotly\"], function(Plotly) {\n",
       "                    window.PLOTLYENV=window.PLOTLYENV || {};\n",
       "                    \n",
       "                if (document.getElementById(\"03192bec-79a5-4c3b-9898-ae9e90bd12b4\")) {\n",
       "                    Plotly.newPlot(\n",
       "                        '03192bec-79a5-4c3b-9898-ae9e90bd12b4',\n",
       "                        [{\"customdata\": [[784, 25, 0], [494, 25, 0], [2160, 336, 0], [673, 33, 0], [19, 2, 0], [23, 2, 0], [2443, 111, 0], [1111, 17, 0], [103, 3, 0], [2886, 25, 0], [28, 0, 0], [999, 5, 0], [433, 4, 0], [165, 6, 0], [1299, 14, 0], [527, 6, 0], [14336, 393, 0], [1253, 13, 0], [49, 8, 0], [1671, 7, 0], [1231, 50, 0], [73, 5, 0], [3728, 36, 0], [33573, 4440, 0], [35, 1, 0], [5, 0, 0], [397, 28, 0], [1110, 41, 0], [28320, 1736, 0], [136, 1, 0], [747, 36, 0], [542, 32, 0], [56, 1, 0], [122, 0, 0], [848, 17, 0], [1870, 48, 0], [1517, 72, 0], [13, 0, 0], [246, 5, 0], [117, 0, 0], [247, 3, 0], [549, 3, 0], [8447, 385, 0], [26, 0, 0], [14860, 487, 0], [304, 4, 0], [12, 0, 0], [23, 0, 0], [8273, 94, 0], [991, 6, 0], [590, 8, 0], [579, 6, 0], [353, 1, 0], [139, 2, 0], [1566, 8, 0], [254, 2, 0], [146, 2, 0], [168, 6, 0], [327, 6, 0], [841, 13, 0], [1276, 22, 0], [1017, 4, 0], [67803, 3222, 0], [1019, 4, 0], [190, 1, 0], [653, 0, 0], [937, 1, 0], [102, 1, 0], [145, 2, 0], [45, 0, 0], [75, 0, 0], [18, 0, 0], [256, 3, 0], [784, 7, 0], [622, 7, 0], [186, 0, 0], [560, 3, 0], [185, 3, 0], [1, 0, 0], [76, 3, 0], [184, 2, 0], [1268, 1, 0], [3105, 131, 0], [117, 5, 0], [254, 21, 0], [626, 4, 0], [638, 6, 0], [1741, 33, 0], [712, 12, 0], [814, 24, 0], [715, 12, 0], [6216, 166, 0], [184, 0, 0], [11, 0, 0], [6681, 309, 0], [435, 2, 0], [3614, 189, 0], [7858, 388, 0], [2505, 183, 0], [159, 6, 0], [51, 0, 0], [35, 0, 0], [1400, 35, 0], [15, 0, 0], [85, 3, 0], [16, 0, 0], [3237, 72, 0], [86, 0, 0], [55, 0, 0], [145, 8, 0], [217, 3, 0], [18, 0, 0], [391, 0, 0], [6, 0, 0], [35, 2, 0], [158, 8, 0], [133470, 17167, 0], [80, 1, 0], [9, 1, 0], [306, 3, 0], [134753, 3804, 0], [636, 8, 0], [2192, 102, 0], [180, 5, 0], [404, 1, 0], [55, 6, 0], [41, 3, 0], [8, 0, 0], [419, 31, 0], [1579, 134, 0], [1727, 8, 0], [12322, 405, 0], [5136, 469, 0], [76389, 4777, 0], [1415, 79, 0], [12547, 444, 0], [12501, 130, 0], [165155, 21645, 0], [125, 5, 0], [8100, 146, 0], [401, 7, 0], [1295, 16, 0], [225, 10, 0], [10591, 225, 0], [1405, 3, 0], [449, 5, 0], [666, 5, 0], [658, 21, 0], [59, 6, 0], [79, 1, 0], [1091, 30, 0], [3373, 69, 0], [110, 0, 0], [5072, 83, 0], [22, 0, 0], [399, 3, 0], [7, 1, 0], [324, 9, 0], [5399, 406, 0], [2049, 46, 0], [93, 3, 0], [30, 0, 0], [288, 4, 0], [2024, 127, 0], [16, 0, 0], [16, 0, 0], [93, 1, 0], [14, 1, 0], [53, 9, 0], [28153, 3134, 0], [1386, 9, 0], [9, 1, 0], [584, 14, 0], [407, 12, 0], [974, 45, 0], [6740, 150, 0], [910, 4, 0], [6383, 111, 0], [3574, 95, 0], [2, 0, 0], [161, 8, 0], [11475, 254, 0], [5453, 349, 0], [7582, 286, 0], [18091, 599, 0], [3711, 7, 0], [7216, 372, 0], [24490, 198, 0], [136, 0, 0], [15, 0, 0], [12, 0, 0], [372, 36, 0], [5862, 79, 0], [314, 2, 0], [4873, 99, 0], [11, 0, 0], [3699, 10, 0], [863, 6, 0], [1248, 61, 0], [80, 5, 0], [2506, 34, 0], [177644, 18708, 0], [238, 7, 0], [32, 5, 0], [10, 1, 0], [11927, 1203, 0], [26336, 1239, 0], [395, 6, 0], [88, 4, 0], [2643, 43, 0], [81, 3, 0], [114, 8, 0], [780, 35, 0], [69392, 1518, 0], [55, 0, 0], [3764, 108, 0], [5365, 33, 0], [81, 5, 0], [54, 1, 0], [447, 15, 0], [131, 0, 0], [256, 4, 0], [11, 0, 0], [98476, 12868, 0], [492, 8, 0], [636350, 28326, 0], [1302, 4, 0], [197, 9, 0], [267, 0, 0], [48, 2, 0], [23, 3, 0], [-1, -1, 0], [16, 0, 0], [14, 0, 0], [29, 0, 0], [33, 2, 0], [8, 0, 0], [18, 2, 0], [0, 0, 0], [19, 0, 0], [48, 1, 0], [374, 2, 0], [43, 0, 0], [148, 13, 0], [14, 0, 0], [5, 0, 0], [8, 0, 0], [387, 8, 0], [74, 4, 0], [3, 0, 0], [3, 0, 0], [10, 1, 0], [9, 2, 0], [13, 1, 0], [5, 1, 0], [13, 0, 0], [3, 0, 0], [16, 2, 0], [11, 0, 0], [1, 0, 0], [4, 0, 0], [6, 0, 0], [4, 0, 0], [1, 0, 0]], \"hovertemplate\": \"<b>%{text}</b><br><br>Confirmed: %{customdata[0]}<br>Deaths : %{customdata[1]}<br><extra></extra>\", \"lat\": [\"33.0\", \"41.1533\", \"28.0339\", \"42.5063\", \"-11.2027\", \"17.0608\", \"-38.4161\", \"40.0691\", \"-35.4735\", \"-33.8688\", \"-12.4634\", \"-28.0167\", \"-34.9285\", \"-41.4545\", \"-37.8136\", \"-31.9505\", \"47.5162\", \"40.1431\", \"25.0343\", \"26.0275\", \"23.685\", \"13.1939\", \"53.7098\", \"50.8333\", \"9.3077\", \"27.5142\", \"-16.2902\", \"43.9159\", \"-14.235\", \"4.5353\", \"42.7339\", \"12.2383\", \"16.5388\", \"11.55\", \"3.8480000000000003\", \"53.9333\", \"49.2827\", \"37.6489\", \"53.7609\", \"46.5653\", \"53.1355\", \"44.681999999999995\", \"51.2538\", \"46.5107\", \"52.9399\", \"52.9399\", \"6.6111\", \"15.4542\", \"-35.6751\", \"31.8257\", \"40.1824\", \"30.0572\", \"26.0789\", \"37.8099\", \"23.3417\", \"23.8298\", \"26.8154\", \"19.1959\", \"39.549\", \"47.861999999999995\", \"33.882\", \"22.3\", \"30.9756\", \"27.6104\", \"44.0935\", \"32.9711\", \"27.614\", \"43.6661\", \"41.2956\", \"22.1667\", \"37.2692\", \"35.7452\", \"35.1917\", \"36.3427\", \"31.201999999999998\", \"37.5777\", \"30.6171\", \"39.3054\", \"31.6927\", \"41.1129\", \"24.974\", \"29.1832\", \"4.5709\", \"-4.0383\", \"-4.0383\", \"9.7489\", \"7.54\", \"45.1\", \"0.0\", \"22.0\", \"35.1264\", \"49.8175\", \"61.8926\", \"71.7069\", \"56.2639\", \"11.8251\", \"18.7357\", \"-1.8312\", \"26.0\", \"13.7942\", \"1.5\", \"15.1794\", \"58.5953\", \"-26.5225\", \"9.145\", \"-17.7134\", \"64.0\", \"3.9339\", \"-17.6797\", \"16.25\", \"-12.8275\", \"-20.9043\", \"-21.1351\", \"17.9\", \"18.0708\", \"14.6415\", \"46.2276\", \"-0.8037\", \"13.4432\", \"42.3154\", \"51.0\", \"7.9465\", \"39.0742\", \"15.7835\", \"9.9456\", \"5.0\", \"18.9712\", \"41.9029\", \"15.2\", \"47.1625\", \"64.9631\", \"21.0\", \"-0.7893\", \"32.0\", \"33.0\", \"53.1424\", \"31.0\", \"43.0\", \"18.1096\", \"36.0\", \"31.24\", \"48.0196\", \"-0.0236\", \"36.0\", \"29.5\", \"41.2044\", \"56.8796\", \"33.8547\", \"6.4281\", \"47.14\", \"55.1694\", \"49.8153\", \"-18.7669\", \"2.5\", \"3.2028\", \"35.9375\", \"21.0079\", \"-20.2\", \"23.6345\", \"47.4116\", \"43.7333\", \"46.8625\", \"42.5\", \"31.7917\", \"-22.9576\", \"28.1667\", \"12.5186\", \"12.1696\", \"18.0425\", \"52.1326\", \"-40.9006\", \"12.8654\", \"17.6078\", \"9.082\", \"41.6086\", \"60.472\", \"21.0\", \"30.3753\", \"8.538\", \"-6.315\", \"-23.4425\", \"-9.19\", \"13.0\", \"51.9194\", \"39.3999\", \"25.3548\", \"45.9432\", \"60.0\", \"-1.9403\", \"13.9094\", \"12.9843\", \"43.9424\", \"24.0\", \"14.4974\", \"44.0165\", \"-4.6796\", \"1.2833\", \"48.669\", \"46.1512\", \"5.1521\", \"-30.5595\", \"40.0\", \"7.0\", \"12.8628\", \"3.9193\", \"63.0\", \"46.8182\", \"23.7\", \"-6.369\", \"15.0\", \"8.6195\", \"10.6918\", \"34.0\", \"38.9637\", \"1.0\", \"48.3794\", \"24.0\", \"32.3078\", \"19.3133\", \"49.3723\", \"36.1408\", \"54.2361\", \"16.7425\", \"55.3781\", \"-32.5228\", \"37.0902\", \"41.3775\", \"6.4238\", \"16.0\", \"-15.4167\", \"-20.0\", \"0.0\", \"15.415\", \"12.1165\", \"-18.665695\", \"34.802075\", \"-8.874217\", \"13.1939\", \"0.0\", \"19.856270000000002\", \"26.3351\", \"31.9522\", \"11.8037\", \"17.570692\", \"17.357822\", \"64.8255\", \"64.2823\", \"42.602636\", \"21.9162\", \"18.2206\", \"18.4207\", \"21.694000000000003\", \"0.0\", \"-22.3285\", \"-3.3731\", \"8.460555000000001\", \"12.1784\", \"-13.254307999999998\", \"-51.7963\", \"46.8852\", \"6.877000000000001\", \"24.2155\", \"0.18636\", \"15.552726999999999\"], \"lon\": [\"65.0\", \"20.1683\", \"1.6596\", \"1.5218\", \"17.8739\", \"-61.7964\", \"-63.6167\", \"45.0382\", \"149.0124\", \"151.2093\", \"130.8456\", \"153.4\", \"138.6007\", \"145.9707\", \"144.9631\", \"115.8605\", \"14.5501\", \"47.5769\", \"-77.3963\", \"50.55\", \"90.3563\", \"-59.5432\", \"27.9534\", \"4.0\", \"2.3158\", \"90.4336\", \"-63.5887\", \"17.6791\", \"-51.9253\", \"114.7277\", \"25.4858\", \"-1.5616\", \"-23.0418\", \"104.9167\", \"11.5021\", \"-116.5765\", \"-123.1207\", \"-122.6655\", \"-98.8139\", \"-66.4619\", \"-57.6604\", \"-63.7443\", \"-85.3232\", \"-63.4168\", \"-73.5491\", \"-106.4509\", \"20.9394\", \"18.7322\", \"-71.543\", \"117.2264\", \"116.4142\", \"107.874\", \"117.9874\", \"101.0583\", \"113.4244\", \"108.7881\", \"106.8748\", \"109.7453\", \"116.1306\", \"127.7615\", \"113.61399999999999\", \"114.2\", \"112.2707\", \"111.7088\", \"113.9448\", \"119.455\", \"115.7221\", \"126.1923\", \"122.6085\", \"113.55\", \"106.1655\", \"95.9956\", \"108.8701\", \"118.1498\", \"121.4491\", \"112.2922\", \"102.7103\", \"117.323\", \"88.0924\", \"85.2401\", \"101.48700000000001\", \"120.0934\", \"-74.2973\", \"21.7587\", \"21.7587\", \"-83.7534\", \"-5.5471\", \"15.2\", \"0.0\", \"-80.0\", \"33.4299\", \"15.472999999999999\", \"-6.9118\", \"-42.6043\", \"9.5018\", \"42.5903\", \"-70.1627\", \"-78.1834\", \"30.0\", \"-88.8965\", \"10.0\", \"39.7823\", \"25.0136\", \"31.4659\", \"40.4897\", \"178.065\", \"26.0\", \"-53.1258\", \"149.4068\", \"-61.5833\", \"45.1662\", \"165.618\", \"55.2471\", \"-62.8333\", \"-63.0501\", \"-61.0242\", \"2.2137\", \"11.6094\", \"-15.3101\", \"43.3569\", \"9.0\", \"-1.0232\", \"21.8243\", \"-90.2308\", \"-9.6966\", \"-58.75\", \"-72.2852\", \"12.4534\", \"-86.2419\", \"19.5033\", \"-19.0208\", \"78.0\", \"113.9213\", \"53.0\", \"44.0\", \"-7.6921\", \"35.0\", \"12.0\", \"-77.2975\", \"138.0\", \"36.51\", \"66.9237\", \"37.9062\", \"128.0\", \"47.75\", \"74.7661\", \"24.6032\", \"35.8623\", \"-9.4295\", \"9.55\", \"23.8813\", \"6.1296\", \"46.8691\", \"112.5\", \"73.2207\", \"14.3754\", \"10.9408\", \"57.5\", \"-102.5528\", \"28.3699\", \"7.4167\", \"103.8467\", \"19.3\", \"-7.0926\", \"18.4904\", \"84.25\", \"-70.0358\", \"-68.99\", \"-63.0548\", \"5.2913\", \"174.886\", \"-85.2072\", \"8.0817\", \"8.6753\", \"21.7453\", \"8.4689\", \"57.0\", \"69.3451\", \"-80.7821\", \"143.9555\", \"-58.4438\", \"-75.0152\", \"122.0\", \"19.1451\", \"-8.2245\", \"51.1839\", \"24.9668\", \"90.0\", \"29.8739\", \"-60.9789\", \"-61.2872\", \"12.4578\", \"45.0\", \"-14.4524\", \"21.0059\", \"55.492\", \"103.8333\", \"19.699\", \"14.9955\", \"46.1996\", \"22.9375\", \"-4.0\", \"81.0\", \"30.2176\", \"-56.0278\", \"16.0\", \"8.2275\", \"121.0\", \"34.8888\", \"101.0\", \"0.8248\", \"-61.2225\", \"9.0\", \"35.2433\", \"32.0\", \"31.1656\", \"54.0\", \"-64.7505\", \"-81.2546\", \"-2.3644\", \"-5.3536\", \"-4.5481\", \"-62.1874\", \"-3.4360000000000004\", \"-55.7658\", \"-95.7129\", \"64.5853\", \"-66.5897\", \"108.0\", \"28.2833\", \"30.0\", \"0.0\", \"-61.371\", \"-61.678999999999995\", \"35.529562\", \"38.996815000000005\", \"125.727539\", \"-59.5432\", \"0.0\", \"102.495496\", \"17.228331\", \"35.2332\", \"-15.1804\", \"-3.9961660000000006\", \"-62.782998\", \"-124.8457\", \"-135.0\", \"20.902977\", \"95.956\", \"-63.0686\", \"-64.64\", \"-71.7979\", \"0.0\", \"24.6849\", \"29.9189\", \"-11.779889\", \"-68.2385\", \"34.301525\", \"-59.5236\", \"-56.3159\", \"31.307\", \"-12.8858\", \"6.613081\", \"48.516388\"], \"marker\": {\"color\": \"red\", \"opacity\": 0.5, \"size\": [0.112, 0.07057142857142858, 0.30857142857142855, 0.09614285714285714, 0.0027142857142857142, 0.003285714285714286, 0.349, 0.15871428571428572, 0.014714285714285714, 0.4122857142857143, 0.004, 0.1427142857142857, 0.06185714285714286, 0.023571428571428573, 0.18557142857142858, 0.07528571428571429, 2.048, 0.179, 0.007, 0.2387142857142857, 0.17585714285714285, 0.01042857142857143, 0.5325714285714286, 4.796142857142857, 0.005, 0.0007142857142857143, 0.05671428571428572, 0.15857142857142856, 4.045714285714285, 0.019428571428571427, 0.10671428571428572, 0.07742857142857143, 0.008, 0.01742857142857143, 0.12114285714285715, 0.2671428571428571, 0.21671428571428572, 0.0018571428571428571, 0.03514285714285714, 0.016714285714285713, 0.03528571428571429, 0.07842857142857143, 1.2067142857142856, 0.0037142857142857142, 2.1228571428571428, 0.04342857142857143, 0.0017142857142857142, 0.003285714285714286, 1.181857142857143, 0.14157142857142857, 0.08428571428571428, 0.08271428571428571, 0.05042857142857143, 0.019857142857142858, 0.22371428571428573, 0.03628571428571428, 0.02085714285714286, 0.024, 0.046714285714285715, 0.12014285714285715, 0.18228571428571427, 0.1452857142857143, 9.686142857142856, 0.14557142857142857, 0.027142857142857142, 0.09328571428571429, 0.13385714285714287, 0.014571428571428572, 0.020714285714285713, 0.0064285714285714285, 0.010714285714285714, 0.0025714285714285713, 0.036571428571428574, 0.112, 0.08885714285714286, 0.026571428571428572, 0.08, 0.02642857142857143, 0.00014285714285714287, 0.010857142857142857, 0.026285714285714287, 0.18114285714285713, 0.44357142857142856, 0.016714285714285713, 0.03628571428571428, 0.08942857142857143, 0.09114285714285714, 0.24871428571428572, 0.10171428571428572, 0.11628571428571428, 0.10214285714285715, 0.888, 0.026285714285714287, 0.0015714285714285715, 0.9544285714285714, 0.062142857142857146, 0.5162857142857142, 1.1225714285714286, 0.3578571428571429, 0.022714285714285715, 0.007285714285714286, 0.005, 0.2, 0.002142857142857143, 0.012142857142857143, 0.002285714285714286, 0.4624285714285714, 0.012285714285714285, 0.007857142857142858, 0.020714285714285713, 0.031, 0.0025714285714285713, 0.055857142857142855, 0.0008571428571428571, 0.005, 0.022571428571428572, 19.06714285714286, 0.011428571428571429, 0.0012857142857142856, 0.04371428571428571, 19.25042857142857, 0.09085714285714286, 0.31314285714285717, 0.025714285714285714, 0.05771428571428571, 0.007857142857142858, 0.005857142857142857, 0.001142857142857143, 0.05985714285714286, 0.22557142857142856, 0.24671428571428572, 1.7602857142857142, 0.7337142857142858, 10.912714285714285, 0.20214285714285715, 1.7924285714285715, 1.7858571428571428, 23.59357142857143, 0.017857142857142856, 1.1571428571428573, 0.05728571428571429, 0.185, 0.03214285714285714, 1.513, 0.2007142857142857, 0.06414285714285714, 0.09514285714285714, 0.094, 0.00842857142857143, 0.011285714285714286, 0.15585714285714286, 0.4818571428571429, 0.015714285714285715, 0.7245714285714285, 0.003142857142857143, 0.057, 0.001, 0.046285714285714284, 0.7712857142857142, 0.2927142857142857, 0.013285714285714286, 0.004285714285714286, 0.04114285714285714, 0.28914285714285715, 0.002285714285714286, 0.002285714285714286, 0.013285714285714286, 0.002, 0.007571428571428572, 4.021857142857143, 0.198, 0.0012857142857142856, 0.08342857142857144, 0.05814285714285714, 0.13914285714285715, 0.9628571428571429, 0.13, 0.9118571428571428, 0.5105714285714286, 0.00028571428571428574, 0.023, 1.6392857142857142, 0.779, 1.0831428571428572, 2.5844285714285715, 0.5301428571428571, 1.030857142857143, 3.4985714285714287, 0.019428571428571427, 0.002142857142857143, 0.0017142857142857142, 0.053142857142857144, 0.8374285714285714, 0.04485714285714286, 0.6961428571428572, 0.0015714285714285715, 0.5284285714285715, 0.12328571428571429, 0.1782857142857143, 0.011428571428571429, 0.358, 25.377714285714287, 0.034, 0.004571428571428572, 0.0014285714285714286, 1.703857142857143, 3.7622857142857145, 0.056428571428571425, 0.012571428571428572, 0.37757142857142856, 0.011571428571428571, 0.016285714285714285, 0.11142857142857143, 9.913142857142857, 0.007857142857142858, 0.5377142857142857, 0.7664285714285715, 0.011571428571428571, 0.007714285714285714, 0.06385714285714286, 0.018714285714285715, 0.036571428571428574, 0.0015714285714285715, 14.068, 0.07028571428571428, 90.90714285714286, 0.186, 0.028142857142857143, 0.038142857142857145, 0.006857142857142857, 0.003285714285714286, 0.0, 0.002285714285714286, 0.002, 0.004142857142857143, 0.004714285714285714, 0.001142857142857143, 0.0025714285714285713, 0.0, 0.0027142857142857142, 0.006857142857142857, 0.05342857142857143, 0.006142857142857143, 0.021142857142857144, 0.002, 0.0007142857142857143, 0.001142857142857143, 0.055285714285714285, 0.010571428571428572, 0.00042857142857142855, 0.00042857142857142855, 0.0014285714285714286, 0.0012857142857142856, 0.0018571428571428571, 0.0007142857142857143, 0.0018571428571428571, 0.00042857142857142855, 0.002285714285714286, 0.0015714285714285715, 0.00014285714285714287, 0.0005714285714285715, 0.0008571428571428571, 0.0005714285714285715, 0.00014285714285714287]}, \"mode\": \"markers\", \"name\": \"Confirmed Cases\", \"showlegend\": true, \"text\": [\"Kajran , Daykundi , Afghanistan\", \"Labinot-Fushe , Elbasan , Albania\", \"I-n-Salah , Tamanghasset , Algeria\", \"Andorra la Vella , Andorra la Vella , Andorra\", \"Camacupa , Bie , Angola\", \"All Saints , Saint Peter , Antigua and Barbuda\", \"Jacinto Arauz , La Pampa , Argentina\", \"T'azagyugh , Geghark'unik'i Marz , Armenia\", \"Macarthur , Australian Capital Territory , Australia\", \"Sydney , New South Wales , Australia\", \"Darwin , Northern Territory , Australia\", \"Surfers Paradise , Queensland , Australia\", \"Adelaide , South Australia , Australia\", \"Penguin , Tasmania , Australia\", \"Melbourne , Victoria , Australia\", \"Perth , Western Australia , Australia\", \"Johnsbach , Styria , Austria\", \"Agdzhabedy , Aghjabadi Rayon , Azerbaijan\", \"Nassau , New Providence , Bahamas\", \"Dar Kulayb , Central Governorate , Bahrain\", \"Azimpur , Dhaka , Bangladesh\", \"Welchman Hall , Saint Thomas , Barbados\", \"Dukora , Minsk , Belarus\", \"Ninove , Flanders , Belgium\", \"Beterou , Borgou , Benin\", \"Trongsa , Tongsa , Bhutan\", \"Ascension , Santa Cruz , Bolivia\", \"Voljevac , Federation of Bosnia and Herzegovina , Bosnia and Herzegovina\", \"Mozarlandia , Goias , Brazil\", \"Tutong , Tutong , Brunei\", \"Tryavna , Gabrovo , Bulgaria\", \"Ouagadougou , Centre , Burkina Faso\", \"Santa Maria , Sal , Cabo Verde\", \"Phnom Penh , Phnom Penh , Cambodia\", \"Yaounde , Centre , Cameroon\", \"Edson , Alberta , Canada\", \"West End , British Columbia , Canada\", \"Pacifica , California , Canada\", \"Thompson , Manitoba , Canada\", \"Fredericton , New Brunswick , Canada\", \"Saint-Augustin , Quebec , Canada\", \"Dartmouth , Nova Scotia , Canada\", \"Hornepayne , Ontario , Canada\", \"Kensington , Prince Edward Island , Canada\", \"Chibougamau , Quebec , Canada\", \"Shellbrook , Saskatchewan , Canada\", \"Ippy , Ouaka , Central African Republic\", \"Ati , Batha , Chad\", \"Colbun , Maule , Chile\", \"Hefei , Anhui Sheng , China\", \"Xiaotangshan , Beijing , China\", \"Gaojia , Chongqing Shi , China\", \"Xinyang , Fujian , China\", \"Obo , Qinghai Sheng , China\", \"Zhongluotan , Guangdong , China\", \"Xincheng Chengguanzhen , Guangxi Zhuangzu Zizhiqu , China\", \"Guiyang , Guizhou Sheng , China\", \"Limushan , Hainan , China\", \"Liulihe , Beijing , China\", \"Sihaidian , Heilongjiang Sheng , China\", \"Shuangmiao , Henan Sheng , China\", \"Kowloon , Kowloon City , China\", \"Macheng , Hubei , China\", \"Lianyuan , Hunan , China\", \"Mandalt , Inner Mongolia , China\", \"Zhoushan , Jiangsu Sheng , China\", \"Gongfang , Jiangxi Sheng , China\", \"Kouqian , Jilin Sheng , China\", \"Gaotuo , Liaoning , China\", \"Macau , Macau , China\", \"Hongsipu , Ningxia Huizu Zizhiqu , China\", \"Dagur , Qinghai Sheng , China\", \"Guanzhuang , Shaanxi , China\", \"Nanma , Shandong Sheng , China\", \"Xuhui , Shanghai Shi , China\", \"Qingyuan , Shanxi Sheng , China\", \"Muping , Sichuan , China\", \"Huozhuangzi , Tianjin Shi , China\", \"Jiajuedibu , Tibet Autonomous Region , China\", \"Yuli , Xinjiang Uygur Zizhiqu , China\", \"Longchuan , Yunnan , China\", \"Huangtianfan , Zhejiang Sheng , China\", \"San Antonio del Tequendama , Cundinamarca , Colombia\", \"Mweka , Kasai-Occidental , Congo (Brazzaville)\", \"Mweka , Kasai-Occidental , Congo (Kinshasa)\", \"Pejibaye , Cartago , Costa Rica\", \"Beoumi , Vallee du Bandama , Cote d'Ivoire\", \"Brinje , Licko-Senjska , Croatia\", \"Takoradi , Western , Diamond Princess\", \"Topes de Collantes , Sancti Spiritus , Cuba\", \"Geri , Lefkosia , Cyprus\", \"Golcuv Jenikov , Vysocina , Czechia\", \"Sandur , Sandoy , Denmark\", \"Tasiilaq , Sermersooq , Denmark\", \"Kjellerup , Central Jutland , Denmark\", \"Tadjoura , Tadjourah , Djibouti\", \"Villa Altagracia , San Cristobal , Dominican Republic\", \"Palora , Morona-Santiago , Ecuador\", \"Al Kharijah , Muhafazat al Wadi al Jadid , Egypt\", \"San Martin , Cuscatlan , El Salvador\", \"Bitica ,  , Equatorial Guinea\", \"Adi Keyh , Debub , Eritrea\", \"Vandra , Paernumaa , Estonia\", \"Manzini , Manzini , Eswatini\", \"Gelemso , Oromiya , Ethiopia\", \"Ba , Western , Fiji\", \"Piippola , Northern Ostrobothnia , Finland\", \"Camopi , Guyane , France\", \"Bowen , Queensland , France\", \"Baie-Mahault , Guadeloupe , France\", \"Dembeni , Dembeni , France\", \"Ponerihouen , North Province , France\", \"Saint-Leu , Reunion , France\", \"Gustavia ,  , France\", \"Marigot ,  , France\", \"Saint-Joseph , Martinique , France\", \"Gouzon , Limousin , France\", \"Booue , Ogooue-Ivindo , Gabon\", \"Bureng , Lower River , Gambia\", \"Gori , Racha-Lechkhumi and Kvemo Svaneti , Georgia\", \"Haina , Hesse , Germany\", \"Ejura , Ashanti , Ghana\", \"Karpenisi , Central Greece , Greece\", \"Chisec , Alta Verapaz , Guatemala\", \"Tokonou , Kankan , Guinea\", \"Mahdia , Potaro-Siparuni , Guyana\", \"Desarmes , Artibonite , Haiti\", \"Vatican City ,  , Holy See\", \"La Guata , Olancho , Honduras\", \"Taborfalva , Pest , Hungary\", \"Saudarkrokur , Northwest , Iceland\", \"Chandur , Maharashtra , India\", \"Buntok , Central Kalimantan , Indonesia\", \"Khavas Kuh , Yazd , Iran\", \"Abu Ghurayb , Mayorality of Baghdad , Iraq\", \"Ferbane , Leinster , Ireland\", \"Yeroham , Southern District , Israel\", \"Citta della Pieve , Umbria , Italy\", \"Chapelton , Clarendon , Jamaica\", \"Tatsuno , Nagano , Japan\", \"Al Azraq ash Shamali , Amman , Jordan\", \"Zhezqazghan , Qaraghandy , Kazakhstan\", \"Maua , Isiolo , Kenya\", \"Gimcheon , Gyeongsangbuk-do , Korea, South\", \"Al Jahra' , Muhafazat al Jahra' , Kuwait\", \"Baetov , Naryn , Kyrgyzstan\", \"Ogre , Ogre , Latvia\", \"Zahle , Beqaa , Lebanon\", \"Gbarnga , Bong , Liberia\", \"Triesenberg , Triesenberg , Liechtenstein\", \"Kedainiai , Kauno apskritis , Lithuania\", \"Colmar , Luxembourg , Luxembourg\", \"Miarinarivo , Itasy , Madagascar\", \"Kapit , Sarawak , Malaysia\", \"Felidhoo , Vaavu Atholhu , Maldives\", \"Imgarr , L-Imgarr , Malta\", \"Bilma , Agadez , Mauritania\", \"Pailles , Moka , Mauritius\", \"Canitas de Felipe Pescador , Zacatecas , Mexico\", \"Telenesti , Taraclia , Moldova\", \"Monaco , Commune de Monaco , Monaco\", \"Ongon , OEvoerhangay , Mongolia\", \"Podgorica , Podgorica , Montenegro\", \"Demnate , Tadla-Azilal , Morocco\", \"Gobabis , Omaheke , Namibia\", \"Lamjung , Western Region , Nepal\", \"Oranjestad ,  , Netherlands\", \"Sint Michiel Liber ,  , Netherlands\", \"Cul de Sac ,  , Netherlands\", \"Soest , Utrecht , Netherlands\", \"Paraparaumu , Wellington , New Zealand\", \"Rio Blanco , Matagalpa , Nicaragua\", \"Tchirozerine , Agadez , Niger\", \"Wamba , Nassarawa , Nigeria\", \"Gorno Orizari , Veles , North Macedonia\", \"Al , Buskerud , Norway\", \"Hayma' , Al Wusta , Oman\", \"Kohlu , Balochistan , Pakistan\", \"El Cope , Cocle , Panama\", \"Ialibu , Southern Highlands , Papua New Guinea\", \"Concepcion , Concepcion , Paraguay\", \"Puerto Inca , Huanuco , Peru\", \"Corcuera , Mimaropa , Philippines\", \"Dalikow , Lodz Voivodeship , Poland\", \"Tramagal , Santarem , Portugal\", \"Ash Shahaniyah , Baladiyat ar Rayyan , Qatar\", \"Soars , Brasov , Romania\", \"Podkamennaya Tunguska , Krasnoyarskiy , Russia\", \"Gitarama , Southern Province , Rwanda\", \"Anse La Raye , Anse-la-Raye , Saint Lucia\", \"Port Elizabeth , Grenadines , Saint Vincent and the Grenadines\", \"Borgo Maggiore , Borgo Maggiore , San Marino\", \"Ad Dawadimi , Ar Riyad , Saudi Arabia\", \"Koungheul , Kaffrine , Senegal\", \"Kragujevac , Central Serbia , Serbia\", \"Cascade , Cascade , Seychelles\", \"Singapore ,  , Singapore\", \"Cierny Balog , Banskobystricky , Slovakia\", \"Zagorje ob Savi , Zagorje ob Savi , Slovenia\", \"Dhuusamarreeb , Galguduud , Somalia\", \"Victoria West , Northern Cape , South Africa\", \"Recas , Castille-La Mancha , Spain\", \"Badulla , Uva , Sri Lanka\", \"El Obeid , Shamal Kurdufan , Sudan\", \"Brownsweg , Brokopondo , Suriname\", \"Hammarstrand , Jaemtland , Sweden\", \"Giswil , Obwalden , Switzerland\", \"Lugu , Taiwan , Taiwan*\", \"Kilimatinde , Singida , Tanzania\", \"Tha Luang , Lop Buri , Thailand\", \"Sotouboua , Centrale , Togo\", \"Arima , Borough of Arima , Trinidad and Tobago\", \"Kebili , Qibili , Tunisia\", \"Himmetdede , Kayseri , Turkey\", \"Kiboga , Central Region , Uganda\", \"Dobrovelychkivka , Kirovohrad , Ukraine\", \"Abu Dhabi , Abu Dhabi , United Arab Emirates\", \"Hamilton , Hamilton city , United Kingdom\", \"Bodden Town ,  , United Kingdom\", \"Saint Peter Port , St Peter Port , United Kingdom\", \"Gibraltar ,  , United Kingdom\", \"Douglas , Douglas , United Kingdom\", \"Saint Peters , Saint Peter , United Kingdom\", \"Moffat , Scotland , United Kingdom\", \"La Paloma , Durazno , Uruguay\", \"Coffeyville , Kansas , US\", \"Tomdibuloq , Navoiy , Uzbekistan\", \"Puerto Carreno , Vichada , Venezuela\", \"Hoa Vang , Da Nang , Vietnam\", \"Lusaka , Lusaka , Zambia\", \"Shurugwi , Midlands , Zimbabwe\", \"Takoradi , Western , Canada\", \"Pont Casse , Saint Paul , Dominica\", \"Grenville , Saint Andrew , Grenada\", \"Dondo , Sofala , Mozambique\", \"As Sukhnah , Homs , Syria\", \"Same , Manufahi , Timor-Leste\", \"Welchman Hall , Saint Thomas , Belize\", \"Takoradi , Western , Canada\", \"Xiang Ngeun , Louangphabang , Laos\", \"Sabha , Sabha , Libya\", \"Dura al Qar` , West Bank , West Bank and Gaza\", \"Buba , Quinara , Guinea-Bissau\", \"Goundam , Tombouctou , Mali\", \"Nicola Town , Christ Church Nichola Town , Saint Kitts and Nevis\", \"Norman Wells , Northwest Territories , Canada\", \"Fort McPherson , Northwest Territories , Canada\", \"Glogovac , Pristina , Kosovo\", \"Sagaing , Sagain , Burma\", \"The Valley ,  , United Kingdom\", \"Road Town ,  , United Kingdom\", \"Cockburn Town ,  , United Kingdom\", \"Takoradi , Western , MS Zaandam\", \"Mopipi , Central , Botswana\", \"Gitega , Gitega , Burundi\", \"Masaka , Northern Province , Sierra Leone\", \"Dorp Antriol , Bonaire , Netherlands\", \"Nkhotakota , Central Region , Malawi\", \"Stanley ,  , United Kingdom\", \"Saint-Pierre , Saint-Pierre , France\", \"Bor , Jonglei , South Sudan\", \"Gueltat Zemmour , Laayoune-Boujdour-Sakia El Hamra , Western Sahara\", \"Sao Tome , Sao Tome Island , Sao Tome and Principe\", \"Al Batinah , Muhafazat Hadramawt , Yemen\"], \"type\": \"scattermapbox\"}],\n",
       "                        {\"autosize\": true, \"mapbox\": {\"layers\": [{\"below\": \"traces\", \"sourcetype\": \"raster\"}], \"style\": \"carto-darkmatter\"}, \"template\": {\"data\": {\"bar\": [{\"error_x\": {\"color\": \"#2a3f5f\"}, \"error_y\": {\"color\": \"#2a3f5f\"}, \"marker\": {\"line\": {\"color\": \"#E5ECF6\", \"width\": 0.5}}, \"type\": \"bar\"}], \"barpolar\": [{\"marker\": {\"line\": {\"color\": \"#E5ECF6\", \"width\": 0.5}}, \"type\": \"barpolar\"}], \"carpet\": [{\"aaxis\": {\"endlinecolor\": \"#2a3f5f\", \"gridcolor\": \"white\", \"linecolor\": \"white\", \"minorgridcolor\": \"white\", \"startlinecolor\": \"#2a3f5f\"}, \"baxis\": {\"endlinecolor\": \"#2a3f5f\", \"gridcolor\": \"white\", \"linecolor\": \"white\", \"minorgridcolor\": \"white\", \"startlinecolor\": \"#2a3f5f\"}, \"type\": \"carpet\"}], \"choropleth\": [{\"colorbar\": {\"outlinewidth\": 0, \"ticks\": \"\"}, \"type\": \"choropleth\"}], \"contour\": [{\"colorbar\": {\"outlinewidth\": 0, \"ticks\": \"\"}, \"colorscale\": [[0.0, \"#0d0887\"], [0.1111111111111111, \"#46039f\"], [0.2222222222222222, \"#7201a8\"], [0.3333333333333333, \"#9c179e\"], [0.4444444444444444, \"#bd3786\"], [0.5555555555555556, \"#d8576b\"], [0.6666666666666666, \"#ed7953\"], [0.7777777777777778, \"#fb9f3a\"], [0.8888888888888888, \"#fdca26\"], [1.0, \"#f0f921\"]], \"type\": \"contour\"}], \"contourcarpet\": [{\"colorbar\": {\"outlinewidth\": 0, \"ticks\": \"\"}, \"type\": \"contourcarpet\"}], \"heatmap\": [{\"colorbar\": {\"outlinewidth\": 0, \"ticks\": \"\"}, \"colorscale\": [[0.0, \"#0d0887\"], [0.1111111111111111, \"#46039f\"], [0.2222222222222222, \"#7201a8\"], [0.3333333333333333, \"#9c179e\"], [0.4444444444444444, \"#bd3786\"], [0.5555555555555556, \"#d8576b\"], [0.6666666666666666, \"#ed7953\"], [0.7777777777777778, \"#fb9f3a\"], [0.8888888888888888, \"#fdca26\"], [1.0, \"#f0f921\"]], \"type\": \"heatmap\"}], \"heatmapgl\": [{\"colorbar\": {\"outlinewidth\": 0, \"ticks\": \"\"}, \"colorscale\": [[0.0, \"#0d0887\"], [0.1111111111111111, \"#46039f\"], [0.2222222222222222, \"#7201a8\"], [0.3333333333333333, \"#9c179e\"], [0.4444444444444444, \"#bd3786\"], [0.5555555555555556, \"#d8576b\"], [0.6666666666666666, \"#ed7953\"], [0.7777777777777778, \"#fb9f3a\"], [0.8888888888888888, \"#fdca26\"], [1.0, \"#f0f921\"]], \"type\": \"heatmapgl\"}], \"histogram\": [{\"marker\": {\"colorbar\": {\"outlinewidth\": 0, \"ticks\": \"\"}}, \"type\": \"histogram\"}], \"histogram2d\": [{\"colorbar\": {\"outlinewidth\": 0, \"ticks\": \"\"}, \"colorscale\": [[0.0, \"#0d0887\"], [0.1111111111111111, \"#46039f\"], [0.2222222222222222, \"#7201a8\"], [0.3333333333333333, \"#9c179e\"], [0.4444444444444444, \"#bd3786\"], [0.5555555555555556, \"#d8576b\"], [0.6666666666666666, \"#ed7953\"], [0.7777777777777778, \"#fb9f3a\"], [0.8888888888888888, \"#fdca26\"], [1.0, \"#f0f921\"]], \"type\": \"histogram2d\"}], \"histogram2dcontour\": [{\"colorbar\": {\"outlinewidth\": 0, \"ticks\": \"\"}, \"colorscale\": [[0.0, \"#0d0887\"], [0.1111111111111111, \"#46039f\"], [0.2222222222222222, \"#7201a8\"], [0.3333333333333333, \"#9c179e\"], [0.4444444444444444, \"#bd3786\"], [0.5555555555555556, \"#d8576b\"], [0.6666666666666666, \"#ed7953\"], [0.7777777777777778, \"#fb9f3a\"], [0.8888888888888888, \"#fdca26\"], [1.0, \"#f0f921\"]], \"type\": \"histogram2dcontour\"}], \"mesh3d\": [{\"colorbar\": {\"outlinewidth\": 0, \"ticks\": \"\"}, \"type\": \"mesh3d\"}], \"parcoords\": [{\"line\": {\"colorbar\": {\"outlinewidth\": 0, \"ticks\": \"\"}}, \"type\": \"parcoords\"}], \"scatter\": [{\"marker\": {\"colorbar\": {\"outlinewidth\": 0, \"ticks\": \"\"}}, \"type\": \"scatter\"}], \"scatter3d\": [{\"line\": {\"colorbar\": {\"outlinewidth\": 0, \"ticks\": \"\"}}, \"marker\": {\"colorbar\": {\"outlinewidth\": 0, \"ticks\": \"\"}}, \"type\": \"scatter3d\"}], \"scattercarpet\": [{\"marker\": {\"colorbar\": {\"outlinewidth\": 0, \"ticks\": \"\"}}, \"type\": \"scattercarpet\"}], \"scattergeo\": [{\"marker\": {\"colorbar\": {\"outlinewidth\": 0, \"ticks\": \"\"}}, \"type\": \"scattergeo\"}], \"scattergl\": [{\"marker\": {\"colorbar\": {\"outlinewidth\": 0, \"ticks\": \"\"}}, \"type\": \"scattergl\"}], \"scattermapbox\": [{\"marker\": {\"colorbar\": {\"outlinewidth\": 0, \"ticks\": \"\"}}, \"type\": \"scattermapbox\"}], \"scatterpolar\": [{\"marker\": {\"colorbar\": {\"outlinewidth\": 0, \"ticks\": \"\"}}, \"type\": \"scatterpolar\"}], \"scatterpolargl\": [{\"marker\": {\"colorbar\": {\"outlinewidth\": 0, \"ticks\": \"\"}}, \"type\": \"scatterpolargl\"}], \"scatterternary\": [{\"marker\": {\"colorbar\": {\"outlinewidth\": 0, \"ticks\": \"\"}}, \"type\": \"scatterternary\"}], \"surface\": [{\"colorbar\": {\"outlinewidth\": 0, \"ticks\": \"\"}, \"colorscale\": [[0.0, \"#0d0887\"], [0.1111111111111111, \"#46039f\"], [0.2222222222222222, \"#7201a8\"], [0.3333333333333333, \"#9c179e\"], [0.4444444444444444, \"#bd3786\"], [0.5555555555555556, \"#d8576b\"], [0.6666666666666666, \"#ed7953\"], [0.7777777777777778, \"#fb9f3a\"], [0.8888888888888888, \"#fdca26\"], [1.0, \"#f0f921\"]], \"type\": \"surface\"}], \"table\": [{\"cells\": {\"fill\": {\"color\": \"#EBF0F8\"}, \"line\": {\"color\": \"white\"}}, \"header\": {\"fill\": {\"color\": \"#C8D4E3\"}, \"line\": {\"color\": \"white\"}}, \"type\": \"table\"}]}, \"layout\": {\"annotationdefaults\": {\"arrowcolor\": \"#2a3f5f\", \"arrowhead\": 0, \"arrowwidth\": 1}, \"colorscale\": {\"diverging\": [[0, \"#8e0152\"], [0.1, \"#c51b7d\"], [0.2, \"#de77ae\"], [0.3, \"#f1b6da\"], [0.4, \"#fde0ef\"], [0.5, \"#f7f7f7\"], [0.6, \"#e6f5d0\"], [0.7, \"#b8e186\"], [0.8, \"#7fbc41\"], [0.9, \"#4d9221\"], [1, \"#276419\"]], \"sequential\": [[0.0, \"#0d0887\"], [0.1111111111111111, \"#46039f\"], [0.2222222222222222, \"#7201a8\"], [0.3333333333333333, \"#9c179e\"], [0.4444444444444444, \"#bd3786\"], [0.5555555555555556, \"#d8576b\"], [0.6666666666666666, \"#ed7953\"], [0.7777777777777778, \"#fb9f3a\"], [0.8888888888888888, \"#fdca26\"], [1.0, \"#f0f921\"]], \"sequentialminus\": [[0.0, \"#0d0887\"], [0.1111111111111111, \"#46039f\"], [0.2222222222222222, \"#7201a8\"], [0.3333333333333333, \"#9c179e\"], [0.4444444444444444, \"#bd3786\"], [0.5555555555555556, \"#d8576b\"], [0.6666666666666666, \"#ed7953\"], [0.7777777777777778, \"#fb9f3a\"], [0.8888888888888888, \"#fdca26\"], [1.0, \"#f0f921\"]]}, \"colorway\": [\"#636efa\", \"#EF553B\", \"#00cc96\", \"#ab63fa\", \"#FFA15A\", \"#19d3f3\", \"#FF6692\", \"#B6E880\", \"#FF97FF\", \"#FECB52\"], \"font\": {\"color\": \"#2a3f5f\"}, \"geo\": {\"bgcolor\": \"white\", \"lakecolor\": \"white\", \"landcolor\": \"#E5ECF6\", \"showlakes\": true, \"showland\": true, \"subunitcolor\": \"white\"}, \"hoverlabel\": {\"align\": \"left\"}, \"hovermode\": \"closest\", \"mapbox\": {\"style\": \"light\"}, \"paper_bgcolor\": \"white\", \"plot_bgcolor\": \"#E5ECF6\", \"polar\": {\"angularaxis\": {\"gridcolor\": \"white\", \"linecolor\": \"white\", \"ticks\": \"\"}, \"bgcolor\": \"#E5ECF6\", \"radialaxis\": {\"gridcolor\": \"white\", \"linecolor\": \"white\", \"ticks\": \"\"}}, \"scene\": {\"xaxis\": {\"backgroundcolor\": \"#E5ECF6\", \"gridcolor\": \"white\", \"gridwidth\": 2, \"linecolor\": \"white\", \"showbackground\": true, \"ticks\": \"\", \"zerolinecolor\": \"white\"}, \"yaxis\": {\"backgroundcolor\": \"#E5ECF6\", \"gridcolor\": \"white\", \"gridwidth\": 2, \"linecolor\": \"white\", \"showbackground\": true, \"ticks\": \"\", \"zerolinecolor\": \"white\"}, \"zaxis\": {\"backgroundcolor\": \"#E5ECF6\", \"gridcolor\": \"white\", \"gridwidth\": 2, \"linecolor\": \"white\", \"showbackground\": true, \"ticks\": \"\", \"zerolinecolor\": \"white\"}}, \"shapedefaults\": {\"line\": {\"color\": \"#2a3f5f\"}}, \"ternary\": {\"aaxis\": {\"gridcolor\": \"white\", \"linecolor\": \"white\", \"ticks\": \"\"}, \"baxis\": {\"gridcolor\": \"white\", \"linecolor\": \"white\", \"ticks\": \"\"}, \"bgcolor\": \"#E5ECF6\", \"caxis\": {\"gridcolor\": \"white\", \"linecolor\": \"white\", \"ticks\": \"\"}}, \"title\": {\"x\": 0.05}, \"xaxis\": {\"automargin\": true, \"gridcolor\": \"white\", \"linecolor\": \"white\", \"ticks\": \"\", \"zerolinecolor\": \"white\", \"zerolinewidth\": 2}, \"yaxis\": {\"automargin\": true, \"gridcolor\": \"white\", \"linecolor\": \"white\", \"ticks\": \"\", \"zerolinecolor\": \"white\", \"zerolinewidth\": 2}}}},\n",
       "                        {\"responsive\": true}\n",
       "                    ).then(function(){\n",
       "                            \n",
       "var gd = document.getElementById('03192bec-79a5-4c3b-9898-ae9e90bd12b4');\n",
       "var x = new MutationObserver(function (mutations, observer) {{\n",
       "        var display = window.getComputedStyle(gd).display;\n",
       "        if (!display || display === 'none') {{\n",
       "            console.log([gd, 'removed!']);\n",
       "            Plotly.purge(gd);\n",
       "            observer.disconnect();\n",
       "        }}\n",
       "}});\n",
       "\n",
       "// Listen for the removal of the full notebook cells\n",
       "var notebookContainer = gd.closest('#notebook-container');\n",
       "if (notebookContainer) {{\n",
       "    x.observe(notebookContainer, {childList: true});\n",
       "}}\n",
       "\n",
       "// Listen for the clearing of the current output cell\n",
       "var outputEl = gd.closest('.output');\n",
       "if (outputEl) {{\n",
       "    x.observe(outputEl, {childList: true});\n",
       "}}\n",
       "\n",
       "                        })\n",
       "                };\n",
       "                });\n",
       "            </script>\n",
       "        </div>"
      ]
     },
     "metadata": {},
     "output_type": "display_data"
    }
   ],
   "source": [
    "#Plotting the graph\n",
    "\n",
    "data = [map_confirmed]\n",
    "fig = go.Figure(data=data,layout=layout)\n",
    "fig.show()"
   ]
  }
 ],
 "metadata": {
  "kernelspec": {
   "display_name": "Python 3",
   "language": "python",
   "name": "python3"
  },
  "language_info": {
   "codemirror_mode": {
    "name": "ipython",
    "version": 3
   },
   "file_extension": ".py",
   "mimetype": "text/x-python",
   "name": "python",
   "nbconvert_exporter": "python",
   "pygments_lexer": "ipython3",
   "version": "3.7.4"
  }
 },
 "nbformat": 4,
 "nbformat_minor": 2
}
